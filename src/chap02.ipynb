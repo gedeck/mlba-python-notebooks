{
 "cells": [
  {
   "cell_type": "markdown",
   "id": "b6420db8",
   "metadata": {},
   "source": [
    "# Chapter 02 \n",
    " Machine Learning for Business Analytics<br>\n",
    "Concepts, Techniques, and Applications in Python<br>\n",
    "by Galit Shmueli, Peter C. Bruce, Peter Gedeck, Nitin R. Patel\n",
    "\n",
    "Publisher: Wiley; 2nd edition (2024) <br>\n",
    "<!-- ISBN-13: 978-3031075650 -->\n",
    "\n",
    "(c) 2024 Galit Shmueli, Peter C. Bruce, Peter Gedeck, Nitin R. Patel\n",
    "\n",
    "The code needs to be executed in sequence.\n",
    "\n",
    "Python packages and Python itself change over time. This can cause warnings or errors.\n",
    "\"Warnings\" are for information only and can usually be ignored.\n",
    "\"Errors\" will stop execution and need to be fixed in order to get results.\n",
    "\n",
    "If you come across an issue with the code, please follow these steps\n",
    "\n",
    "- Check the repository (https://gedeck.github.io/sdsa-code-solutions/) to see if the code has been upgraded. This might solve the problem.\n",
    "- Report the problem using the issue tracker at https://github.com/gedeck/sdsa-code-solutions/issues\n",
    "- Paste the error message into Google and see if someone else already found a solution"
   ]
  },
  {
   "cell_type": "code",
   "execution_count": 1,
   "id": "f6954040",
   "metadata": {
    "execution": {
     "iopub.execute_input": "2024-10-30T13:48:14.146482Z",
     "iopub.status.busy": "2024-10-30T13:48:14.146371Z",
     "iopub.status.idle": "2024-10-30T13:48:14.152007Z",
     "shell.execute_reply": "2024-10-30T13:48:14.151647Z"
    }
   },
   "outputs": [],
   "source": [
    "from pathlib import Path\n",
    "figures_dir = Path().cwd().parents[1] / 'figures' / 'chapter_2'\n",
    "figures_dir.mkdir(parents=True, exist_ok=True)\n",
    "def saveFigure(filename):\n",
    "    plt.savefig(figures_dir / filename, format='pdf', bbox_inches='tight')\n",
    "def writeFigure(fig, filename):\n",
    "    fig.write_image(figures_dir / filename)\n",
    "\n",
    "# suppress FutureWarnings (avoid this in your own code)\n",
    "import os\n",
    "os.environ['PYTHONWARNINGS']='ignore'\n"
   ]
  },
  {
   "cell_type": "code",
   "execution_count": 2,
   "id": "1598dbde",
   "metadata": {
    "execution": {
     "iopub.execute_input": "2024-10-30T13:48:14.154185Z",
     "iopub.status.busy": "2024-10-30T13:48:14.154057Z",
     "iopub.status.idle": "2024-10-30T13:48:14.919445Z",
     "shell.execute_reply": "2024-10-30T13:48:14.919186Z"
    }
   },
   "outputs": [
    {
     "name": "stdout",
     "output_type": "stream",
     "text": [
      "      TOTAL VALUE    TAX  LOT SQFT   YR BUILT  GROSS AREA   LIVING AREA  \\\n",
      "0            344.2  4330       9965      1880         2436         1352   \n",
      "1            412.6  5190       6590      1945         3108         1976   \n",
      "2            330.1  4152       7500      1890         2294         1371   \n",
      "3            498.6  6272      13773      1957         5032         2608   \n",
      "4            331.5  4170       5000      1910         2370         1438   \n",
      "...            ...   ...        ...       ...          ...          ...   \n",
      "5797         404.8  5092       6762      1938         2594         1714   \n",
      "5798         407.9  5131       9408      1950         2414         1333   \n",
      "5799         406.5  5113       7198      1987         2480         1674   \n",
      "5800         308.7  3883       6890      1946         2000         1000   \n",
      "5801         447.6  5630       7406      1950         2510         1600   \n",
      "\n",
      "      FLOORS   ROOMS  BEDROOMS   FULL BATH  HALF BATH  KITCHEN  FIREPLACE  \\\n",
      "0         2.0      6          3          1          1        1          0   \n",
      "1         2.0     10          4          2          1        1          0   \n",
      "2         2.0      8          4          1          1        1          0   \n",
      "3         1.0      9          5          1          1        1          1   \n",
      "4         2.0      7          3          2          0        1          0   \n",
      "...       ...    ...        ...        ...        ...      ...        ...   \n",
      "5797      2.0      9          3          2          1        1          1   \n",
      "5798      2.0      6          3          1          1        1          1   \n",
      "5799      2.0      7          3          1          1        1          1   \n",
      "5800      1.0      5          2          1          0        1          0   \n",
      "5801      2.0      7          3          1          1        1          1   \n",
      "\n",
      "     REMODEL  \n",
      "0        NaN  \n",
      "1     Recent  \n",
      "2        NaN  \n",
      "3        NaN  \n",
      "4        NaN  \n",
      "...      ...  \n",
      "5797  Recent  \n",
      "5798     NaN  \n",
      "5799     NaN  \n",
      "5800     NaN  \n",
      "5801     NaN  \n",
      "\n",
      "[5802 rows x 14 columns]\n",
      "Number of rows  5802\n",
      "Mean of TOTAL_VALUE  392.6857149258877\n"
     ]
    },
    {
     "data": {
      "text/html": [
       "<div>\n",
       "<style scoped>\n",
       "    .dataframe tbody tr th:only-of-type {\n",
       "        vertical-align: middle;\n",
       "    }\n",
       "\n",
       "    .dataframe tbody tr th {\n",
       "        vertical-align: top;\n",
       "    }\n",
       "\n",
       "    .dataframe thead th {\n",
       "        text-align: right;\n",
       "    }\n",
       "</style>\n",
       "<table border=\"1\" class=\"dataframe\">\n",
       "  <thead>\n",
       "    <tr style=\"text-align: right;\">\n",
       "      <th></th>\n",
       "      <th>TOTAL_VALUE</th>\n",
       "      <th>TAX</th>\n",
       "      <th>LOT_SQFT</th>\n",
       "      <th>YR_BUILT</th>\n",
       "      <th>GROSS_AREA</th>\n",
       "      <th>LIVING_AREA</th>\n",
       "      <th>FLOORS</th>\n",
       "      <th>ROOMS</th>\n",
       "      <th>BEDROOMS</th>\n",
       "      <th>FULL_BATH</th>\n",
       "      <th>HALF_BATH</th>\n",
       "      <th>KITCHEN</th>\n",
       "      <th>FIREPLACE</th>\n",
       "    </tr>\n",
       "  </thead>\n",
       "  <tbody>\n",
       "    <tr>\n",
       "      <th>count</th>\n",
       "      <td>5802.000000</td>\n",
       "      <td>5802.000000</td>\n",
       "      <td>5802.000000</td>\n",
       "      <td>5802.000000</td>\n",
       "      <td>5802.000000</td>\n",
       "      <td>5802.000000</td>\n",
       "      <td>5802.000000</td>\n",
       "      <td>5802.000000</td>\n",
       "      <td>5802.000000</td>\n",
       "      <td>5802.000000</td>\n",
       "      <td>5802.000000</td>\n",
       "      <td>5802.00000</td>\n",
       "      <td>5802.000000</td>\n",
       "    </tr>\n",
       "    <tr>\n",
       "      <th>mean</th>\n",
       "      <td>392.685715</td>\n",
       "      <td>4939.485867</td>\n",
       "      <td>6278.083764</td>\n",
       "      <td>1936.744916</td>\n",
       "      <td>2924.842123</td>\n",
       "      <td>1657.065322</td>\n",
       "      <td>1.683730</td>\n",
       "      <td>6.994829</td>\n",
       "      <td>3.230093</td>\n",
       "      <td>1.296794</td>\n",
       "      <td>0.613926</td>\n",
       "      <td>1.01534</td>\n",
       "      <td>0.739917</td>\n",
       "    </tr>\n",
       "    <tr>\n",
       "      <th>std</th>\n",
       "      <td>99.177414</td>\n",
       "      <td>1247.649118</td>\n",
       "      <td>2669.707974</td>\n",
       "      <td>35.989910</td>\n",
       "      <td>883.984726</td>\n",
       "      <td>540.456726</td>\n",
       "      <td>0.444884</td>\n",
       "      <td>1.437657</td>\n",
       "      <td>0.846607</td>\n",
       "      <td>0.522040</td>\n",
       "      <td>0.533839</td>\n",
       "      <td>0.12291</td>\n",
       "      <td>0.565108</td>\n",
       "    </tr>\n",
       "    <tr>\n",
       "      <th>min</th>\n",
       "      <td>105.000000</td>\n",
       "      <td>1320.000000</td>\n",
       "      <td>997.000000</td>\n",
       "      <td>0.000000</td>\n",
       "      <td>821.000000</td>\n",
       "      <td>504.000000</td>\n",
       "      <td>1.000000</td>\n",
       "      <td>3.000000</td>\n",
       "      <td>1.000000</td>\n",
       "      <td>1.000000</td>\n",
       "      <td>0.000000</td>\n",
       "      <td>1.00000</td>\n",
       "      <td>0.000000</td>\n",
       "    </tr>\n",
       "    <tr>\n",
       "      <th>25%</th>\n",
       "      <td>325.125000</td>\n",
       "      <td>4089.500000</td>\n",
       "      <td>4772.000000</td>\n",
       "      <td>1920.000000</td>\n",
       "      <td>2347.000000</td>\n",
       "      <td>1308.000000</td>\n",
       "      <td>1.000000</td>\n",
       "      <td>6.000000</td>\n",
       "      <td>3.000000</td>\n",
       "      <td>1.000000</td>\n",
       "      <td>0.000000</td>\n",
       "      <td>1.00000</td>\n",
       "      <td>0.000000</td>\n",
       "    </tr>\n",
       "    <tr>\n",
       "      <th>50%</th>\n",
       "      <td>375.900000</td>\n",
       "      <td>4728.000000</td>\n",
       "      <td>5683.000000</td>\n",
       "      <td>1935.000000</td>\n",
       "      <td>2700.000000</td>\n",
       "      <td>1548.500000</td>\n",
       "      <td>2.000000</td>\n",
       "      <td>7.000000</td>\n",
       "      <td>3.000000</td>\n",
       "      <td>1.000000</td>\n",
       "      <td>1.000000</td>\n",
       "      <td>1.00000</td>\n",
       "      <td>1.000000</td>\n",
       "    </tr>\n",
       "    <tr>\n",
       "      <th>75%</th>\n",
       "      <td>438.775000</td>\n",
       "      <td>5519.500000</td>\n",
       "      <td>7022.250000</td>\n",
       "      <td>1955.000000</td>\n",
       "      <td>3239.000000</td>\n",
       "      <td>1873.750000</td>\n",
       "      <td>2.000000</td>\n",
       "      <td>8.000000</td>\n",
       "      <td>4.000000</td>\n",
       "      <td>2.000000</td>\n",
       "      <td>1.000000</td>\n",
       "      <td>1.00000</td>\n",
       "      <td>1.000000</td>\n",
       "    </tr>\n",
       "    <tr>\n",
       "      <th>max</th>\n",
       "      <td>1217.800000</td>\n",
       "      <td>15319.000000</td>\n",
       "      <td>46411.000000</td>\n",
       "      <td>2011.000000</td>\n",
       "      <td>8154.000000</td>\n",
       "      <td>5289.000000</td>\n",
       "      <td>3.000000</td>\n",
       "      <td>14.000000</td>\n",
       "      <td>9.000000</td>\n",
       "      <td>5.000000</td>\n",
       "      <td>3.000000</td>\n",
       "      <td>2.00000</td>\n",
       "      <td>4.000000</td>\n",
       "    </tr>\n",
       "  </tbody>\n",
       "</table>\n",
       "</div>"
      ],
      "text/plain": [
       "       TOTAL_VALUE           TAX      LOT_SQFT     YR_BUILT   GROSS_AREA  \\\n",
       "count  5802.000000   5802.000000   5802.000000  5802.000000  5802.000000   \n",
       "mean    392.685715   4939.485867   6278.083764  1936.744916  2924.842123   \n",
       "std      99.177414   1247.649118   2669.707974    35.989910   883.984726   \n",
       "min     105.000000   1320.000000    997.000000     0.000000   821.000000   \n",
       "25%     325.125000   4089.500000   4772.000000  1920.000000  2347.000000   \n",
       "50%     375.900000   4728.000000   5683.000000  1935.000000  2700.000000   \n",
       "75%     438.775000   5519.500000   7022.250000  1955.000000  3239.000000   \n",
       "max    1217.800000  15319.000000  46411.000000  2011.000000  8154.000000   \n",
       "\n",
       "       LIVING_AREA       FLOORS        ROOMS     BEDROOMS    FULL_BATH  \\\n",
       "count  5802.000000  5802.000000  5802.000000  5802.000000  5802.000000   \n",
       "mean   1657.065322     1.683730     6.994829     3.230093     1.296794   \n",
       "std     540.456726     0.444884     1.437657     0.846607     0.522040   \n",
       "min     504.000000     1.000000     3.000000     1.000000     1.000000   \n",
       "25%    1308.000000     1.000000     6.000000     3.000000     1.000000   \n",
       "50%    1548.500000     2.000000     7.000000     3.000000     1.000000   \n",
       "75%    1873.750000     2.000000     8.000000     4.000000     2.000000   \n",
       "max    5289.000000     3.000000    14.000000     9.000000     5.000000   \n",
       "\n",
       "         HALF_BATH     KITCHEN    FIREPLACE  \n",
       "count  5802.000000  5802.00000  5802.000000  \n",
       "mean      0.613926     1.01534     0.739917  \n",
       "std       0.533839     0.12291     0.565108  \n",
       "min       0.000000     1.00000     0.000000  \n",
       "25%       0.000000     1.00000     0.000000  \n",
       "50%       1.000000     1.00000     1.000000  \n",
       "75%       1.000000     1.00000     1.000000  \n",
       "max       3.000000     2.00000     4.000000  "
      ]
     },
     "execution_count": 2,
     "metadata": {},
     "output_type": "execute_result"
    }
   ],
   "source": [
    "# Import required packages\n",
    "import pandas as pd\n",
    "import mlba\n",
    "\n",
    "# Load data\n",
    "housing_df = mlba.load_data('WestRoxbury.csv')\n",
    "housing_df.shape   # find the dimension of data frame\n",
    "housing_df.head()  # show the first five rows\n",
    "print(housing_df)  # show all the data\n",
    "\n",
    "# Rename columns: replace spaces with '_' to allow dot notation\n",
    "housing_df = housing_df.rename(columns={'TOTAL VALUE ': 'TOTAL_VALUE'}) # explicit\n",
    "housing_df.columns = [s.strip().replace(' ', '_') for s in housing_df.columns] # all columns\n",
    "\n",
    "# Practice showing the first four rows of the data\n",
    "housing_df.loc[0:3]  # loc[a:b] gives rows a to b, inclusive\n",
    "housing_df.iloc[0:4]  # iloc[a:b] gives rows a to b-1\n",
    "\n",
    "# Different ways of showing the first 10 values in column TOTAL_VALUE\n",
    "housing_df['TOTAL_VALUE'].iloc[0:10]\n",
    "housing_df.iloc[0:10]['TOTAL_VALUE']\n",
    "housing_df.iloc[0:10].TOTAL_VALUE  # use dot notation if the column name has no spaces\n",
    "\n",
    "# Show the fifth row of the first 10 columns\n",
    "housing_df.iloc[4][0:10]\n",
    "housing_df.iloc[4, 0:10]\n",
    "housing_df.iloc[4:5, 0:10]  # use a slice to return a data frame\n",
    "\n",
    "# Use pd.concat to combine non-consecutive columns into a new data frame.\n",
    "# The axis argument specifies the dimension along which the\n",
    "# concatenation happens, 0=rows, 1=columns.\n",
    "pd.concat([housing_df.iloc[4:6,0:2], housing_df.iloc[4:6,4:6]], axis=1)\n",
    "\n",
    "# To specify a full column, use:\n",
    "housing_df.iloc[:,0:1]\n",
    "housing_df.TOTAL_VALUE\n",
    "housing_df['TOTAL_VALUE'][0:10]  # show the first 10 rows of the first column\n",
    "\n",
    "# Descriptive statistics\n",
    "print('Number of rows ', len(housing_df['TOTAL_VALUE'])) # show length of first column\n",
    "print('Mean of TOTAL_VALUE ', housing_df['TOTAL_VALUE'].mean()) # show mean of column\n",
    "housing_df.describe() # show summary statistics for each column"
   ]
  },
  {
   "cell_type": "code",
   "execution_count": 3,
   "id": "e3fca799",
   "metadata": {
    "execution": {
     "iopub.execute_input": "2024-10-30T13:48:14.920809Z",
     "iopub.status.busy": "2024-10-30T13:48:14.920700Z",
     "iopub.status.idle": "2024-10-30T13:48:14.922371Z",
     "shell.execute_reply": "2024-10-30T13:48:14.922168Z"
    }
   },
   "outputs": [],
   "source": [
    "import numpy as np\n",
    "import pandas as pd\n",
    "from sklearn.model_selection import train_test_split\n",
    "from sklearn.metrics import r2_score\n",
    "from sklearn.linear_model import LinearRegression"
   ]
  },
  {
   "cell_type": "code",
   "execution_count": 4,
   "id": "d25158b0",
   "metadata": {
    "execution": {
     "iopub.execute_input": "2024-10-30T13:48:14.923530Z",
     "iopub.status.busy": "2024-10-30T13:48:14.923464Z",
     "iopub.status.idle": "2024-10-30T13:48:14.930299Z",
     "shell.execute_reply": "2024-10-30T13:48:14.930077Z"
    }
   },
   "outputs": [
    {
     "data": {
      "text/html": [
       "<div>\n",
       "<style scoped>\n",
       "    .dataframe tbody tr th:only-of-type {\n",
       "        vertical-align: middle;\n",
       "    }\n",
       "\n",
       "    .dataframe tbody tr th {\n",
       "        vertical-align: top;\n",
       "    }\n",
       "\n",
       "    .dataframe thead th {\n",
       "        text-align: right;\n",
       "    }\n",
       "</style>\n",
       "<table border=\"1\" class=\"dataframe\">\n",
       "  <thead>\n",
       "    <tr style=\"text-align: right;\">\n",
       "      <th></th>\n",
       "      <th>TOTAL_VALUE</th>\n",
       "      <th>TAX</th>\n",
       "      <th>LOT_SQFT</th>\n",
       "      <th>YR_BUILT</th>\n",
       "      <th>GROSS_AREA</th>\n",
       "      <th>LIVING_AREA</th>\n",
       "      <th>FLOORS</th>\n",
       "      <th>ROOMS</th>\n",
       "      <th>BEDROOMS</th>\n",
       "      <th>FULL_BATH</th>\n",
       "      <th>HALF_BATH</th>\n",
       "      <th>KITCHEN</th>\n",
       "      <th>FIREPLACE</th>\n",
       "      <th>REMODEL</th>\n",
       "    </tr>\n",
       "  </thead>\n",
       "  <tbody>\n",
       "    <tr>\n",
       "      <th>4747</th>\n",
       "      <td>465.4</td>\n",
       "      <td>5854</td>\n",
       "      <td>6378</td>\n",
       "      <td>1938</td>\n",
       "      <td>2904</td>\n",
       "      <td>1600</td>\n",
       "      <td>2.0</td>\n",
       "      <td>9</td>\n",
       "      <td>3</td>\n",
       "      <td>1</td>\n",
       "      <td>1</td>\n",
       "      <td>1</td>\n",
       "      <td>1</td>\n",
       "      <td>Old</td>\n",
       "    </tr>\n",
       "    <tr>\n",
       "      <th>5361</th>\n",
       "      <td>435.7</td>\n",
       "      <td>5481</td>\n",
       "      <td>6079</td>\n",
       "      <td>1955</td>\n",
       "      <td>3362</td>\n",
       "      <td>2074</td>\n",
       "      <td>2.0</td>\n",
       "      <td>10</td>\n",
       "      <td>5</td>\n",
       "      <td>1</td>\n",
       "      <td>1</td>\n",
       "      <td>1</td>\n",
       "      <td>1</td>\n",
       "      <td>Old</td>\n",
       "    </tr>\n",
       "    <tr>\n",
       "      <th>1701</th>\n",
       "      <td>293.1</td>\n",
       "      <td>3687</td>\n",
       "      <td>4800</td>\n",
       "      <td>1950</td>\n",
       "      <td>2604</td>\n",
       "      <td>1134</td>\n",
       "      <td>1.0</td>\n",
       "      <td>7</td>\n",
       "      <td>3</td>\n",
       "      <td>1</td>\n",
       "      <td>0</td>\n",
       "      <td>1</td>\n",
       "      <td>1</td>\n",
       "      <td>Old</td>\n",
       "    </tr>\n",
       "    <tr>\n",
       "      <th>1007</th>\n",
       "      <td>332.8</td>\n",
       "      <td>4186</td>\n",
       "      <td>5060</td>\n",
       "      <td>1943</td>\n",
       "      <td>2405</td>\n",
       "      <td>1341</td>\n",
       "      <td>1.5</td>\n",
       "      <td>5</td>\n",
       "      <td>3</td>\n",
       "      <td>1</td>\n",
       "      <td>1</td>\n",
       "      <td>1</td>\n",
       "      <td>0</td>\n",
       "      <td>Old</td>\n",
       "    </tr>\n",
       "    <tr>\n",
       "      <th>3722</th>\n",
       "      <td>300.5</td>\n",
       "      <td>3780</td>\n",
       "      <td>4300</td>\n",
       "      <td>1924</td>\n",
       "      <td>2480</td>\n",
       "      <td>1333</td>\n",
       "      <td>1.5</td>\n",
       "      <td>6</td>\n",
       "      <td>2</td>\n",
       "      <td>1</td>\n",
       "      <td>1</td>\n",
       "      <td>1</td>\n",
       "      <td>1</td>\n",
       "      <td>Old</td>\n",
       "    </tr>\n",
       "    <tr>\n",
       "      <th>...</th>\n",
       "      <td>...</td>\n",
       "      <td>...</td>\n",
       "      <td>...</td>\n",
       "      <td>...</td>\n",
       "      <td>...</td>\n",
       "      <td>...</td>\n",
       "      <td>...</td>\n",
       "      <td>...</td>\n",
       "      <td>...</td>\n",
       "      <td>...</td>\n",
       "      <td>...</td>\n",
       "      <td>...</td>\n",
       "      <td>...</td>\n",
       "      <td>...</td>\n",
       "    </tr>\n",
       "    <tr>\n",
       "      <th>1067</th>\n",
       "      <td>254.1</td>\n",
       "      <td>3196</td>\n",
       "      <td>6383</td>\n",
       "      <td>1950</td>\n",
       "      <td>2082</td>\n",
       "      <td>925</td>\n",
       "      <td>1.0</td>\n",
       "      <td>5</td>\n",
       "      <td>3</td>\n",
       "      <td>1</td>\n",
       "      <td>0</td>\n",
       "      <td>1</td>\n",
       "      <td>0</td>\n",
       "      <td>NaN</td>\n",
       "    </tr>\n",
       "    <tr>\n",
       "      <th>3945</th>\n",
       "      <td>561.7</td>\n",
       "      <td>7066</td>\n",
       "      <td>8897</td>\n",
       "      <td>1963</td>\n",
       "      <td>3223</td>\n",
       "      <td>2809</td>\n",
       "      <td>1.0</td>\n",
       "      <td>10</td>\n",
       "      <td>4</td>\n",
       "      <td>1</td>\n",
       "      <td>1</td>\n",
       "      <td>1</td>\n",
       "      <td>2</td>\n",
       "      <td>NaN</td>\n",
       "    </tr>\n",
       "    <tr>\n",
       "      <th>4374</th>\n",
       "      <td>323.0</td>\n",
       "      <td>4063</td>\n",
       "      <td>5045</td>\n",
       "      <td>1934</td>\n",
       "      <td>2491</td>\n",
       "      <td>1233</td>\n",
       "      <td>1.5</td>\n",
       "      <td>5</td>\n",
       "      <td>2</td>\n",
       "      <td>1</td>\n",
       "      <td>0</td>\n",
       "      <td>1</td>\n",
       "      <td>0</td>\n",
       "      <td>NaN</td>\n",
       "    </tr>\n",
       "    <tr>\n",
       "      <th>2949</th>\n",
       "      <td>319.1</td>\n",
       "      <td>4014</td>\n",
       "      <td>6375</td>\n",
       "      <td>1880</td>\n",
       "      <td>2014</td>\n",
       "      <td>1271</td>\n",
       "      <td>2.0</td>\n",
       "      <td>6</td>\n",
       "      <td>3</td>\n",
       "      <td>1</td>\n",
       "      <td>1</td>\n",
       "      <td>1</td>\n",
       "      <td>0</td>\n",
       "      <td>NaN</td>\n",
       "    </tr>\n",
       "    <tr>\n",
       "      <th>5784</th>\n",
       "      <td>391.2</td>\n",
       "      <td>4921</td>\n",
       "      <td>4455</td>\n",
       "      <td>1935</td>\n",
       "      <td>2331</td>\n",
       "      <td>1439</td>\n",
       "      <td>2.0</td>\n",
       "      <td>7</td>\n",
       "      <td>3</td>\n",
       "      <td>1</td>\n",
       "      <td>1</td>\n",
       "      <td>1</td>\n",
       "      <td>1</td>\n",
       "      <td>NaN</td>\n",
       "    </tr>\n",
       "  </tbody>\n",
       "</table>\n",
       "<p>4642 rows × 14 columns</p>\n",
       "</div>"
      ],
      "text/plain": [
       "      TOTAL_VALUE   TAX  LOT_SQFT  YR_BUILT  GROSS_AREA  LIVING_AREA  FLOORS  \\\n",
       "4747        465.4  5854      6378      1938        2904         1600     2.0   \n",
       "5361        435.7  5481      6079      1955        3362         2074     2.0   \n",
       "1701        293.1  3687      4800      1950        2604         1134     1.0   \n",
       "1007        332.8  4186      5060      1943        2405         1341     1.5   \n",
       "3722        300.5  3780      4300      1924        2480         1333     1.5   \n",
       "...           ...   ...       ...       ...         ...          ...     ...   \n",
       "1067        254.1  3196      6383      1950        2082          925     1.0   \n",
       "3945        561.7  7066      8897      1963        3223         2809     1.0   \n",
       "4374        323.0  4063      5045      1934        2491         1233     1.5   \n",
       "2949        319.1  4014      6375      1880        2014         1271     2.0   \n",
       "5784        391.2  4921      4455      1935        2331         1439     2.0   \n",
       "\n",
       "      ROOMS  BEDROOMS  FULL_BATH  HALF_BATH  KITCHEN  FIREPLACE REMODEL  \n",
       "4747      9         3          1          1        1          1     Old  \n",
       "5361     10         5          1          1        1          1     Old  \n",
       "1701      7         3          1          0        1          1     Old  \n",
       "1007      5         3          1          1        1          0     Old  \n",
       "3722      6         2          1          1        1          1     Old  \n",
       "...     ...       ...        ...        ...      ...        ...     ...  \n",
       "1067      5         3          1          0        1          0     NaN  \n",
       "3945     10         4          1          1        1          2     NaN  \n",
       "4374      5         2          1          0        1          0     NaN  \n",
       "2949      6         3          1          1        1          0     NaN  \n",
       "5784      7         3          1          1        1          1     NaN  \n",
       "\n",
       "[4642 rows x 14 columns]"
      ]
     },
     "execution_count": 4,
     "metadata": {},
     "output_type": "execute_result"
    }
   ],
   "source": [
    "# random sample of 5 houses\n",
    "housing_df.sample(5)\n",
    "\n",
    "# oversample houses with over 10 rooms\n",
    "weights = [0.9 if rooms > 10 else 0.01 for rooms in housing_df.ROOMS]\n",
    "housing_df.sample(5, weights=weights)\n",
    "\n",
    "# stratified sampling of houses by remodeling state\n",
    "housing_df.groupby('REMODEL', dropna=False).sample(frac=0.8)"
   ]
  },
  {
   "cell_type": "markdown",
   "id": "fb3ddd2d",
   "metadata": {},
   "source": [
    " \n",
    "Note the addition of the keyword argument `dropna` in the third example. The `REMODEL` column contains missing values and by default, `groupby` will drop these records. By setting `dropna=False`, we retain the missing values in the sample."
   ]
  },
  {
   "cell_type": "code",
   "execution_count": 5,
   "id": "b41da9a2",
   "metadata": {
    "execution": {
     "iopub.execute_input": "2024-10-30T13:48:14.931579Z",
     "iopub.status.busy": "2024-10-30T13:48:14.931502Z",
     "iopub.status.idle": "2024-10-30T13:48:14.934805Z",
     "shell.execute_reply": "2024-10-30T13:48:14.934550Z"
    }
   },
   "outputs": [
    {
     "data": {
      "text/plain": [
       "CategoricalDtype(categories=['None', 'Old', 'Recent'], ordered=False, categories_dtype=object)"
      ]
     },
     "execution_count": 5,
     "metadata": {},
     "output_type": "execute_result"
    }
   ],
   "source": [
    "housing_df.dtypes[['TOTAL_VALUE', 'FLOORS', 'REMODEL']]  # print the data type\n",
    "\n",
    "housing_df.columns  # print a list of variables\n",
    "\n",
    "# REMODEL needs to be converted to a categorical variable after\n",
    "# replacing the missing values with 'None'\n",
    "housing_df.REMODEL = housing_df.REMODEL.fillna('None').astype('category')\n",
    "housing_df.REMODEL.cat.categories  # Show number of categories\n",
    "housing_df.REMODEL.dtype  # Check type of converted variable"
   ]
  },
  {
   "cell_type": "markdown",
   "id": "e65c501f",
   "metadata": {},
   "source": [
    " Partial Output"
   ]
  },
  {
   "cell_type": "code",
   "execution_count": 6,
   "id": "50a5fc1a",
   "metadata": {
    "execution": {
     "iopub.execute_input": "2024-10-30T13:48:14.936025Z",
     "iopub.status.busy": "2024-10-30T13:48:14.935959Z",
     "iopub.status.idle": "2024-10-30T13:48:14.939816Z",
     "shell.execute_reply": "2024-10-30T13:48:14.939603Z"
    }
   },
   "outputs": [
    {
     "data": {
      "text/html": [
       "<div>\n",
       "<style scoped>\n",
       "    .dataframe tbody tr th:only-of-type {\n",
       "        vertical-align: middle;\n",
       "    }\n",
       "\n",
       "    .dataframe tbody tr th {\n",
       "        vertical-align: top;\n",
       "    }\n",
       "\n",
       "    .dataframe thead th {\n",
       "        text-align: right;\n",
       "    }\n",
       "</style>\n",
       "<table border=\"1\" class=\"dataframe\">\n",
       "  <thead>\n",
       "    <tr style=\"text-align: right;\">\n",
       "      <th></th>\n",
       "      <th>REMODEL_None</th>\n",
       "      <th>REMODEL_Old</th>\n",
       "      <th>REMODEL_Recent</th>\n",
       "    </tr>\n",
       "  </thead>\n",
       "  <tbody>\n",
       "    <tr>\n",
       "      <th>0</th>\n",
       "      <td>1</td>\n",
       "      <td>0</td>\n",
       "      <td>0</td>\n",
       "    </tr>\n",
       "    <tr>\n",
       "      <th>1</th>\n",
       "      <td>0</td>\n",
       "      <td>0</td>\n",
       "      <td>1</td>\n",
       "    </tr>\n",
       "    <tr>\n",
       "      <th>2</th>\n",
       "      <td>1</td>\n",
       "      <td>0</td>\n",
       "      <td>0</td>\n",
       "    </tr>\n",
       "    <tr>\n",
       "      <th>3</th>\n",
       "      <td>1</td>\n",
       "      <td>0</td>\n",
       "      <td>0</td>\n",
       "    </tr>\n",
       "    <tr>\n",
       "      <th>4</th>\n",
       "      <td>1</td>\n",
       "      <td>0</td>\n",
       "      <td>0</td>\n",
       "    </tr>\n",
       "  </tbody>\n",
       "</table>\n",
       "</div>"
      ],
      "text/plain": [
       "   REMODEL_None  REMODEL_Old  REMODEL_Recent\n",
       "0             1            0               0\n",
       "1             0            0               1\n",
       "2             1            0               0\n",
       "3             1            0               0\n",
       "4             1            0               0"
      ]
     },
     "execution_count": 6,
     "metadata": {},
     "output_type": "execute_result"
    }
   ],
   "source": [
    "# the missing values will create a third category\n",
    "# use the arguments drop_first and dummy_na to control the outcome\n",
    "housing_df = pd.get_dummies(housing_df, prefix_sep='_', dummy_na=True, dtype=int)\n",
    "housing_df.loc[:, 'REMODEL_None':'REMODEL_Recent'].head(5)"
   ]
  },
  {
   "cell_type": "markdown",
   "id": "42c61199",
   "metadata": {},
   "source": [
    " Partial Output"
   ]
  },
  {
   "cell_type": "code",
   "execution_count": 7,
   "id": "54937843",
   "metadata": {
    "execution": {
     "iopub.execute_input": "2024-10-30T13:48:14.940907Z",
     "iopub.status.busy": "2024-10-30T13:48:14.940845Z",
     "iopub.status.idle": "2024-10-30T13:48:14.944361Z",
     "shell.execute_reply": "2024-10-30T13:48:14.944142Z"
    }
   },
   "outputs": [
    {
     "name": "stdout",
     "output_type": "stream",
     "text": [
      "Number of rows with valid BEDROOMS values after setting to NA:  5792\n",
      "Number of rows after removing rows with missing values:  5792\n",
      "Number of rows with valid BEDROOMS values after filling NA values:  5802\n"
     ]
    }
   ],
   "source": [
    "# To illustrate missing data procedures, we first convert a few entries for\n",
    "# bedrooms to NA's. Then we impute these missing values using the median of the\n",
    "# remaining values.\n",
    "missingRows = housing_df.sample(10).index\n",
    "housing_df.loc[missingRows, 'BEDROOMS'] = np.nan\n",
    "print('Number of rows with valid BEDROOMS values after setting to NA: ',\n",
    "      housing_df['BEDROOMS'].count())\n",
    "\n",
    "# remove rows with missing values\n",
    "reduced_df = housing_df.dropna()\n",
    "print('Number of rows after removing rows with missing values: ', len(reduced_df))\n",
    "\n",
    "# replace the missing values using the median of the remaining values.\n",
    "medianBedrooms = housing_df['BEDROOMS'].median()\n",
    "housing_df.BEDROOMS = housing_df.BEDROOMS.fillna(value=medianBedrooms)\n",
    "print('Number of rows with valid BEDROOMS values after filling NA values: ',\n",
    "      housing_df['BEDROOMS'].count())"
   ]
  },
  {
   "cell_type": "markdown",
   "id": "7e0860e3",
   "metadata": {},
   "source": [
    " Output"
   ]
  },
  {
   "cell_type": "code",
   "execution_count": 8,
   "id": "6c857f98",
   "metadata": {
    "execution": {
     "iopub.execute_input": "2024-10-30T13:48:14.945501Z",
     "iopub.status.busy": "2024-10-30T13:48:14.945410Z",
     "iopub.status.idle": "2024-10-30T13:48:14.951790Z",
     "shell.execute_reply": "2024-10-30T13:48:14.951524Z"
    }
   },
   "outputs": [],
   "source": [
    "from sklearn.preprocessing import MinMaxScaler, StandardScaler\n",
    "df = housing_df.copy()\n",
    "\n",
    "# Normalizing a data frame\n",
    "\n",
    "# pandas:\n",
    "norm_df = (housing_df - housing_df.mean()) / housing_df.std()\n",
    "\n",
    "# scikit-learn:\n",
    "scaler = StandardScaler()\n",
    "norm_df = pd.DataFrame(scaler.fit_transform(housing_df),\n",
    "                       index=housing_df.index, columns=housing_df.columns)\n",
    "# the result of the transformation is a numpy array, we convert it into a data frame\n",
    "\n",
    "# Rescaling a data frame\n",
    "\n",
    "# pandas:\n",
    "norm_df = (housing_df - housing_df.min()) / (housing_df.max() - housing_df.min())\n",
    "\n",
    "# scikit-learn:\n",
    "scaler = MinMaxScaler()\n",
    "norm_df = pd.DataFrame(scaler.fit_transform(housing_df),\n",
    "                       index=housing_df.index, columns=housing_df.columns)"
   ]
  },
  {
   "cell_type": "code",
   "execution_count": 9,
   "id": "0353aa39",
   "metadata": {
    "execution": {
     "iopub.execute_input": "2024-10-30T13:48:14.953023Z",
     "iopub.status.busy": "2024-10-30T13:48:14.952959Z",
     "iopub.status.idle": "2024-10-30T13:48:14.958413Z",
     "shell.execute_reply": "2024-10-30T13:48:14.958181Z"
    }
   },
   "outputs": [],
   "source": [
    "import matplotlib.pyplot as plt\n",
    "df = pd.DataFrame({'Expenditure': [239, 364,602, 644, 770, 789, 911],\n",
    "                'Revenue': [514, 789, 550, 1386, 1394, 1440, 1354]})\n",
    "%matplotlib inline"
   ]
  },
  {
   "cell_type": "code",
   "execution_count": 10,
   "id": "45eedda0",
   "metadata": {
    "execution": {
     "iopub.execute_input": "2024-10-30T13:48:14.959944Z",
     "iopub.status.busy": "2024-10-30T13:48:14.959879Z",
     "iopub.status.idle": "2024-10-30T13:48:15.106821Z",
     "shell.execute_reply": "2024-10-30T13:48:15.106583Z"
    }
   },
   "outputs": [
    {
     "data": {
      "image/png": "[encoded data removed]",
      "text/plain": [
       "<Figure size 500x350 with 1 Axes>"
      ]
     },
     "metadata": {},
     "output_type": "display_data"
    }
   ],
   "source": [
    "df.plot.scatter(x='Expenditure', y='Revenue', xlim=(0, 1000), ylim=(0, 1600), figsize=(5, 3.5))\n",
    "plt.tight_layout()\n",
    "saveFigure('XYPlot.pdf')\n",
    "plt.show()"
   ]
  },
  {
   "cell_type": "code",
   "execution_count": 11,
   "id": "fa857d0b",
   "metadata": {
    "execution": {
     "iopub.execute_input": "2024-10-30T13:48:15.108155Z",
     "iopub.status.busy": "2024-10-30T13:48:15.108054Z",
     "iopub.status.idle": "2024-10-30T13:48:15.179357Z",
     "shell.execute_reply": "2024-10-30T13:48:15.179106Z"
    }
   },
   "outputs": [
    {
     "data": {
      "image/png": "[encoded data removed]",
      "text/plain": [
       "<Figure size 500x350 with 1 Axes>"
      ]
     },
     "metadata": {},
     "output_type": "display_data"
    }
   ],
   "source": [
    "x = list(df.Expenditure)\n",
    "y = list(df.Revenue)\n",
    "\n",
    "from scipy import interpolate\n",
    "f = interpolate.PchipInterpolator(x, y)\n",
    "\n",
    "x_new = np.linspace(x[0], x[-1], 100)\n",
    "y_new = [f(xi) for xi in x_new]\n",
    "df.plot.scatter(x='Expenditure', y='Revenue', xlim=(0, 1000), ylim=(0, 1600), figsize=(5, 3.5))\n",
    "plt.plot(x_new, y_new)\n",
    "plt.tight_layout()\n",
    "saveFigure('XYPlot_smooth.pdf')\n",
    "plt.show()"
   ]
  },
  {
   "cell_type": "code",
   "execution_count": 12,
   "id": "588cd350",
   "metadata": {
    "execution": {
     "iopub.execute_input": "2024-10-30T13:48:15.180623Z",
     "iopub.status.busy": "2024-10-30T13:48:15.180546Z",
     "iopub.status.idle": "2024-10-30T13:48:15.184620Z",
     "shell.execute_reply": "2024-10-30T13:48:15.184325Z"
    }
   },
   "outputs": [
    {
     "name": "stdout",
     "output_type": "stream",
     "text": [
      "Training   :  (3481, 17)\n",
      "Holdout    :  (2321, 17)\n",
      "\n",
      "Training   :  (2901, 17)\n",
      "Validation :  (1740, 17)\n",
      "Holdout    :  (1161, 17)\n"
     ]
    }
   ],
   "source": [
    "# random_state is set to a defined value to get the same partitions when re-running\n",
    "# the code\n",
    "# training (60%) and holdout (40%)\n",
    "trainData, holdoutData = train_test_split(housing_df, test_size=0.40, random_state=1)\n",
    "\n",
    "print('Training   : ', trainData.shape)\n",
    "print('Holdout    : ', holdoutData.shape)\n",
    "print()\n",
    "\n",
    "# training (50%), validation (30%), and holdout (20%)\n",
    "trainData, temp = train_test_split(housing_df, test_size=0.5, random_state=1)\n",
    "validData, holdoutData = train_test_split(temp, test_size=0.4, random_state=1)\n",
    "\n",
    "print('Training   : ', trainData.shape)\n",
    "print('Validation : ', validData.shape)\n",
    "print('Holdout    : ', holdoutData.shape)"
   ]
  },
  {
   "cell_type": "markdown",
   "id": "55d35848",
   "metadata": {},
   "source": [
    " Output"
   ]
  },
  {
   "cell_type": "code",
   "execution_count": 13,
   "id": "d8c9958f",
   "metadata": {
    "execution": {
     "iopub.execute_input": "2024-10-30T13:48:15.185883Z",
     "iopub.status.busy": "2024-10-30T13:48:15.185796Z",
     "iopub.status.idle": "2024-10-30T13:48:15.187447Z",
     "shell.execute_reply": "2024-10-30T13:48:15.187224Z"
    }
   },
   "outputs": [],
   "source": [
    "Training   :  (3481, 15)\n",
    "Holdout    :  (2321, 15)\n",
    "\n",
    "Training   :  (2901, 15)\n",
    "Validation :  (1741, 15)\n",
    "Holdout    :  (1160, 15)"
   ]
  },
  {
   "cell_type": "code",
   "execution_count": 14,
   "id": "e265a6d5",
   "metadata": {
    "execution": {
     "iopub.execute_input": "2024-10-30T13:48:15.188578Z",
     "iopub.status.busy": "2024-10-30T13:48:15.188506Z",
     "iopub.status.idle": "2024-10-30T13:48:15.203362Z",
     "shell.execute_reply": "2024-10-30T13:48:15.202385Z"
    }
   },
   "outputs": [
    {
     "data": {
      "text/html": [
       "<div>\n",
       "<style scoped>\n",
       "    .dataframe tbody tr th:only-of-type {\n",
       "        vertical-align: middle;\n",
       "    }\n",
       "\n",
       "    .dataframe tbody tr th {\n",
       "        vertical-align: top;\n",
       "    }\n",
       "\n",
       "    .dataframe thead th {\n",
       "        text-align: right;\n",
       "    }\n",
       "</style>\n",
       "<table border=\"1\" class=\"dataframe\">\n",
       "  <thead>\n",
       "    <tr style=\"text-align: right;\">\n",
       "      <th></th>\n",
       "      <th>TOTAL_VALUE</th>\n",
       "      <th>predicted</th>\n",
       "      <th>residual</th>\n",
       "    </tr>\n",
       "  </thead>\n",
       "  <tbody>\n",
       "    <tr>\n",
       "      <th>2024</th>\n",
       "      <td>392.0</td>\n",
       "      <td>387.726258</td>\n",
       "      <td>4.273742</td>\n",
       "    </tr>\n",
       "    <tr>\n",
       "      <th>5140</th>\n",
       "      <td>476.3</td>\n",
       "      <td>430.785540</td>\n",
       "      <td>45.514460</td>\n",
       "    </tr>\n",
       "    <tr>\n",
       "      <th>5259</th>\n",
       "      <td>367.4</td>\n",
       "      <td>384.042952</td>\n",
       "      <td>-16.642952</td>\n",
       "    </tr>\n",
       "    <tr>\n",
       "      <th>421</th>\n",
       "      <td>350.3</td>\n",
       "      <td>369.005551</td>\n",
       "      <td>-18.705551</td>\n",
       "    </tr>\n",
       "    <tr>\n",
       "      <th>1401</th>\n",
       "      <td>348.1</td>\n",
       "      <td>314.725722</td>\n",
       "      <td>33.374278</td>\n",
       "    </tr>\n",
       "  </tbody>\n",
       "</table>\n",
       "</div>"
      ],
      "text/plain": [
       "      TOTAL_VALUE   predicted   residual\n",
       "2024        392.0  387.726258   4.273742\n",
       "5140        476.3  430.785540  45.514460\n",
       "5259        367.4  384.042952 -16.642952\n",
       "421         350.3  369.005551 -18.705551\n",
       "1401        348.1  314.725722  33.374278"
      ]
     },
     "execution_count": 14,
     "metadata": {},
     "output_type": "execute_result"
    }
   ],
   "source": [
    "from sklearn.linear_model import LinearRegression\n",
    "\n",
    "# data loading and preprocessing\n",
    "housing_df = mlba.load_data('WestRoxbury.csv')\n",
    "housing_df.columns = [s.strip().replace(' ', '_') for s in housing_df.columns]\n",
    "housing_df.REMODEL = housing_df.REMODEL.fillna('None').astype('category')\n",
    "housing_df = pd.get_dummies(housing_df, prefix_sep='_', drop_first=True)\n",
    "\n",
    "# create list of predictors and outcome\n",
    "excludeColumns = ('TOTAL_VALUE', 'TAX')\n",
    "predictors = [column for column in housing_df.columns if column not in excludeColumns]\n",
    "outcome = 'TOTAL_VALUE'\n",
    "\n",
    "# partition data\n",
    "X = housing_df[predictors]\n",
    "y = housing_df[outcome]\n",
    "train_X, holdout_X, train_y, holdout_y = train_test_split(X, y, test_size=0.4,\n",
    "                                                      random_state=1)\n",
    "\n",
    "model = LinearRegression()\n",
    "model.fit(train_X, train_y)\n",
    "\n",
    "train_pred = model.predict(train_X)\n",
    "train_results = pd.DataFrame({\n",
    "    'TOTAL_VALUE': train_y,\n",
    "    'predicted': train_pred,\n",
    "    'residual': train_y - train_pred\n",
    "})\n",
    "train_results.head()"
   ]
  },
  {
   "cell_type": "markdown",
   "id": "30a10985",
   "metadata": {},
   "source": [
    " \n",
    "The expression `[column for column in housing_df.columns if s not in excludeColumns]` is a so-called list comprehension. It is a compact way to create a list from another list, with the condition that the element is not in the list of excluded columns. The way to read it is:\n",
    "> for each column name in the list of column names, \n",
    ">     if column name is not in the list of excluded columns, include it in the new list. "
   ]
  },
  {
   "cell_type": "markdown",
   "id": "b852ce07",
   "metadata": {},
   "source": [
    " Output"
   ]
  },
  {
   "cell_type": "code",
   "execution_count": 15,
   "id": "67360c57",
   "metadata": {
    "execution": {
     "iopub.execute_input": "2024-10-30T13:48:15.208939Z",
     "iopub.status.busy": "2024-10-30T13:48:15.208744Z",
     "iopub.status.idle": "2024-10-30T13:48:15.219370Z",
     "shell.execute_reply": "2024-10-30T13:48:15.218903Z"
    }
   },
   "outputs": [
    {
     "data": {
      "text/html": [
       "<div>\n",
       "<style scoped>\n",
       "    .dataframe tbody tr th:only-of-type {\n",
       "        vertical-align: middle;\n",
       "    }\n",
       "\n",
       "    .dataframe tbody tr th {\n",
       "        vertical-align: top;\n",
       "    }\n",
       "\n",
       "    .dataframe thead th {\n",
       "        text-align: right;\n",
       "    }\n",
       "</style>\n",
       "<table border=\"1\" class=\"dataframe\">\n",
       "  <thead>\n",
       "    <tr style=\"text-align: right;\">\n",
       "      <th></th>\n",
       "      <th>TOTAL_VALUE</th>\n",
       "      <th>predicted</th>\n",
       "      <th>residual</th>\n",
       "    </tr>\n",
       "  </thead>\n",
       "  <tbody>\n",
       "    <tr>\n",
       "      <th>1822</th>\n",
       "      <td>462.0</td>\n",
       "      <td>406.946377</td>\n",
       "      <td>55.053623</td>\n",
       "    </tr>\n",
       "    <tr>\n",
       "      <th>1998</th>\n",
       "      <td>370.4</td>\n",
       "      <td>362.888928</td>\n",
       "      <td>7.511072</td>\n",
       "    </tr>\n",
       "    <tr>\n",
       "      <th>5126</th>\n",
       "      <td>407.4</td>\n",
       "      <td>390.287208</td>\n",
       "      <td>17.112792</td>\n",
       "    </tr>\n",
       "    <tr>\n",
       "      <th>808</th>\n",
       "      <td>316.1</td>\n",
       "      <td>382.470203</td>\n",
       "      <td>-66.370203</td>\n",
       "    </tr>\n",
       "    <tr>\n",
       "      <th>4034</th>\n",
       "      <td>393.2</td>\n",
       "      <td>434.334998</td>\n",
       "      <td>-41.134998</td>\n",
       "    </tr>\n",
       "  </tbody>\n",
       "</table>\n",
       "</div>"
      ],
      "text/plain": [
       "      TOTAL_VALUE   predicted   residual\n",
       "1822        462.0  406.946377  55.053623\n",
       "1998        370.4  362.888928   7.511072\n",
       "5126        407.4  390.287208  17.112792\n",
       "808         316.1  382.470203 -66.370203\n",
       "4034        393.2  434.334998 -41.134998"
      ]
     },
     "execution_count": 15,
     "metadata": {},
     "output_type": "execute_result"
    }
   ],
   "source": [
    "holdout_pred = model.predict(holdout_X)\n",
    "holdout_results = pd.DataFrame({\n",
    "    'TOTAL_VALUE': holdout_y,\n",
    "    'predicted': holdout_pred,\n",
    "    'residual': holdout_y - holdout_pred\n",
    "})\n",
    "holdout_results.head()"
   ]
  },
  {
   "cell_type": "markdown",
   "id": "f52ef531",
   "metadata": {},
   "source": [
    " Output"
   ]
  },
  {
   "cell_type": "code",
   "execution_count": 16,
   "id": "ecfbdb3c",
   "metadata": {
    "execution": {
     "iopub.execute_input": "2024-10-30T13:48:15.224284Z",
     "iopub.status.busy": "2024-10-30T13:48:15.224100Z",
     "iopub.status.idle": "2024-10-30T13:48:15.230852Z",
     "shell.execute_reply": "2024-10-30T13:48:15.229398Z"
    }
   },
   "outputs": [
    {
     "name": "stdout",
     "output_type": "stream",
     "text": [
      "\n",
      "Regression statistics\n",
      "\n",
      "Mean Error (ME) : 0.0000\n",
      "Root Mean Squared Error (RMSE) : 43.0306\n",
      "Mean Absolute Error (MAE) : 32.6042\n",
      "Mean Percentage Error (MPE) : -1.1116\n",
      "Mean Absolute Percentage Error (MAPE) : 8.4886\n",
      "\n",
      "Regression statistics\n",
      "\n",
      "Mean Error (ME) : -0.1463\n",
      "Root Mean Squared Error (RMSE) : 42.7292\n",
      "Mean Absolute Error (MAE) : 31.9663\n",
      "Mean Percentage Error (MPE) : -1.0884\n",
      "Mean Absolute Percentage Error (MAPE) : 8.3283\n"
     ]
    }
   ],
   "source": [
    "# import the utility function regressionSummary\n",
    "from mlba import regressionSummary\n",
    "\n",
    "# training set\n",
    "regressionSummary(y_true=train_results.TOTAL_VALUE, y_pred=train_results.predicted)\n",
    "\n",
    "# holdout set\n",
    "regressionSummary(y_true=holdout_results.TOTAL_VALUE, y_pred=holdout_results.predicted)"
   ]
  },
  {
   "cell_type": "markdown",
   "id": "38e636fb",
   "metadata": {},
   "source": [
    " Output"
   ]
  },
  {
   "cell_type": "code",
   "execution_count": 17,
   "id": "7c3bf723",
   "metadata": {
    "execution": {
     "iopub.execute_input": "2024-10-30T13:48:15.233706Z",
     "iopub.status.busy": "2024-10-30T13:48:15.233555Z",
     "iopub.status.idle": "2024-10-30T13:48:15.243670Z",
     "shell.execute_reply": "2024-10-30T13:48:15.242273Z"
    }
   },
   "outputs": [
    {
     "name": "stdout",
     "output_type": "stream",
     "text": [
      "   LOT_SQFT  YR_BUILT  GROSS_AREA  LIVING_AREA  FLOORS  ROOMS  BEDROOMS  \\\n",
      "0      4200      1960        2670         1710     2.0     10         4   \n",
      "1      6444      1940        2886         1474     1.5      6         3   \n",
      "2      5035      1925        3264         1523     1.9      6         2   \n",
      "\n",
      "   FULL_BATH  HALF_BATH  KITCHEN  FIREPLACE  REMODEL_Old  REMODEL_Recent  \n",
      "0          1          1        1          1            0               0  \n",
      "1          1          1        1          1            0               0  \n",
      "2          1          0        1          0            0               1  \n",
      "Predictions:  [384.47210285 378.06696706 386.01773842]\n"
     ]
    }
   ],
   "source": [
    "new_data = pd.DataFrame({\n",
    "    'LOT_SQFT': [4200, 6444, 5035],\n",
    "    'YR_BUILT': [1960, 1940, 1925],\n",
    "    'GROSS_AREA': [2670, 2886, 3264],\n",
    "    'LIVING_AREA': [1710, 1474, 1523],\n",
    "    'FLOORS': [2.0, 1.5, 1.9],\n",
    "    'ROOMS': [10, 6, 6],\n",
    "    'BEDROOMS': [4, 3, 2],\n",
    "    'FULL_BATH': [1, 1, 1],\n",
    "    'HALF_BATH': [1, 1, 0],\n",
    "    'KITCHEN': [1, 1, 1],\n",
    "    'FIREPLACE': [1, 1, 0],\n",
    "    'REMODEL_Old': [0, 0, 0],\n",
    "    'REMODEL_Recent': [0, 0, 1],\n",
    "})\n",
    "print(new_data)\n",
    "\n",
    "print('Predictions: ', model.predict(new_data))"
   ]
  },
  {
   "cell_type": "markdown",
   "id": "60d72343",
   "metadata": {},
   "source": [
    " Output"
   ]
  },
  {
   "cell_type": "markdown",
   "id": "4322c43f",
   "metadata": {},
   "source": [
    "# Problems"
   ]
  }
 ],
 "metadata": {
  "language_info": {
   "codemirror_mode": {
    "name": "ipython",
    "version": 3
   },
   "file_extension": ".py",
   "mimetype": "text/x-python",
   "name": "python",
   "nbconvert_exporter": "python",
   "pygments_lexer": "ipython3",
   "version": "3.11.8"
  }
 },
 "nbformat": 4,
 "nbformat_minor": 5
}
