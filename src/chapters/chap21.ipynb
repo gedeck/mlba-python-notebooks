{
 "cells": [
  {
   "cell_type": "markdown",
   "id": "1ae22a06",
   "metadata": {},
   "source": [
    "# Chapter 21 \n",
    " Machine Learning for Business Analytics<br>\n",
    "Concepts, Techniques, and Applications in Python<br>\n",
    "by Galit Shmueli, Peter C. Bruce, Peter Gedeck, Nitin R. Patel\n",
    "\n",
    "Publisher: Wiley; 2nd edition (2024) <br>\n",
    "<!-- ISBN-13: 978-3031075650 -->\n",
    "\n",
    "(c) 2024 Galit Shmueli, Peter C. Bruce, Peter Gedeck, Nitin R. Patel\n",
    "\n",
    "The code needs to be executed in sequence.\n",
    "\n",
    "Python packages and Python itself change over time. This can cause warnings or errors.\n",
    "\"Warnings\" are for information only and can usually be ignored.\n",
    "\"Errors\" will stop execution and need to be fixed in order to get results.\n",
    "\n",
    "If you come across an issue with the code, please follow these steps\n",
    "\n",
    "- Check the repository (https://gedeck.github.io/sdsa-code-solutions/) to see if the code has been upgraded. This might solve the problem.\n",
    "- Report the problem using the issue tracker at https://github.com/gedeck/sdsa-code-solutions/issues\n",
    "- Paste the error message into Google and see if someone else already found a solution"
   ]
  },
  {
   "cell_type": "code",
   "execution_count": 2,
   "id": "142e7f01",
   "metadata": {
    "execution": {
     "iopub.execute_input": "2024-11-23T14:09:01.325525Z",
     "iopub.status.busy": "2024-11-23T14:09:01.325406Z",
     "iopub.status.idle": "2024-11-23T14:09:02.202671Z",
     "shell.execute_reply": "2024-11-23T14:09:02.202390Z"
    }
   },
   "outputs": [
    {
     "name": "stderr",
     "output_type": "stream",
     "text": [
      "[nltk_data] Downloading package punkt_tab to\n",
      "[nltk_data]     /Users/petergedeck/nltk_data...\n",
      "[nltk_data]   Package punkt_tab is already up-to-date!\n"
     ]
    },
    {
     "data": {
      "text/plain": [
       "True"
      ]
     },
     "execution_count": 2,
     "metadata": {},
     "output_type": "execute_result"
    }
   ],
   "source": [
    "import zipfile\n",
    "\n",
    "import mlba\n",
    "import nltk\n",
    "import numpy as np\n",
    "from nltk.stem.snowball import EnglishStemmer\n",
    "from sklearn.decomposition import TruncatedSVD\n",
    "from sklearn.feature_extraction.text import CountVectorizer, TfidfTransformer\n",
    "from sklearn.linear_model import LogisticRegression\n",
    "from sklearn.metrics import roc_curve, auc\n",
    "from sklearn.model_selection import train_test_split\n",
    "from sklearn.pipeline import make_pipeline\n",
    "from sklearn.preprocessing import Normalizer\n",
    "\n",
    "nltk.download('punkt_tab')  # download the Punkt tokenizer model"
   ]
  },
  {
   "cell_type": "code",
   "execution_count": 3,
   "id": "28881cca",
   "metadata": {
    "execution": {
     "iopub.execute_input": "2024-11-23T14:09:02.203952Z",
     "iopub.status.busy": "2024-11-23T14:09:02.203811Z",
     "iopub.status.idle": "2024-11-23T14:09:02.207515Z",
     "shell.execute_reply": "2024-11-23T14:09:02.207301Z"
    }
   },
   "outputs": [
    {
     "name": "stdout",
     "output_type": "stream",
     "text": [
      "          S1  S2  S3\n",
      "first      1   0   0\n",
      "here       0   0   1\n",
      "is         1   1   1\n",
      "second     0   1   0\n",
      "sentence   1   1   1\n",
      "the        1   0   1\n",
      "third      0   0   1\n",
      "this       1   1   0\n"
     ]
    }
   ],
   "source": [
    "text = ['this is the first sentence.',\n",
    "        'this is a second sentence.',\n",
    "        'the third sentence is here.']\n",
    "\n",
    "# learn features based on text\n",
    "count_vect = CountVectorizer()\n",
    "counts = count_vect.fit_transform(text)\n",
    "\n",
    "mlba.printTermDocumentMatrix(count_vect, counts)"
   ]
  },
  {
   "cell_type": "code",
   "execution_count": 4,
   "id": "70632076",
   "metadata": {
    "execution": {
     "iopub.execute_input": "2024-11-23T14:09:02.208672Z",
     "iopub.status.busy": "2024-11-23T14:09:02.208598Z",
     "iopub.status.idle": "2024-11-23T14:09:02.211304Z",
     "shell.execute_reply": "2024-11-23T14:09:02.211090Z"
    }
   },
   "outputs": [
    {
     "name": "stdout",
     "output_type": "stream",
     "text": [
      "           S1  S2  S3  S4\n",
      "all         0   0   0   1\n",
      "first       1   0   0   0\n",
      "forth       0   0   0   1\n",
      "here        0   0   1   0\n",
      "is          1   1   1   0\n",
      "of          0   0   0   1\n",
      "second      0   1   0   0\n",
      "sentence    1   1   1   0\n",
      "sentences   0   0   0   1\n",
      "the         1   0   1   0\n",
      "third       0   0   1   0\n",
      "this        1   1   0   0\n"
     ]
    }
   ],
   "source": [
    "text = ['this is the first     sentence!!',\n",
    "        'this is a second Sentence :)',\n",
    "        'the third sentence, is here ',\n",
    "        'forth of all sentences']\n",
    "\n",
    "# Learn features based on text. Special characters are excluded in the analysis\n",
    "count_vect = CountVectorizer()\n",
    "counts = count_vect.fit_transform(text)\n",
    "\n",
    "mlba.printTermDocumentMatrix(count_vect, counts)"
   ]
  },
  {
   "cell_type": "code",
   "execution_count": 5,
   "id": "0be2155f",
   "metadata": {
    "execution": {
     "iopub.execute_input": "2024-11-23T14:09:02.212308Z",
     "iopub.status.busy": "2024-11-23T14:09:02.212242Z",
     "iopub.status.idle": "2024-11-23T14:09:02.214788Z",
     "shell.execute_reply": "2024-11-23T14:09:02.214557Z"
    }
   },
   "outputs": [
    {
     "name": "stdout",
     "output_type": "stream",
     "text": [
      "            S1  S2  S3  S4\n",
      ":)           0   1   0   0\n",
      "a            0   1   0   0\n",
      "all          0   0   0   1\n",
      "first        1   0   0   0\n",
      "forth        0   0   0   1\n",
      "here         0   0   1   0\n",
      "is           1   1   1   0\n",
      "of           0   0   0   1\n",
      "second       0   1   0   0\n",
      "sentence     0   1   1   0\n",
      "sentence!!   1   0   0   0\n",
      "sentences    0   0   0   1\n",
      "the          1   0   1   0\n",
      "third        0   0   1   0\n",
      "this         1   1   0   0\n"
     ]
    }
   ],
   "source": [
    "text = ['this is the first     sentence!!',\n",
    "        'this is a second Sentence :)',\n",
    "        'the third sentence, is here ',\n",
    "        'forth of all sentences']\n",
    "\n",
    "# Learn features based on text. Include special characters that are part of a word\n",
    "# in the analysis\n",
    "count_vect = CountVectorizer(token_pattern=r'[a-zA-Z!:)]+')\n",
    "counts = count_vect.fit_transform(text)\n",
    "\n",
    "mlba.printTermDocumentMatrix(count_vect, counts)"
   ]
  },
  {
   "cell_type": "markdown",
   "id": "e2e41c3b",
   "metadata": {},
   "source": [
    " \n",
    "The `token_pattern` is a regular expression that specifies the pattern of the tokens. \n",
    "Here, the regular expression `[a-zA-Z!:)]+` specifies that the tokens are composed of\n",
    "one or more letters (both upper and lower case), exclamation marks, colons, and right parentheses.\n",
    "\n",
    "As regular expression can contain the backslash character (`\\`) it is customary to prefix\n",
    "the string with `r` to indicate that it is a _raw_ string. Regular expressions are powerful,\n",
    "but can be complex. There are online resources that allow to develop regular expressions \n",
    "and test them.\n",
    "\n",
    "For more details see the Python documentation https://docs.python.org/3/library/re.html"
   ]
  },
  {
   "cell_type": "code",
   "execution_count": 6,
   "id": "5b10c758",
   "metadata": {
    "execution": {
     "iopub.execute_input": "2024-11-23T14:09:02.215814Z",
     "iopub.status.busy": "2024-11-23T14:09:02.215747Z",
     "iopub.status.idle": "2024-11-23T14:09:02.217974Z",
     "shell.execute_reply": "2024-11-23T14:09:02.217761Z"
    }
   },
   "outputs": [
    {
     "name": "stdout",
     "output_type": "stream",
     "text": [
      "First 180 of 318 stopwords\n",
      "a            about        above        across       after        afterwards   \n",
      "again        against      all          almost       alone        along        \n",
      "already      also         although     always       am           among        \n",
      "amongst      amoungst     amount       an           and          another      \n",
      "any          anyhow       anyone       anything     anyway       anywhere     \n",
      "are          around       as           at           back         be           \n",
      "became       because      become       becomes      becoming     been         \n",
      "before       beforehand   behind       being        below        beside       \n",
      "besides      between      beyond       bill         both         bottom       \n",
      "but          by           call         can          cannot       cant         \n",
      "co           con          could        couldnt      cry          de           \n",
      "describe     detail       do           done         down         due          \n",
      "during       each         eg           eight        either       eleven       \n",
      "else         elsewhere    empty        enough       etc          even         \n",
      "ever         every        everyone     everything   everywhere   except       \n",
      "few          fifteen      fifty        fill         find         fire         \n",
      "first        five         for          former       formerly     forty        \n",
      "found        four         from         front        full         further      \n",
      "get          give         go           had          has          hasnt        \n",
      "have         he           hence        her          here         hereafter    \n",
      "hereby       herein       hereupon     hers         herself      him          \n",
      "himself      his          how          however      hundred      i            \n",
      "ie           if           in           inc          indeed       interest     \n",
      "into         is           it           its          itself       keep         \n",
      "last         latter       latterly     least        less         ltd          \n",
      "made         many         may          me           meanwhile    might        \n",
      "mill         mine         more         moreover     most         mostly       \n",
      "move         much         must         my           myself       name         \n",
      "namely       neither      never        nevertheless next         nine         \n",
      "no           nobody       none         noone        nor          not          \n"
     ]
    }
   ],
   "source": [
    "from sklearn.feature_extraction._stop_words import ENGLISH_STOP_WORDS\n",
    "stopWords = sorted(ENGLISH_STOP_WORDS)\n",
    "ncolumns = 6\n",
    "nrows= 30\n",
    "\n",
    "print(f'First {ncolumns * nrows} of {len(stopWords)} stopwords')\n",
    "for i in range(0, len(stopWords[:(ncolumns * nrows)]), ncolumns):\n",
    "    print(''.join(word.ljust(13) for word in stopWords[i:(i+ncolumns)]))"
   ]
  },
  {
   "cell_type": "code",
   "execution_count": 7,
   "id": "9a4eb1e5",
   "metadata": {
    "execution": {
     "iopub.execute_input": "2024-11-23T14:09:02.218962Z",
     "iopub.status.busy": "2024-11-23T14:09:02.218899Z",
     "iopub.status.idle": "2024-11-23T14:09:02.230160Z",
     "shell.execute_reply": "2024-11-23T14:09:02.229960Z"
    }
   },
   "outputs": [
    {
     "name": "stdout",
     "output_type": "stream",
     "text": [
      "         S1  S2  S3  S4\n",
      "forth     0   0   0   1\n",
      "second    0   1   0   0\n",
      "sentenc   1   1   1   1\n"
     ]
    }
   ],
   "source": [
    "text = ['this is the first     sentence!! ',\n",
    "        'this is a second Sentence :)',\n",
    "        'the third sentence, is here ',\n",
    "        'forth of all sentences']\n",
    "\n",
    "# Create a custom tokenizer that will use NLTK for tokenizing and stemming\n",
    "# (removes interpunctuation, stop words, and stems the words)\n",
    "class StemmingTokenizer:\n",
    "    def __init__(self):\n",
    "        self.stemmer = EnglishStemmer()\n",
    "        self.stopWords = set(ENGLISH_STOP_WORDS)\n",
    "\n",
    "    def __call__(self, doc):\n",
    "        return [self.stemmer.stem(t) for t in nltk.word_tokenize(doc)\n",
    "                if t.isalpha() and t not in self.stopWords]\n",
    "\n",
    "# Learn features based on text\n",
    "count_vect = CountVectorizer(tokenizer=StemmingTokenizer(), token_pattern=None)\n",
    "counts = count_vect.fit_transform(text)\n",
    "\n",
    "mlba.printTermDocumentMatrix(count_vect, counts)"
   ]
  },
  {
   "cell_type": "markdown",
   "id": "618a2517",
   "metadata": {},
   "source": [
    " \n",
    "The `tokenizer` argument of `CountVectorizer` expects a function. However, here we pass an instance of a class. This works\n",
    "because the `StemmingTokenizer` class defines the `__call__` method. This is the method that is executed when the instance is used \n",
    "like a function. For example,"
   ]
  },
  {
   "cell_type": "code",
   "execution_count": 8,
   "id": "708dcda1",
   "metadata": {
    "execution": {
     "iopub.execute_input": "2024-11-23T14:09:02.231266Z",
     "iopub.status.busy": "2024-11-23T14:09:02.231189Z",
     "iopub.status.idle": "2024-11-23T14:09:02.233203Z",
     "shell.execute_reply": "2024-11-23T14:09:02.233004Z"
    }
   },
   "outputs": [
    {
     "data": {
      "text/plain": [
       "['second', 'sentenc']"
      ]
     },
     "execution_count": 8,
     "metadata": {},
     "output_type": "execute_result"
    }
   ],
   "source": [
    "tokenizer = StemmingTokenizer()\n",
    "tokenizer(text[1])"
   ]
  },
  {
   "cell_type": "markdown",
   "id": "114815fb",
   "metadata": {},
   "source": [
    " \n",
    "The call `tokenizer(text[1])` is interpreted as `tokenizer.__call__(text[1])`. \n",
    "\n",
    "Note, that we initialize a few class variables in the `__init__` method. The `__init__` method is called when the instance is created.\n",
    "We do this to avoid creating the stop words set and the stemmer for each call to the `__call__` method.\n",
    "\n",
    "The list comprehension also deserves some explanation. We first use `nltk.word_tokenize` to convert the text into a list of words/tokens. \n",
    "We then iterate over this list and keep only the words that are alphabetic (i.e., contain at least one letter) and are not in the stop words set.\n",
    "Whatever is left is then passed to the `stem` method of the stemmer to reduce it to its stem."
   ]
  },
  {
   "cell_type": "code",
   "execution_count": 9,
   "id": "10184c18",
   "metadata": {
    "execution": {
     "iopub.execute_input": "2024-11-23T14:09:02.234237Z",
     "iopub.status.busy": "2024-11-23T14:09:02.234169Z",
     "iopub.status.idle": "2024-11-23T14:09:02.237218Z",
     "shell.execute_reply": "2024-11-23T14:09:02.237024Z"
    }
   },
   "outputs": [
    {
     "name": "stdout",
     "output_type": "stream",
     "text": [
      "                 S1        S2        S3        S4\n",
      "all        0.000000  0.000000  0.000000  2.386294\n",
      "first      2.386294  0.000000  0.000000  0.000000\n",
      "forth      0.000000  0.000000  0.000000  2.386294\n",
      "here       0.000000  0.000000  2.386294  0.000000\n",
      "is         1.287682  1.287682  1.287682  0.000000\n",
      "of         0.000000  0.000000  0.000000  2.386294\n",
      "second     0.000000  2.386294  0.000000  0.000000\n",
      "sentence   1.287682  1.287682  1.287682  0.000000\n",
      "sentences  0.000000  0.000000  0.000000  2.386294\n",
      "the        1.693147  0.000000  1.693147  0.000000\n",
      "third      0.000000  0.000000  2.386294  0.000000\n",
      "this       1.693147  1.693147  0.000000  0.000000\n"
     ]
    }
   ],
   "source": [
    "text = ['this is the first     sentence!!',\n",
    "        'this is a second Sentence :)',\n",
    "        'the third sentence, is here ',\n",
    "        'forth of all sentences']\n",
    "\n",
    "# Apply CountVectorizer and TfidfTransformer sequentially\n",
    "count_vect = CountVectorizer()\n",
    "tfidfTransformer = TfidfTransformer(smooth_idf=False, norm=None)\n",
    "counts = count_vect.fit_transform(text)\n",
    "tfidf = tfidfTransformer.fit_transform(counts)\n",
    "\n",
    "mlba.printTermDocumentMatrix(count_vect, tfidf)"
   ]
  },
  {
   "cell_type": "code",
   "execution_count": 10,
   "id": "643d7960",
   "metadata": {
    "execution": {
     "iopub.execute_input": "2024-11-23T14:09:02.238216Z",
     "iopub.status.busy": "2024-11-23T14:09:02.238150Z",
     "iopub.status.idle": "2024-11-23T14:09:02.274493Z",
     "shell.execute_reply": "2024-11-23T14:09:02.274273Z"
    }
   },
   "outputs": [],
   "source": [
    "# Step 1: import and label records\n",
    "corpus = []\n",
    "label = []\n",
    "with zipfile.ZipFile(mlba.get_data_file('AutoAndElectronics.zip')) as rawData:\n",
    "    for info in rawData.infolist():\n",
    "        if info.is_dir():\n",
    "            continue\n",
    "        label.append(1 if 'rec.autos' in info.filename else 0)\n",
    "        corpus.append(rawData.read(info).decode('latin1'))"
   ]
  },
  {
   "cell_type": "markdown",
   "id": "5c68a8bd",
   "metadata": {},
   "source": [
    " \n",
    "The `ZipFile` class is used to read the zip-files. Zip files contain one or more files in compressed format. We can get a list \n",
    "with information about these files with the `infolist()` method; directores are ignored (`is_dir()`).\n",
    "For each file, we determine the label based on the filename and then read the content of the file and store it in the corpus.\n",
    "The `read` command reads the content of the file as a byte string which we convert to a string using `decode`. Here, we need\n",
    "`latin1` encoding to read the content of all files. If this doesn't work, another popular encoding to try is `utf-8`, which is \n",
    "the default of the `decode` function and doesn't work here."
   ]
  },
  {
   "cell_type": "code",
   "execution_count": 11,
   "id": "4f6e19f7",
   "metadata": {
    "execution": {
     "iopub.execute_input": "2024-11-23T14:09:02.275659Z",
     "iopub.status.busy": "2024-11-23T14:09:02.275590Z",
     "iopub.status.idle": "2024-11-23T14:09:05.097867Z",
     "shell.execute_reply": "2024-11-23T14:09:05.097280Z"
    }
   },
   "outputs": [],
   "source": [
    "# Step 2: preprocessing (tokenization, stemming, and stopwords)\n",
    "class StemmingTokenizer:\n",
    "    def __init__(self):\n",
    "        self.stemmer = EnglishStemmer()\n",
    "        self.stopWords = set(ENGLISH_STOP_WORDS)\n",
    "    def __call__(self, doc):\n",
    "        return [self.stemmer.stem(t) for t in nltk.word_tokenize(doc)\n",
    "                if t.isalpha() and t not in self.stopWords]\n",
    "\n",
    "preprocessor = CountVectorizer(tokenizer=StemmingTokenizer(), token_pattern=None)\n",
    "preprocessedText = preprocessor.fit_transform(corpus)\n",
    "\n",
    "# Step 3: TF-IDF and latent semantic analysis\n",
    "tfidfTransformer = TfidfTransformer()\n",
    "tfidf = tfidfTransformer.fit_transform(preprocessedText)\n",
    "\n",
    "# Extract 20 concepts using LSA ()\n",
    "lsa = make_pipeline(TruncatedSVD(20, random_state=123),\n",
    "                    Normalizer(copy=False))\n",
    "lsa_tfidf = lsa.fit_transform(tfidf)"
   ]
  },
  {
   "cell_type": "markdown",
   "id": "2ee92a79",
   "metadata": {},
   "source": [
    " \n",
    "The `make_pipeline` function is used to chain the `TruncatedSVD` and `Normalizer` objects in a pipeline. In other chapters \n",
    "of the book, we used the `Pipeline` class to define models. Both approaches achieve the same result. \n",
    "The `TruncatedSVD` uses random numbers; to ensure reproducibility, we set the `random_state` parameter to a fixed value."
   ]
  },
  {
   "cell_type": "code",
   "execution_count": 12,
   "id": "74f757ee",
   "metadata": {
    "execution": {
     "iopub.execute_input": "2024-11-23T14:09:05.101180Z",
     "iopub.status.busy": "2024-11-23T14:09:05.100492Z",
     "iopub.status.idle": "2024-11-23T14:09:05.111908Z",
     "shell.execute_reply": "2024-11-23T14:09:05.111474Z"
    }
   },
   "outputs": [
    {
     "name": "stdout",
     "output_type": "stream",
     "text": [
      "Confusion Matrix (Accuracy 0.9550)\n",
      "\n",
      "       Prediction\n",
      "Actual   0   1\n",
      "     0 389   8\n",
      "     1  28 375\n"
     ]
    }
   ],
   "source": [
    "# split dataset into 60% training and 40% holdout set\n",
    "train_X, holdout_X, train_y, holdout_y = train_test_split(lsa_tfidf, label, test_size=0.4,\n",
    "                                                      random_state=42)\n",
    "\n",
    "# run logistic regression model on training\n",
    "logit_reg = LogisticRegression(solver='lbfgs')\n",
    "logit_reg.fit(train_X, train_y)\n",
    "\n",
    "# print confusion matrix and accuracty\n",
    "mlba.classificationSummary(y_true=holdout_y, y_pred=logit_reg.predict(holdout_X))"
   ]
  },
  {
   "cell_type": "code",
   "execution_count": 13,
   "id": "83a1eca4",
   "metadata": {
    "execution": {
     "iopub.execute_input": "2024-11-23T14:09:05.114307Z",
     "iopub.status.busy": "2024-11-23T14:09:05.114111Z",
     "iopub.status.idle": "2024-11-23T14:09:05.339129Z",
     "shell.execute_reply": "2024-11-23T14:09:05.338230Z"
    }
   },
   "outputs": [
    {
     "data": {
      "image/png": "[encoded data removed]",
      "text/plain": [
       "<Figure size 640x480 with 1 Axes>"
      ]
     },
     "metadata": {},
     "output_type": "display_data"
    }
   ],
   "source": [
    "import pandas as pd\n",
    "import matplotlib.pyplot as plt\n",
    "df = pd.DataFrame({'predicted': logit_reg.predict(holdout_X),\n",
    "                   'actual': holdout_y})\n",
    "mlba.liftChart(df, ranking='predicted', actual='actual')\n",
    "%matplotlib inline\n",
    "plt.tight_layout()\n",
    "plt.show()"
   ]
  },
  {
   "cell_type": "code",
   "execution_count": 14,
   "id": "495f6dbb",
   "metadata": {
    "execution": {
     "iopub.execute_input": "2024-11-23T14:09:05.341500Z",
     "iopub.status.busy": "2024-11-23T14:09:05.341284Z",
     "iopub.status.idle": "2024-11-23T14:09:10.095195Z",
     "shell.execute_reply": "2024-11-23T14:09:10.094838Z"
    }
   },
   "outputs": [],
   "source": [
    "mlba.downloadGloveModel()\n",
    "embeddings = {}\n",
    "with (zipfile.Path('glove.6B.zip') / 'glove.6B.100d.txt').open('rt') as f:\n",
    "    for line in f:\n",
    "        words = line.strip().split()\n",
    "        embeddings[words[0]] = np.asarray(words[1:], dtype='float32')"
   ]
  },
  {
   "cell_type": "markdown",
   "id": "8bbb6dd5",
   "metadata": {},
   "source": [
    " \n",
    "The `downloadGloveModel` function downloads the GloVe model from the website and saves it in the current directory. \n",
    "It will only do this once. The `zipfile.Path` function is a convenient way of extracting data from a zip file. It is modelled after the `pathlib` module. The `np.asarray` function converts the string representation of the vector to a numpy array."
   ]
  },
  {
   "cell_type": "code",
   "execution_count": 15,
   "id": "d065258c",
   "metadata": {
    "execution": {
     "iopub.execute_input": "2024-11-23T14:09:10.096750Z",
     "iopub.status.busy": "2024-11-23T14:09:10.096652Z",
     "iopub.status.idle": "2024-11-23T14:09:10.099590Z",
     "shell.execute_reply": "2024-11-23T14:09:10.099204Z"
    }
   },
   "outputs": [],
   "source": [
    "class SentenceEmbeddingVectorizer:\n",
    "    def __init__(self, embeddings, *, dim=100):\n",
    "        self.embeddings = embeddings\n",
    "        self.dim = dim\n",
    "\n",
    "    def fit_transform(self, X, y=None):\n",
    "        self.fit(X)\n",
    "        return self.transform(X)\n",
    "\n",
    "    def fit(self, X, y=None):\n",
    "        pass\n",
    "\n",
    "    def transform(self, X):\n",
    "        # for each review, split into words, convert them into embeddings and\n",
    "        # average all the word embeddings to get a single vector for the review\n",
    "        return np.array([\n",
    "            np.mean([self.embeddings.get(word, np.zeros(self.dim))\n",
    "                    for word in review.split()], axis=0)\n",
    "            for review in X])"
   ]
  },
  {
   "cell_type": "markdown",
   "id": "e4dfda7b",
   "metadata": {},
   "source": [
    " Example"
   ]
  },
  {
   "cell_type": "code",
   "execution_count": 16,
   "id": "5e1f66f4",
   "metadata": {
    "execution": {
     "iopub.execute_input": "2024-11-23T14:09:10.101261Z",
     "iopub.status.busy": "2024-11-23T14:09:10.101137Z",
     "iopub.status.idle": "2024-11-23T14:09:10.104385Z",
     "shell.execute_reply": "2024-11-23T14:09:10.104077Z"
    }
   },
   "outputs": [
    {
     "data": {
      "text/plain": [
       "array([[ 0.01792   ,  0.2870925 ,  0.4717225 , -0.2865175 ,  0.05754501,\n",
       "         0.25707325, -0.28171675,  0.02054626,  0.01417   , -0.1215275 ,\n",
       "        -0.0497575 ,  0.003879  ,  0.005989  ,  0.066245  ,  0.06114025,\n",
       "         0.09441475,  0.2966415 ,  0.3110445 ,  0.0163825 ,  0.838375  ,\n",
       "         0.44317999, -0.11438625, -0.023601  , -0.075275  ,  0.4282425 ,\n",
       "         0.34983249,  0.0554935 , -0.3752075 ,  0.1439255 , -0.2366025 ,\n",
       "        -0.21039249,  0.52624001,  0.1477065 , -0.04217775,  0.09414576,\n",
       "         0.26808   ,  0.1159255 ,  0.18586525,  0.09048876, -0.319475  ,\n",
       "         0.02726825,  0.1982485 , -0.11877307, -0.019885  ,  0.14577025,\n",
       "        -0.170099  , -0.11631   , -0.3632195 ,  0.18551749, -0.516095  ,\n",
       "        -0.052525  , -0.1333775 ,  0.40944749,  0.7494825 , -0.0119225 ,\n",
       "        -2.21842504, -0.04736274,  0.2359325 ,  0.91273001,  0.18095325,\n",
       "        -0.08274026,  1.04484002, -0.229527  , -0.22429451,  0.54866251,\n",
       "         0.03288375,  0.62328999,  0.21142775, -0.07985575, -0.04228   ,\n",
       "         0.0836155 , -0.127435  ,  0.00650325,  0.09412175, -0.103625  ,\n",
       "         0.21998375, -0.096535  , -0.12892   , -0.5954975 , -0.04149   ,\n",
       "        -0.18844   ,  0.02601175, -0.07813999,  0.1961525 , -1.11614999,\n",
       "        -0.03675165, -0.36401624, -0.45220749, -0.284671  , -0.35377249,\n",
       "        -0.08743375, -0.02285675, -0.09163425,  0.0632175 , -0.16844725,\n",
       "        -0.17333   , -0.14257749, -0.36059474,  0.14038   ,  0.3668975 ],\n",
       "       [-0.00287   ,  0.27267   ,  0.32896538, -0.49581499, -0.01583749,\n",
       "         0.32991076, -0.32446925, -0.04559875,  0.17230975,  0.054485  ,\n",
       "        -0.0845825 , -0.062718  , -0.1334525 , -0.1321259 ,  0.13160775,\n",
       "         0.20320474,  0.107129  ,  0.209522  , -0.06033   ,  0.68794499,\n",
       "         0.44394749, -0.08335   , -0.024856  , -0.1785575 ,  0.32291225,\n",
       "         0.0935225 ,  0.15366475, -0.2684575 ,  0.012263  , -0.21984   ,\n",
       "         0.02303   ,  0.49934751,  0.1104565 ,  0.05038975,  0.03932751,\n",
       "         0.1565125 ,  0.115593  , -0.00760975,  0.10507625, -0.13121501,\n",
       "        -0.17385999,  0.169452  , -0.2121475 , -0.0539675 ,  0.03662025,\n",
       "        -0.2357815 ,  0.16147   , -0.4049025 , -0.00371   , -0.66182002,\n",
       "         0.1575975 , -0.07908   ,  0.12661248,  0.651285  , -0.14139   ,\n",
       "        -1.75530505,  0.09487475,  0.25969249,  1.04332501,  0.04376825,\n",
       "        -0.18930276,  0.92444502, -0.1612645 , -0.40199449,  0.59218501,\n",
       "         0.14727624,  0.62273999,  0.2867075 , -0.0287775 ,  0.08866625,\n",
       "         0.1271475 , -0.3638775 , -0.06283675,  0.1083425 , -0.17316499,\n",
       "         0.14862875, -0.06143   , -0.0492875 , -0.5583825 ,  0.046425  ,\n",
       "        -0.08189001, -0.09122325, -0.22450499,  0.23125999, -1.081925  ,\n",
       "        -0.06525165, -0.37323875, -0.39664999, -0.12618675, -0.25597249,\n",
       "        -0.12030374, -0.13105375, -0.1704935 , -0.01369   ,  0.03356275,\n",
       "        -0.272115  , -0.0337775 , -0.10796974,  0.2282705 ,  0.22973275]])"
      ]
     },
     "execution_count": 16,
     "metadata": {},
     "output_type": "execute_result"
    }
   ],
   "source": [
    "vectorizer = SentenceEmbeddingVectorizer(embeddings)\n",
    "vectorizer.transform(['I love this movie', 'I hate this movie'])"
   ]
  },
  {
   "cell_type": "markdown",
   "id": "bcef6d97",
   "metadata": {},
   "source": [
    " Partial output"
   ]
  },
  {
   "cell_type": "code",
   "execution_count": 17,
   "id": "03b35126",
   "metadata": {
    "execution": {
     "iopub.execute_input": "2024-11-23T14:09:10.105713Z",
     "iopub.status.busy": "2024-11-23T14:09:10.105634Z",
     "iopub.status.idle": "2024-11-23T14:09:11.574456Z",
     "shell.execute_reply": "2024-11-23T14:09:11.573561Z"
    }
   },
   "outputs": [
    {
     "name": "stdout",
     "output_type": "stream",
     "text": [
      "Confusion Matrix (Accuracy 0.7865)\n",
      "\n",
      "         Prediction\n",
      "  Actual negative positive\n",
      "negative      803      204\n",
      "positive      223      770\n"
     ]
    }
   ],
   "source": [
    "data = mlba.load_data('IMDB-Dataset-10K.csv')\n",
    "train_X, holdout_X, train_y, holdout_y = train_test_split(data['review'], data['sentiment'],\n",
    "                                                      test_size=0.2, random_state=1)\n",
    "\n",
    "model = make_pipeline(SentenceEmbeddingVectorizer(embeddings),\n",
    "                      LogisticRegression(solver='lbfgs'))\n",
    "model.fit(train_X, train_y)\n",
    "\n",
    "mlba.classificationSummary(y_true=holdout_y, y_pred=model.predict(holdout_X))"
   ]
  },
  {
   "cell_type": "code",
   "execution_count": 18,
   "id": "3d896e6a",
   "metadata": {
    "execution": {
     "iopub.execute_input": "2024-11-23T14:09:11.577302Z",
     "iopub.status.busy": "2024-11-23T14:09:11.577093Z",
     "iopub.status.idle": "2024-11-23T14:09:12.684347Z",
     "shell.execute_reply": "2024-11-23T14:09:12.683931Z"
    }
   },
   "outputs": [],
   "source": [
    "from transformers import AutoTokenizer, AutoModel\n",
    "import torch\n",
    "\n",
    "class TransformerEmbeddingVectorizer:\n",
    "    def __init__(self, model_name=\"sentence-transformers/all-MiniLM-L6-v2\"):\n",
    "        self.tokenizer = AutoTokenizer.from_pretrained(model_name)\n",
    "        self.model = AutoModel.from_pretrained(model_name)\n",
    "\n",
    "    def fit_transform(self, X, y=None):\n",
    "        self.fit(X)\n",
    "        return self.transform(X)\n",
    "\n",
    "    def fit(self, X, y=None):\n",
    "        pass  # no fitting required\n",
    "\n",
    "    def transform(self, X):\n",
    "        transformed = []\n",
    "        for text in X:\n",
    "            if isinstance(text, bytes):  # decode to string if needed\n",
    "                text = text.decode(errors='replace')\n",
    "            # Tokenize the input text and convert to PyTorch tensors\n",
    "            inputs = self.tokenizer(text, return_tensors=\"pt\", truncation=True, padding=True)\n",
    "            # Get the model's output\n",
    "            with torch.no_grad():\n",
    "                outputs = self.model(**inputs)\n",
    "            # The embeddings are usually taken from the last hidden state\n",
    "            embeddings = outputs.last_hidden_state\n",
    "            # Pool the embeddings (mean pooling for simplicity)\n",
    "            embedding = embeddings.mean(dim=1).squeeze()\n",
    "            # Convert to numpy for easier handling if needed\n",
    "            transformed.append(embedding.cpu().numpy())\n",
    "        return np.array(transformed)"
   ]
  },
  {
   "cell_type": "code",
   "execution_count": 19,
   "id": "62951a43",
   "metadata": {
    "execution": {
     "iopub.execute_input": "2024-11-23T14:09:12.685761Z",
     "iopub.status.busy": "2024-11-23T14:09:12.685607Z",
     "iopub.status.idle": "2024-11-23T14:09:14.749314Z",
     "shell.execute_reply": "2024-11-23T14:09:14.748963Z"
    }
   },
   "outputs": [],
   "source": [
    "# save the model to avoid retraining\n",
    "import joblib\n",
    "from pathlib import Path\n",
    "\n",
    "trained_model_filename = Path('transformer_model.joblib')\n",
    "if trained_model_filename.exists():\n",
    "    transformer_model = joblib.load(trained_model_filename)\n",
    "else:\n",
    "    transformer_model = make_pipeline(TransformerEmbeddingVectorizer(),\n",
    "                          LogisticRegression(solver='lbfgs'))\n",
    "    transformer_model.fit(train_X, train_y)\n",
    "    joblib.dump(transformer_model, trained_model_filename)"
   ]
  },
  {
   "cell_type": "code",
   "execution_count": 20,
   "id": "0493c51b",
   "metadata": {
    "execution": {
     "iopub.execute_input": "2024-11-23T14:09:14.750595Z",
     "iopub.status.busy": "2024-11-23T14:09:14.750427Z",
     "iopub.status.idle": "2024-11-23T14:09:39.507321Z",
     "shell.execute_reply": "2024-11-23T14:09:39.497043Z"
    }
   },
   "outputs": [
    {
     "name": "stdout",
     "output_type": "stream",
     "text": [
      "Confusion Matrix (Accuracy 0.8255)\n",
      "\n",
      "         Prediction\n",
      "  Actual negative positive\n",
      "negative      834      173\n",
      "positive      176      817\n"
     ]
    }
   ],
   "source": [
    "mlba.classificationSummary(y_true=holdout_y,\n",
    "                           y_pred=transformer_model.predict(holdout_X))"
   ]
  },
  {
   "cell_type": "markdown",
   "id": "e6b48b42",
   "metadata": {},
   "source": [
    " Partial output"
   ]
  },
  {
   "cell_type": "code",
   "execution_count": 21,
   "id": "557ed3ba",
   "metadata": {
    "execution": {
     "iopub.execute_input": "2024-11-23T14:09:39.519411Z",
     "iopub.status.busy": "2024-11-23T14:09:39.519113Z",
     "iopub.status.idle": "2024-11-23T14:10:09.261455Z",
     "shell.execute_reply": "2024-11-23T14:10:09.260807Z"
    }
   },
   "outputs": [
    {
     "data": {
      "image/png": "[encoded data removed]",
      "text/plain": [
       "<Figure size 500x500 with 1 Axes>"
      ]
     },
     "metadata": {},
     "output_type": "display_data"
    }
   ],
   "source": [
    "def plotROCcurve(y_true, y_proba, label, *, ax=None, add_diagonal=True):\n",
    "    # comput ROC curve and AUC\n",
    "    if ax is None:\n",
    "        fig, ax = plt.subplots(figsize=[5, 5])\n",
    "    fpr, tpr, _ = roc_curve(y_true, y_proba, pos_label='positive')\n",
    "    roc_auc = auc(fpr, tpr)\n",
    "    ax.plot(fpr, tpr, lw=2, label=f'{label} (AUC = {roc_auc:0.4f})')\n",
    "    if add_diagonal:\n",
    "        ax.plot([0, 1], [0, 1], color='grey', lw=2, linestyle='--')\n",
    "    ax.set_xlim([0.0, 1.0])\n",
    "    ax.set_ylim([0.0, 1.05])\n",
    "    ax.set_xlabel('False positive rate (1 - specificity)')\n",
    "    ax.set_ylabel('True positive rate (sensitivity)')\n",
    "    ax.legend(loc=\"lower right\")\n",
    "    return ax\n",
    "\n",
    "fig, ax = plt.subplots(figsize=[5, 5])\n",
    "plotROCcurve(holdout_y, transformer_model.predict_proba(holdout_X)[:, 1],\n",
    "              'Transformer', ax=ax)\n",
    "plotROCcurve(holdout_y, model.predict_proba(holdout_X)[:, 1],\n",
    "              'Glove', ax=ax)\n",
    "plt.tight_layout()\n",
    "plt.show()"
   ]
  }
 ],
 "metadata": {
  "kernelspec": {
   "display_name": ".venv",
   "language": "python",
   "name": "python3"
  },
  "language_info": {
   "codemirror_mode": {
    "name": "ipython",
    "version": 3
   },
   "file_extension": ".py",
   "mimetype": "text/x-python",
   "name": "python",
   "nbconvert_exporter": "python",
   "pygments_lexer": "ipython3",
   "version": "3.11.8"
  }
 },
 "nbformat": 4,
 "nbformat_minor": 5
}
