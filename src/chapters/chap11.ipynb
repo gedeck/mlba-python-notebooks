{
 "cells": [
  {
   "cell_type": "markdown",
   "id": "95133acc",
   "metadata": {},
   "source": [
    "# Chapter 11 \n",
    " Machine Learning for Business Analytics<br>\n",
    "Concepts, Techniques, and Applications in Python<br>\n",
    "by Galit Shmueli, Peter C. Bruce, Peter Gedeck, Nitin R. Patel\n",
    "\n",
    "Publisher: Wiley; 2nd edition (2024) <br>\n",
    "<!-- ISBN-13: 978-3031075650 -->\n",
    "\n",
    "(c) 2024 Galit Shmueli, Peter C. Bruce, Peter Gedeck, Nitin R. Patel\n",
    "\n",
    "The code needs to be executed in sequence.\n",
    "\n",
    "Python packages and Python itself change over time. This can cause warnings or errors.\n",
    "\"Warnings\" are for information only and can usually be ignored.\n",
    "\"Errors\" will stop execution and need to be fixed in order to get results.\n",
    "\n",
    "If you come across an issue with the code, please follow these steps\n",
    "\n",
    "- Check the repository (https://gedeck.github.io/sdsa-code-solutions/) to see if the code has been upgraded. This might solve the problem.\n",
    "- Report the problem using the issue tracker at https://github.com/gedeck/sdsa-code-solutions/issues\n",
    "- Paste the error message into Google and see if someone else already found a solution"
   ]
  },
  {
   "cell_type": "code",
   "execution_count": 2,
   "id": "82d0dc2e",
   "metadata": {
    "execution": {
     "iopub.execute_input": "2024-10-25T21:02:34.205250Z",
     "iopub.status.busy": "2024-10-25T21:02:34.205133Z",
     "iopub.status.idle": "2024-10-25T21:02:36.399264Z",
     "shell.execute_reply": "2024-10-25T21:02:36.398906Z"
    }
   },
   "outputs": [],
   "source": [
    "import pandas as pd\n",
    "from sklearn.model_selection import train_test_split\n",
    "from sklearn.neural_network import MLPClassifier\n",
    "import mlba"
   ]
  },
  {
   "cell_type": "code",
   "execution_count": 3,
   "id": "afb9b723",
   "metadata": {
    "execution": {
     "iopub.execute_input": "2024-10-25T21:02:36.401160Z",
     "iopub.status.busy": "2024-10-25T21:02:36.400991Z",
     "iopub.status.idle": "2024-10-25T21:02:36.420994Z",
     "shell.execute_reply": "2024-10-25T21:02:36.420667Z"
    }
   },
   "outputs": [
    {
     "name": "stdout",
     "output_type": "stream",
     "text": [
      "Intercepts\n",
      "[array([0.13368043, 4.0724755 , 7.00768105]), array([14.30748673])]\n",
      "Weights\n",
      "[array([[ -1.30656481,  -4.20427795, -13.29587332],\n",
      "       [ -0.04399728,  -4.91606922,  -6.03356987]]), array([[ -0.27348313],\n",
      "       [ -9.01211574],\n",
      "       [-17.63504688]])]\n",
      "   Obs.  Fat  Salt Acceptance   dislike      like\n",
      "0     1  0.2   0.9       like  0.000490  0.999510\n",
      "1     2  0.1   0.1    dislike  0.999994  0.000006\n",
      "2     3  0.2   0.4    dislike  0.999741  0.000259\n",
      "3     4  0.2   0.5    dislike  0.997368  0.002632\n",
      "4     5  0.4   0.5       like  0.002133  0.997867\n",
      "5     6  0.3   0.8       like  0.000075  0.999925\n"
     ]
    }
   ],
   "source": [
    "example_df = mlba.load_data('TinyData.csv')\n",
    "\n",
    "predictors = ['Fat', 'Salt']\n",
    "outcome = 'Acceptance'\n",
    "\n",
    "X = example_df[predictors]\n",
    "y = example_df[outcome]\n",
    "classes = sorted(y.unique())\n",
    "\n",
    "clf = MLPClassifier(hidden_layer_sizes=[3], activation='logistic', solver='lbfgs',\n",
    "                    random_state=1)\n",
    "clf.fit(X, y)\n",
    "clf.predict(X)\n",
    "\n",
    "# Network structure\n",
    "print('Intercepts')\n",
    "print(clf.intercepts_)\n",
    "\n",
    "print('Weights')\n",
    "print(clf.coefs_)\n",
    "\n",
    "# Prediction\n",
    "print(pd.concat([\n",
    "    example_df,\n",
    "    pd.DataFrame(clf.predict_proba(X), columns=classes)\n",
    "], axis=1))"
   ]
  },
  {
   "cell_type": "code",
   "execution_count": 4,
   "id": "cd9d775c",
   "metadata": {
    "execution": {
     "iopub.execute_input": "2024-10-25T21:02:36.423001Z",
     "iopub.status.busy": "2024-10-25T21:02:36.422804Z",
     "iopub.status.idle": "2024-10-25T21:02:36.426371Z",
     "shell.execute_reply": "2024-10-25T21:02:36.426068Z"
    }
   },
   "outputs": [
    {
     "name": "stdout",
     "output_type": "stream",
     "text": [
      "clf.intercepts_[0][0]=0.13368043174991306\n",
      "clf.coefs_[0][0:1]=array([[ -1.30656481,  -4.20427795, -13.29587332]])\n",
      "output_N3=0.458\n",
      "output_N4=0.233\n",
      "output_N5=0.253\n",
      "output_N6=0.9995\n"
     ]
    }
   ],
   "source": [
    "import numpy as np\n",
    "print(f'{clf.intercepts_[0][0]=}')\n",
    "print(f'{clf.coefs_[0][0:1]=}')\n",
    "output_N3 = 1/(1+np.exp(-(clf.intercepts_[0][0] + clf.coefs_[0][0][0]*0.2\n",
    "                                                + clf.coefs_[0][1][0]*(0.9))))\n",
    "output_N4 = 1/(1+np.exp(-(clf.intercepts_[0][1] + clf.coefs_[0][0][1]*0.2\n",
    "                                                + clf.coefs_[0][1][1]*(0.9))))\n",
    "output_N5 = 1/(1+np.exp(-(clf.intercepts_[0][2] + clf.coefs_[0][0][2]*0.2\n",
    "                                                + clf.coefs_[0][1][2]*(0.9))))\n",
    "print(f'{output_N3=:.3f}')\n",
    "print(f'{output_N4=:.3f}')\n",
    "print(f'{output_N5=:.3f}')\n",
    "output_N6 = 1/(1+np.exp(-(clf.intercepts_[1][0] + clf.coefs_[1][0][0]*output_N3\n",
    "                                                + clf.coefs_[1][1][0]*output_N4\n",
    "                                                + clf.coefs_[1][2][0]*output_N5)))\n",
    "print(f'{output_N6=:.4f}')"
   ]
  },
  {
   "cell_type": "code",
   "execution_count": 5,
   "id": "45d10de7",
   "metadata": {
    "execution": {
     "iopub.execute_input": "2024-10-25T21:02:36.428084Z",
     "iopub.status.busy": "2024-10-25T21:02:36.427904Z",
     "iopub.status.idle": "2024-10-25T21:02:36.431507Z",
     "shell.execute_reply": "2024-10-25T21:02:36.431206Z"
    }
   },
   "outputs": [
    {
     "name": "stdout",
     "output_type": "stream",
     "text": [
      "Confusion Matrix (Accuracy 1.0000)\n",
      "\n",
      "        Prediction\n",
      " Actual dislike    like\n",
      "dislike       3       0\n",
      "   like       0       3\n"
     ]
    }
   ],
   "source": [
    "mlba.classificationSummary(y_true=y, y_pred=clf.predict(X), class_names=classes)"
   ]
  },
  {
   "cell_type": "code",
   "execution_count": 6,
   "id": "a82c69a1",
   "metadata": {
    "execution": {
     "iopub.execute_input": "2024-10-25T21:02:36.433274Z",
     "iopub.status.busy": "2024-10-25T21:02:36.433163Z",
     "iopub.status.idle": "2024-10-25T21:02:36.463013Z",
     "shell.execute_reply": "2024-10-25T21:02:36.462638Z"
    }
   },
   "outputs": [
    {
     "name": "stdout",
     "output_type": "stream",
     "text": [
      "Confusion Matrix (Accuracy 0.8664)\n",
      "\n",
      "       Prediction\n",
      "Actual   0   1   2\n",
      "     0 331   0   1\n",
      "     1   0 180   0\n",
      "     2  30  49   8\n",
      "Confusion Matrix (Accuracy 0.8550)\n",
      "\n",
      "       Prediction\n",
      "Actual   0   1   2\n",
      "     0 218   0   1\n",
      "     1   0 119   0\n",
      "     2  24  33   5\n"
     ]
    }
   ],
   "source": [
    "accidents_df = mlba.load_data('accidentsnn.csv')\n",
    "input_vars = ['ALCHL_I', 'PROFIL_I_R', 'VEH_INVL']\n",
    "\n",
    "accidents_df.SUR_COND = accidents_df.SUR_COND.astype('category')\n",
    "accidents_df.MAX_SEV_IR = accidents_df.MAX_SEV_IR.astype('category')\n",
    "\n",
    "# convert the categorical data into dummy variables\n",
    "# exclude the column for SUR_COND 9 = unknown\n",
    "processed = pd.get_dummies(accidents_df, columns=['SUR_COND'])\n",
    "processed = processed.drop(columns=['SUR_COND_9'])\n",
    "\n",
    "outcome = 'MAX_SEV_IR'\n",
    "predictors = [c for c in processed.columns if c != outcome]\n",
    "\n",
    "# partition data\n",
    "X = processed[predictors]\n",
    "y = processed[outcome]\n",
    "train_X, valid_X, train_y, valid_y = train_test_split(X, y, test_size=0.4,\n",
    "                                                      random_state=1)\n",
    "\n",
    "# train neural network with 2 hidden nodes\n",
    "clf = MLPClassifier(hidden_layer_sizes=[2], activation='logistic', solver='lbfgs',\n",
    "                    random_state=1)\n",
    "clf.fit(train_X, train_y.values)\n",
    "\n",
    "# training performance (use idxmax to revert the one-hot encoding)\n",
    "mlba.classificationSummary(y_true=train_y, y_pred=clf.predict(train_X))\n",
    "\n",
    "# validation performance\n",
    "mlba.classificationSummary(y_true=valid_y, y_pred=clf.predict(valid_X))"
   ]
  },
  {
   "cell_type": "markdown",
   "id": "a52a610e",
   "metadata": {},
   "source": [
    " Fitting class probabilities separately"
   ]
  },
  {
   "cell_type": "code",
   "execution_count": 7,
   "id": "434108ab",
   "metadata": {
    "execution": {
     "iopub.execute_input": "2024-10-25T21:02:36.465135Z",
     "iopub.status.busy": "2024-10-25T21:02:36.464944Z",
     "iopub.status.idle": "2024-10-25T21:02:36.523644Z",
     "shell.execute_reply": "2024-10-25T21:02:36.523235Z"
    }
   },
   "outputs": [
    {
     "name": "stdout",
     "output_type": "stream",
     "text": [
      "Confusion Matrix (Accuracy 0.8731)\n",
      "\n",
      "             Prediction\n",
      "      Actual MAX_SEV_IR_0 MAX_SEV_IR_1 MAX_SEV_IR_2\n",
      "MAX_SEV_IR_0          332            0            0\n",
      "MAX_SEV_IR_1            0          170           10\n",
      "MAX_SEV_IR_2           31           35           21\n",
      "Confusion Matrix (Accuracy 0.8675)\n",
      "\n",
      "             Prediction\n",
      "      Actual MAX_SEV_IR_0 MAX_SEV_IR_1 MAX_SEV_IR_2\n",
      "MAX_SEV_IR_0          218            0            1\n",
      "MAX_SEV_IR_1            0          113            6\n",
      "MAX_SEV_IR_2           24           22           16\n"
     ]
    }
   ],
   "source": [
    "accidents_df = mlba.load_data('accidentsnn.csv')\n",
    "input_vars = ['ALCHL_I', 'PROFIL_I_R', 'VEH_INVL']\n",
    "\n",
    "accidents_df.SUR_COND = accidents_df.SUR_COND.astype('category')\n",
    "accidents_df.MAX_SEV_IR = accidents_df.MAX_SEV_IR.astype('category')\n",
    "\n",
    "# convert the categorical data into dummy variables\n",
    "processed = pd.get_dummies(accidents_df)\n",
    "# drop the column for SUR_COND 9 = unknown\n",
    "processed = processed.drop(columns=['SUR_COND_9'])\n",
    "\n",
    "outcome = ['MAX_SEV_IR_0', 'MAX_SEV_IR_1', 'MAX_SEV_IR_2']\n",
    "predictors = [c for c in processed.columns if c not in outcome]\n",
    "classes = sorted(outcome)\n",
    "\n",
    "# partition data\n",
    "X = processed[predictors]\n",
    "y = processed[outcome]\n",
    "train_X, valid_X, train_y, valid_y = train_test_split(X, y, test_size=0.4, random_state=1)\n",
    "\n",
    "# train neural network with 2 hidden nodes\n",
    "clf = MLPClassifier(hidden_layer_sizes=[2], activation='logistic', solver='lbfgs',\n",
    "                    random_state=1, max_iter=500)\n",
    "clf.fit(train_X, train_y)\n",
    "\n",
    "# training performance (use idxmax to revert the one-hot encoding)\n",
    "trainPrediction = pd.DataFrame(clf.predict(train_X), columns=outcome).idxmax(axis=1)\n",
    "mlba.classificationSummary(y_true=train_y.idxmax(axis=1), y_pred=trainPrediction, class_names=classes)\n",
    "\n",
    "# validation performance\n",
    "validPrediction = pd.DataFrame(clf.predict(valid_X), columns=outcome).idxmax(axis=1)\n",
    "mlba.classificationSummary(y_true=valid_y.idxmax(axis=1), y_pred=validPrediction, class_names=classes)"
   ]
  },
  {
   "cell_type": "markdown",
   "id": "c4ad5f39",
   "metadata": {},
   "source": [
    " Grid search"
   ]
  },
  {
   "cell_type": "code",
   "execution_count": 8,
   "id": "ec109616",
   "metadata": {
    "execution": {
     "iopub.execute_input": "2024-10-25T21:02:36.525686Z",
     "iopub.status.busy": "2024-10-25T21:02:36.525554Z",
     "iopub.status.idle": "2024-10-25T21:02:38.645457Z",
     "shell.execute_reply": "2024-10-25T21:02:38.644932Z"
    }
   },
   "outputs": [
    {
     "name": "stdout",
     "output_type": "stream",
     "text": [
      "Best score:  0.8630672268907563\n",
      "Best parameters:  {'hidden_layer_sizes': [4]}\n"
     ]
    }
   ],
   "source": [
    "from sklearn.model_selection import GridSearchCV\n",
    "\n",
    "# train neural network using grid search for hyperparameter tuning\n",
    "clf = MLPClassifier(hidden_layer_sizes=[2], activation='logistic', solver='lbfgs',\n",
    "                    random_state=1, max_iter=500)\n",
    "clf.fit(train_X, train_y.values)\n",
    "\n",
    "param_grid = {\n",
    "    'hidden_layer_sizes': [[1], [2], [3], [4], [5]]\n",
    "}\n",
    "gridSearch = GridSearchCV(MLPClassifier(activation='logistic', solver='lbfgs', random_state=1, max_iter=3000),\n",
    "                        param_grid, cv=5, n_jobs=-1, return_train_score=True)\n",
    "gridSearch.fit(train_X, train_y)\n",
    "print('Best score: ', gridSearch.best_score_)\n",
    "print('Best parameters: ', gridSearch.best_params_)"
   ]
  },
  {
   "cell_type": "code",
   "execution_count": 9,
   "id": "45b241a7",
   "metadata": {
    "execution": {
     "iopub.execute_input": "2024-10-25T21:02:38.647901Z",
     "iopub.status.busy": "2024-10-25T21:02:38.647729Z",
     "iopub.status.idle": "2024-10-25T21:02:38.652578Z",
     "shell.execute_reply": "2024-10-25T21:02:38.652160Z"
    }
   },
   "outputs": [
    {
     "name": "stdout",
     "output_type": "stream",
     "text": [
      "  param_hidden_layer_sizes  mean_test_score  std_test_score\n",
      "0                      [1]         0.844762        0.011030\n",
      "1                      [2]         0.848067        0.009913\n",
      "2                      [3]         0.859734        0.025691\n",
      "3                      [4]         0.863067        0.024167\n",
      "4                      [5]         0.856415        0.020770\n"
     ]
    }
   ],
   "source": [
    "display=['param_hidden_layer_sizes', 'mean_test_score', 'std_test_score']\n",
    "print(pd.DataFrame(gridSearch.cv_results_)[display])"
   ]
  },
  {
   "cell_type": "code",
   "execution_count": 10,
   "id": "9b7388d6",
   "metadata": {
    "execution": {
     "iopub.execute_input": "2024-10-25T21:02:38.654648Z",
     "iopub.status.busy": "2024-10-25T21:02:38.654503Z",
     "iopub.status.idle": "2024-10-25T21:02:38.911961Z",
     "shell.execute_reply": "2024-10-25T21:02:38.911276Z"
    }
   },
   "outputs": [
    {
     "data": {
      "image/png": "[encoded data removed]",
      "text/plain": [
       "<Figure size 640x480 with 1 Axes>"
      ]
     },
     "metadata": {},
     "output_type": "display_data"
    }
   ],
   "source": [
    "import matplotlib.pyplot as plt\n",
    "pd.DataFrame(gridSearch.cv_results_)[display].plot(\n",
    "    x='param_hidden_layer_sizes',\n",
    "    y='mean_test_score', yerr='std_test_score', ylim=(0.8, 0.9))\n",
    "plt.show()\n",
    "%matplotlib inline"
   ]
  },
  {
   "cell_type": "code",
   "execution_count": 11,
   "id": "abbe7f5e",
   "metadata": {
    "execution": {
     "iopub.execute_input": "2024-10-25T21:02:38.922663Z",
     "iopub.status.busy": "2024-10-25T21:02:38.921131Z",
     "iopub.status.idle": "2024-10-25T21:02:43.199518Z",
     "shell.execute_reply": "2024-10-25T21:02:43.199108Z"
    }
   },
   "outputs": [],
   "source": [
    "import keras\n",
    "fashion_mnist = keras.datasets.fashion_mnist.load_data()\n",
    "(train_images, train_labels), (test_images, test_labels) = fashion_mnist\n",
    "\n",
    "# pixel values need to be scaled to range [0, 1]\n",
    "train_images = train_images / 255.0\n",
    "test_images = test_images / 255.0\n",
    "\n",
    "# input require an additional dimension to describe pixel values\n",
    "# dimensions are (samples, row, column, pixel)\n",
    "train_images = train_images.reshape(train_images.shape + (1,))\n",
    "test_images = test_images.reshape(test_images.shape + (1,))\n",
    "\n",
    "# output values need to be converted into a matrix with one-hot encoding of classes\n",
    "# dimensions are (samples, classes)\n",
    "train_labels = keras.utils.to_categorical(train_labels, 10)\n",
    "test_labels_ohe = keras.utils.to_categorical(test_labels, 10)"
   ]
  },
  {
   "cell_type": "code",
   "execution_count": 12,
   "id": "e6088b7d",
   "metadata": {
    "execution": {
     "iopub.execute_input": "2024-10-25T21:02:43.201512Z",
     "iopub.status.busy": "2024-10-25T21:02:43.201302Z",
     "iopub.status.idle": "2024-10-25T21:02:43.408546Z",
     "shell.execute_reply": "2024-10-25T21:02:43.408281Z"
    }
   },
   "outputs": [
    {
     "name": "stderr",
     "output_type": "stream",
     "text": [
      "2024-10-25 17:02:43.210088: I metal_plugin/src/device/metal_device.cc:1154] Metal device set to: Apple M3 Max\n",
      "2024-10-25 17:02:43.210109: I metal_plugin/src/device/metal_device.cc:296] systemMemory: 96.00 GB\n",
      "2024-10-25 17:02:43.210117: I metal_plugin/src/device/metal_device.cc:313] maxCacheSize: 36.00 GB\n",
      "2024-10-25 17:02:43.210506: I tensorflow/core/common_runtime/pluggable_device/pluggable_device_factory.cc:305] Could not identify NUMA node of platform GPU ID 0, defaulting to 0. Your kernel may not have been built with NUMA support.\n",
      "2024-10-25 17:02:43.210522: I tensorflow/core/common_runtime/pluggable_device/pluggable_device_factory.cc:271] Created TensorFlow device (/job:localhost/replica:0/task:0/device:GPU:0 with 0 MB memory) -> physical PluggableDevice (device: 0, name: METAL, pci bus id: <undefined>)\n"
     ]
    },
    {
     "data": {
      "text/html": [
       "<pre style=\"white-space:pre;overflow-x:auto;line-height:normal;font-family:Menlo,'DejaVu Sans Mono',consolas,'Courier New',monospace\"><span style=\"font-weight: bold\">Model: \"sequential\"</span>\n",
       "</pre>\n"
      ],
      "text/plain": [
       "\u001b[1mModel: \"sequential\"\u001b[0m\n"
      ]
     },
     "metadata": {},
     "output_type": "display_data"
    },
    {
     "data": {
      "text/html": [
       "<pre style=\"white-space:pre;overflow-x:auto;line-height:normal;font-family:Menlo,'DejaVu Sans Mono',consolas,'Courier New',monospace\">┏━━━━━━━━━━━━━━━━━━━━━━━━━━━━━━━━━┳━━━━━━━━━━━━━━━━━━━━━━━━┳━━━━━━━━━━━━━━━┓\n",
       "┃<span style=\"font-weight: bold\"> Layer (type)                    </span>┃<span style=\"font-weight: bold\"> Output Shape           </span>┃<span style=\"font-weight: bold\">       Param # </span>┃\n",
       "┡━━━━━━━━━━━━━━━━━━━━━━━━━━━━━━━━━╇━━━━━━━━━━━━━━━━━━━━━━━━╇━━━━━━━━━━━━━━━┩\n",
       "│ conv2d (<span style=\"color: #0087ff; text-decoration-color: #0087ff\">Conv2D</span>)                 │ (<span style=\"color: #00d7ff; text-decoration-color: #00d7ff\">None</span>, <span style=\"color: #00af00; text-decoration-color: #00af00\">24</span>, <span style=\"color: #00af00; text-decoration-color: #00af00\">24</span>, <span style=\"color: #00af00; text-decoration-color: #00af00\">32</span>)     │           <span style=\"color: #00af00; text-decoration-color: #00af00\">832</span> │\n",
       "├─────────────────────────────────┼────────────────────────┼───────────────┤\n",
       "│ conv2d_1 (<span style=\"color: #0087ff; text-decoration-color: #0087ff\">Conv2D</span>)               │ (<span style=\"color: #00d7ff; text-decoration-color: #00d7ff\">None</span>, <span style=\"color: #00af00; text-decoration-color: #00af00\">22</span>, <span style=\"color: #00af00; text-decoration-color: #00af00\">22</span>, <span style=\"color: #00af00; text-decoration-color: #00af00\">64</span>)     │        <span style=\"color: #00af00; text-decoration-color: #00af00\">18,496</span> │\n",
       "├─────────────────────────────────┼────────────────────────┼───────────────┤\n",
       "│ max_pooling2d (<span style=\"color: #0087ff; text-decoration-color: #0087ff\">MaxPooling2D</span>)    │ (<span style=\"color: #00d7ff; text-decoration-color: #00d7ff\">None</span>, <span style=\"color: #00af00; text-decoration-color: #00af00\">11</span>, <span style=\"color: #00af00; text-decoration-color: #00af00\">11</span>, <span style=\"color: #00af00; text-decoration-color: #00af00\">64</span>)     │             <span style=\"color: #00af00; text-decoration-color: #00af00\">0</span> │\n",
       "├─────────────────────────────────┼────────────────────────┼───────────────┤\n",
       "│ dropout (<span style=\"color: #0087ff; text-decoration-color: #0087ff\">Dropout</span>)               │ (<span style=\"color: #00d7ff; text-decoration-color: #00d7ff\">None</span>, <span style=\"color: #00af00; text-decoration-color: #00af00\">11</span>, <span style=\"color: #00af00; text-decoration-color: #00af00\">11</span>, <span style=\"color: #00af00; text-decoration-color: #00af00\">64</span>)     │             <span style=\"color: #00af00; text-decoration-color: #00af00\">0</span> │\n",
       "├─────────────────────────────────┼────────────────────────┼───────────────┤\n",
       "│ flatten (<span style=\"color: #0087ff; text-decoration-color: #0087ff\">Flatten</span>)               │ (<span style=\"color: #00d7ff; text-decoration-color: #00d7ff\">None</span>, <span style=\"color: #00af00; text-decoration-color: #00af00\">7744</span>)           │             <span style=\"color: #00af00; text-decoration-color: #00af00\">0</span> │\n",
       "├─────────────────────────────────┼────────────────────────┼───────────────┤\n",
       "│ dense (<span style=\"color: #0087ff; text-decoration-color: #0087ff\">Dense</span>)                   │ (<span style=\"color: #00d7ff; text-decoration-color: #00d7ff\">None</span>, <span style=\"color: #00af00; text-decoration-color: #00af00\">128</span>)            │       <span style=\"color: #00af00; text-decoration-color: #00af00\">991,360</span> │\n",
       "├─────────────────────────────────┼────────────────────────┼───────────────┤\n",
       "│ dropout_1 (<span style=\"color: #0087ff; text-decoration-color: #0087ff\">Dropout</span>)             │ (<span style=\"color: #00d7ff; text-decoration-color: #00d7ff\">None</span>, <span style=\"color: #00af00; text-decoration-color: #00af00\">128</span>)            │             <span style=\"color: #00af00; text-decoration-color: #00af00\">0</span> │\n",
       "├─────────────────────────────────┼────────────────────────┼───────────────┤\n",
       "│ dense_1 (<span style=\"color: #0087ff; text-decoration-color: #0087ff\">Dense</span>)                 │ (<span style=\"color: #00d7ff; text-decoration-color: #00d7ff\">None</span>, <span style=\"color: #00af00; text-decoration-color: #00af00\">10</span>)             │         <span style=\"color: #00af00; text-decoration-color: #00af00\">1,290</span> │\n",
       "└─────────────────────────────────┴────────────────────────┴───────────────┘\n",
       "</pre>\n"
      ],
      "text/plain": [
       "┏━━━━━━━━━━━━━━━━━━━━━━━━━━━━━━━━━┳━━━━━━━━━━━━━━━━━━━━━━━━┳━━━━━━━━━━━━━━━┓\n",
       "┃\u001b[1m \u001b[0m\u001b[1mLayer (type)                   \u001b[0m\u001b[1m \u001b[0m┃\u001b[1m \u001b[0m\u001b[1mOutput Shape          \u001b[0m\u001b[1m \u001b[0m┃\u001b[1m \u001b[0m\u001b[1m      Param #\u001b[0m\u001b[1m \u001b[0m┃\n",
       "┡━━━━━━━━━━━━━━━━━━━━━━━━━━━━━━━━━╇━━━━━━━━━━━━━━━━━━━━━━━━╇━━━━━━━━━━━━━━━┩\n",
       "│ conv2d (\u001b[38;5;33mConv2D\u001b[0m)                 │ (\u001b[38;5;45mNone\u001b[0m, \u001b[38;5;34m24\u001b[0m, \u001b[38;5;34m24\u001b[0m, \u001b[38;5;34m32\u001b[0m)     │           \u001b[38;5;34m832\u001b[0m │\n",
       "├─────────────────────────────────┼────────────────────────┼───────────────┤\n",
       "│ conv2d_1 (\u001b[38;5;33mConv2D\u001b[0m)               │ (\u001b[38;5;45mNone\u001b[0m, \u001b[38;5;34m22\u001b[0m, \u001b[38;5;34m22\u001b[0m, \u001b[38;5;34m64\u001b[0m)     │        \u001b[38;5;34m18,496\u001b[0m │\n",
       "├─────────────────────────────────┼────────────────────────┼───────────────┤\n",
       "│ max_pooling2d (\u001b[38;5;33mMaxPooling2D\u001b[0m)    │ (\u001b[38;5;45mNone\u001b[0m, \u001b[38;5;34m11\u001b[0m, \u001b[38;5;34m11\u001b[0m, \u001b[38;5;34m64\u001b[0m)     │             \u001b[38;5;34m0\u001b[0m │\n",
       "├─────────────────────────────────┼────────────────────────┼───────────────┤\n",
       "│ dropout (\u001b[38;5;33mDropout\u001b[0m)               │ (\u001b[38;5;45mNone\u001b[0m, \u001b[38;5;34m11\u001b[0m, \u001b[38;5;34m11\u001b[0m, \u001b[38;5;34m64\u001b[0m)     │             \u001b[38;5;34m0\u001b[0m │\n",
       "├─────────────────────────────────┼────────────────────────┼───────────────┤\n",
       "│ flatten (\u001b[38;5;33mFlatten\u001b[0m)               │ (\u001b[38;5;45mNone\u001b[0m, \u001b[38;5;34m7744\u001b[0m)           │             \u001b[38;5;34m0\u001b[0m │\n",
       "├─────────────────────────────────┼────────────────────────┼───────────────┤\n",
       "│ dense (\u001b[38;5;33mDense\u001b[0m)                   │ (\u001b[38;5;45mNone\u001b[0m, \u001b[38;5;34m128\u001b[0m)            │       \u001b[38;5;34m991,360\u001b[0m │\n",
       "├─────────────────────────────────┼────────────────────────┼───────────────┤\n",
       "│ dropout_1 (\u001b[38;5;33mDropout\u001b[0m)             │ (\u001b[38;5;45mNone\u001b[0m, \u001b[38;5;34m128\u001b[0m)            │             \u001b[38;5;34m0\u001b[0m │\n",
       "├─────────────────────────────────┼────────────────────────┼───────────────┤\n",
       "│ dense_1 (\u001b[38;5;33mDense\u001b[0m)                 │ (\u001b[38;5;45mNone\u001b[0m, \u001b[38;5;34m10\u001b[0m)             │         \u001b[38;5;34m1,290\u001b[0m │\n",
       "└─────────────────────────────────┴────────────────────────┴───────────────┘\n"
      ]
     },
     "metadata": {},
     "output_type": "display_data"
    },
    {
     "data": {
      "text/html": [
       "<pre style=\"white-space:pre;overflow-x:auto;line-height:normal;font-family:Menlo,'DejaVu Sans Mono',consolas,'Courier New',monospace\"><span style=\"font-weight: bold\"> Total params: </span><span style=\"color: #00af00; text-decoration-color: #00af00\">1,011,978</span> (3.86 MB)\n",
       "</pre>\n"
      ],
      "text/plain": [
       "\u001b[1m Total params: \u001b[0m\u001b[38;5;34m1,011,978\u001b[0m (3.86 MB)\n"
      ]
     },
     "metadata": {},
     "output_type": "display_data"
    },
    {
     "data": {
      "text/html": [
       "<pre style=\"white-space:pre;overflow-x:auto;line-height:normal;font-family:Menlo,'DejaVu Sans Mono',consolas,'Courier New',monospace\"><span style=\"font-weight: bold\"> Trainable params: </span><span style=\"color: #00af00; text-decoration-color: #00af00\">1,011,978</span> (3.86 MB)\n",
       "</pre>\n"
      ],
      "text/plain": [
       "\u001b[1m Trainable params: \u001b[0m\u001b[38;5;34m1,011,978\u001b[0m (3.86 MB)\n"
      ]
     },
     "metadata": {},
     "output_type": "display_data"
    },
    {
     "data": {
      "text/html": [
       "<pre style=\"white-space:pre;overflow-x:auto;line-height:normal;font-family:Menlo,'DejaVu Sans Mono',consolas,'Courier New',monospace\"><span style=\"font-weight: bold\"> Non-trainable params: </span><span style=\"color: #00af00; text-decoration-color: #00af00\">0</span> (0.00 B)\n",
       "</pre>\n"
      ],
      "text/plain": [
       "\u001b[1m Non-trainable params: \u001b[0m\u001b[38;5;34m0\u001b[0m (0.00 B)\n"
      ]
     },
     "metadata": {},
     "output_type": "display_data"
    }
   ],
   "source": [
    "input_shape = train_images.shape[1:]\n",
    "num_classes = 10\n",
    "\n",
    "model = keras.Sequential([\n",
    "    keras.Input(input_shape),\n",
    "    keras.layers.Conv2D(32, (5, 5), activation='relu'),\n",
    "    keras.layers.Conv2D(64, (3, 3), activation='relu'),\n",
    "    keras.layers.MaxPooling2D(pool_size=(2, 2)),\n",
    "    keras.layers.Dropout(0.25),\n",
    "    keras.layers.Flatten(),\n",
    "    keras.layers.Dense(128, activation='relu'),\n",
    "    keras.layers.Dropout(0.5),\n",
    "    keras.layers.Dense(num_classes, activation='softmax'),\n",
    "])\n",
    "model.summary()"
   ]
  },
  {
   "cell_type": "code",
   "execution_count": 13,
   "id": "a52de650",
   "metadata": {
    "execution": {
     "iopub.execute_input": "2024-10-25T21:02:43.410125Z",
     "iopub.status.busy": "2024-10-25T21:02:43.410009Z",
     "iopub.status.idle": "2024-10-25T21:02:43.432459Z",
     "shell.execute_reply": "2024-10-25T21:02:43.432136Z"
    }
   },
   "outputs": [],
   "source": [
    "# keep a copy of the defined model to train with fewer epochs\n",
    "model_cloned = keras.models.clone_model(model)"
   ]
  },
  {
   "cell_type": "code",
   "execution_count": 14,
   "id": "8b2c2902",
   "metadata": {
    "execution": {
     "iopub.execute_input": "2024-10-25T21:02:43.434111Z",
     "iopub.status.busy": "2024-10-25T21:02:43.434015Z",
     "iopub.status.idle": "2024-10-25T21:06:37.749610Z",
     "shell.execute_reply": "2024-10-25T21:06:37.749324Z"
    }
   },
   "outputs": [
    {
     "name": "stdout",
     "output_type": "stream",
     "text": [
      "Epoch 1/50\n"
     ]
    },
    {
     "name": "stderr",
     "output_type": "stream",
     "text": [
      "2024-10-25 17:02:43.943692: I tensorflow/core/grappler/optimizers/custom_graph_optimizer_registry.cc:117] Plugin optimizer for device_type GPU is enabled.\n"
     ]
    },
    {
     "name": "stdout",
     "output_type": "stream",
     "text": [
      "235/235 - 6s - 24ms/step - accuracy: 0.7825 - loss: 0.6155 - val_accuracy: 0.8631 - val_loss: 0.3889\n"
     ]
    },
    {
     "name": "stdout",
     "output_type": "stream",
     "text": [
      "Epoch 2/50\n"
     ]
    },
    {
     "name": "stdout",
     "output_type": "stream",
     "text": [
      "235/235 - 5s - 19ms/step - accuracy: 0.8636 - loss: 0.3831 - val_accuracy: 0.8826 - val_loss: 0.3215\n"
     ]
    },
    {
     "name": "stdout",
     "output_type": "stream",
     "text": [
      "Epoch 3/50\n"
     ]
    },
    {
     "name": "stdout",
     "output_type": "stream",
     "text": [
      "235/235 - 4s - 16ms/step - accuracy: 0.8835 - loss: 0.3287 - val_accuracy: 0.8928 - val_loss: 0.2968\n"
     ]
    },
    {
     "name": "stdout",
     "output_type": "stream",
     "text": [
      "Epoch 4/50\n"
     ]
    },
    {
     "name": "stdout",
     "output_type": "stream",
     "text": [
      "235/235 - 4s - 16ms/step - accuracy: 0.8926 - loss: 0.2985 - val_accuracy: 0.8916 - val_loss: 0.2864\n"
     ]
    },
    {
     "name": "stdout",
     "output_type": "stream",
     "text": [
      "Epoch 5/50\n"
     ]
    },
    {
     "name": "stdout",
     "output_type": "stream",
     "text": [
      "235/235 - 4s - 18ms/step - accuracy: 0.9003 - loss: 0.2726 - val_accuracy: 0.9069 - val_loss: 0.2618\n"
     ]
    },
    {
     "name": "stdout",
     "output_type": "stream",
     "text": [
      "Epoch 6/50\n"
     ]
    },
    {
     "name": "stdout",
     "output_type": "stream",
     "text": [
      "235/235 - 4s - 15ms/step - accuracy: 0.9069 - loss: 0.2548 - val_accuracy: 0.9049 - val_loss: 0.2546\n"
     ]
    },
    {
     "name": "stdout",
     "output_type": "stream",
     "text": [
      "Epoch 7/50\n"
     ]
    },
    {
     "name": "stdout",
     "output_type": "stream",
     "text": [
      "235/235 - 4s - 17ms/step - accuracy: 0.9128 - loss: 0.2412 - val_accuracy: 0.9088 - val_loss: 0.2510\n"
     ]
    },
    {
     "name": "stdout",
     "output_type": "stream",
     "text": [
      "Epoch 8/50\n"
     ]
    },
    {
     "name": "stdout",
     "output_type": "stream",
     "text": [
      "235/235 - 4s - 17ms/step - accuracy: 0.9177 - loss: 0.2232 - val_accuracy: 0.9163 - val_loss: 0.2314\n"
     ]
    },
    {
     "name": "stdout",
     "output_type": "stream",
     "text": [
      "Epoch 9/50\n"
     ]
    },
    {
     "name": "stdout",
     "output_type": "stream",
     "text": [
      "235/235 - 4s - 18ms/step - accuracy: 0.9220 - loss: 0.2134 - val_accuracy: 0.9103 - val_loss: 0.2430\n"
     ]
    },
    {
     "name": "stdout",
     "output_type": "stream",
     "text": [
      "Epoch 10/50\n"
     ]
    },
    {
     "name": "stdout",
     "output_type": "stream",
     "text": [
      "235/235 - 4s - 18ms/step - accuracy: 0.9258 - loss: 0.2012 - val_accuracy: 0.9167 - val_loss: 0.2327\n"
     ]
    },
    {
     "name": "stdout",
     "output_type": "stream",
     "text": [
      "Epoch 11/50\n"
     ]
    },
    {
     "name": "stdout",
     "output_type": "stream",
     "text": [
      "235/235 - 4s - 18ms/step - accuracy: 0.9278 - loss: 0.1942 - val_accuracy: 0.9216 - val_loss: 0.2190\n"
     ]
    },
    {
     "name": "stdout",
     "output_type": "stream",
     "text": [
      "Epoch 12/50\n"
     ]
    },
    {
     "name": "stdout",
     "output_type": "stream",
     "text": [
      "235/235 - 4s - 18ms/step - accuracy: 0.9314 - loss: 0.1836 - val_accuracy: 0.9180 - val_loss: 0.2238\n"
     ]
    },
    {
     "name": "stdout",
     "output_type": "stream",
     "text": [
      "Epoch 13/50\n"
     ]
    },
    {
     "name": "stdout",
     "output_type": "stream",
     "text": [
      "235/235 - 4s - 17ms/step - accuracy: 0.9349 - loss: 0.1730 - val_accuracy: 0.9222 - val_loss: 0.2245\n"
     ]
    },
    {
     "name": "stdout",
     "output_type": "stream",
     "text": [
      "Epoch 14/50\n"
     ]
    },
    {
     "name": "stdout",
     "output_type": "stream",
     "text": [
      "235/235 - 4s - 16ms/step - accuracy: 0.9372 - loss: 0.1661 - val_accuracy: 0.9177 - val_loss: 0.2359\n"
     ]
    },
    {
     "name": "stdout",
     "output_type": "stream",
     "text": [
      "Epoch 15/50\n"
     ]
    },
    {
     "name": "stdout",
     "output_type": "stream",
     "text": [
      "235/235 - 4s - 17ms/step - accuracy: 0.9408 - loss: 0.1537 - val_accuracy: 0.9193 - val_loss: 0.2295\n"
     ]
    },
    {
     "name": "stdout",
     "output_type": "stream",
     "text": [
      "Epoch 16/50\n"
     ]
    },
    {
     "name": "stdout",
     "output_type": "stream",
     "text": [
      "235/235 - 4s - 16ms/step - accuracy: 0.9419 - loss: 0.1516 - val_accuracy: 0.9231 - val_loss: 0.2246\n"
     ]
    },
    {
     "name": "stdout",
     "output_type": "stream",
     "text": [
      "Epoch 17/50\n"
     ]
    },
    {
     "name": "stdout",
     "output_type": "stream",
     "text": [
      "235/235 - 4s - 16ms/step - accuracy: 0.9460 - loss: 0.1436 - val_accuracy: 0.9203 - val_loss: 0.2360\n"
     ]
    },
    {
     "name": "stdout",
     "output_type": "stream",
     "text": [
      "Epoch 18/50\n"
     ]
    },
    {
     "name": "stdout",
     "output_type": "stream",
     "text": [
      "235/235 - 4s - 16ms/step - accuracy: 0.9473 - loss: 0.1397 - val_accuracy: 0.9228 - val_loss: 0.2286\n"
     ]
    },
    {
     "name": "stdout",
     "output_type": "stream",
     "text": [
      "Epoch 19/50\n"
     ]
    },
    {
     "name": "stdout",
     "output_type": "stream",
     "text": [
      "235/235 - 4s - 16ms/step - accuracy: 0.9477 - loss: 0.1347 - val_accuracy: 0.9233 - val_loss: 0.2281\n"
     ]
    },
    {
     "name": "stdout",
     "output_type": "stream",
     "text": [
      "Epoch 20/50\n"
     ]
    },
    {
     "name": "stdout",
     "output_type": "stream",
     "text": [
      "235/235 - 4s - 16ms/step - accuracy: 0.9507 - loss: 0.1297 - val_accuracy: 0.9183 - val_loss: 0.2412\n"
     ]
    },
    {
     "name": "stdout",
     "output_type": "stream",
     "text": [
      "Epoch 21/50\n"
     ]
    },
    {
     "name": "stdout",
     "output_type": "stream",
     "text": [
      "235/235 - 4s - 17ms/step - accuracy: 0.9525 - loss: 0.1228 - val_accuracy: 0.9236 - val_loss: 0.2318\n"
     ]
    },
    {
     "name": "stdout",
     "output_type": "stream",
     "text": [
      "Epoch 22/50\n"
     ]
    },
    {
     "name": "stdout",
     "output_type": "stream",
     "text": [
      "235/235 - 4s - 19ms/step - accuracy: 0.9532 - loss: 0.1200 - val_accuracy: 0.9226 - val_loss: 0.2432\n"
     ]
    },
    {
     "name": "stdout",
     "output_type": "stream",
     "text": [
      "Epoch 23/50\n"
     ]
    },
    {
     "name": "stdout",
     "output_type": "stream",
     "text": [
      "235/235 - 4s - 15ms/step - accuracy: 0.9556 - loss: 0.1154 - val_accuracy: 0.9235 - val_loss: 0.2415\n"
     ]
    },
    {
     "name": "stdout",
     "output_type": "stream",
     "text": [
      "Epoch 24/50\n"
     ]
    },
    {
     "name": "stdout",
     "output_type": "stream",
     "text": [
      "235/235 - 4s - 16ms/step - accuracy: 0.9560 - loss: 0.1134 - val_accuracy: 0.9228 - val_loss: 0.2376\n"
     ]
    },
    {
     "name": "stdout",
     "output_type": "stream",
     "text": [
      "Epoch 25/50\n"
     ]
    },
    {
     "name": "stdout",
     "output_type": "stream",
     "text": [
      "235/235 - 4s - 16ms/step - accuracy: 0.9582 - loss: 0.1091 - val_accuracy: 0.9239 - val_loss: 0.2495\n"
     ]
    },
    {
     "name": "stdout",
     "output_type": "stream",
     "text": [
      "Epoch 26/50\n"
     ]
    },
    {
     "name": "stdout",
     "output_type": "stream",
     "text": [
      "235/235 - 4s - 16ms/step - accuracy: 0.9587 - loss: 0.1063 - val_accuracy: 0.9277 - val_loss: 0.2483\n"
     ]
    },
    {
     "name": "stdout",
     "output_type": "stream",
     "text": [
      "Epoch 27/50\n"
     ]
    },
    {
     "name": "stdout",
     "output_type": "stream",
     "text": [
      "235/235 - 4s - 16ms/step - accuracy: 0.9611 - loss: 0.0995 - val_accuracy: 0.9245 - val_loss: 0.2478\n"
     ]
    },
    {
     "name": "stdout",
     "output_type": "stream",
     "text": [
      "Epoch 28/50\n"
     ]
    },
    {
     "name": "stdout",
     "output_type": "stream",
     "text": [
      "235/235 - 4s - 16ms/step - accuracy: 0.9621 - loss: 0.0984 - val_accuracy: 0.9275 - val_loss: 0.2471\n"
     ]
    },
    {
     "name": "stdout",
     "output_type": "stream",
     "text": [
      "Epoch 29/50\n"
     ]
    },
    {
     "name": "stdout",
     "output_type": "stream",
     "text": [
      "235/235 - 4s - 16ms/step - accuracy: 0.9635 - loss: 0.0939 - val_accuracy: 0.9282 - val_loss: 0.2485\n"
     ]
    },
    {
     "name": "stdout",
     "output_type": "stream",
     "text": [
      "Epoch 30/50\n"
     ]
    },
    {
     "name": "stdout",
     "output_type": "stream",
     "text": [
      "235/235 - 4s - 16ms/step - accuracy: 0.9653 - loss: 0.0924 - val_accuracy: 0.9243 - val_loss: 0.2762\n"
     ]
    },
    {
     "name": "stdout",
     "output_type": "stream",
     "text": [
      "Epoch 31/50\n"
     ]
    },
    {
     "name": "stdout",
     "output_type": "stream",
     "text": [
      "235/235 - 4s - 16ms/step - accuracy: 0.9650 - loss: 0.0897 - val_accuracy: 0.9260 - val_loss: 0.2556\n"
     ]
    },
    {
     "name": "stdout",
     "output_type": "stream",
     "text": [
      "Epoch 32/50\n"
     ]
    },
    {
     "name": "stdout",
     "output_type": "stream",
     "text": [
      "235/235 - 4s - 16ms/step - accuracy: 0.9652 - loss: 0.0885 - val_accuracy: 0.9247 - val_loss: 0.2734\n"
     ]
    },
    {
     "name": "stdout",
     "output_type": "stream",
     "text": [
      "Epoch 33/50\n"
     ]
    },
    {
     "name": "stdout",
     "output_type": "stream",
     "text": [
      "235/235 - 4s - 15ms/step - accuracy: 0.9677 - loss: 0.0858 - val_accuracy: 0.9279 - val_loss: 0.2676\n"
     ]
    },
    {
     "name": "stdout",
     "output_type": "stream",
     "text": [
      "Epoch 34/50\n"
     ]
    },
    {
     "name": "stdout",
     "output_type": "stream",
     "text": [
      "235/235 - 4s - 16ms/step - accuracy: 0.9669 - loss: 0.0842 - val_accuracy: 0.9248 - val_loss: 0.2868\n"
     ]
    },
    {
     "name": "stdout",
     "output_type": "stream",
     "text": [
      "Epoch 35/50\n"
     ]
    },
    {
     "name": "stdout",
     "output_type": "stream",
     "text": [
      "235/235 - 4s - 16ms/step - accuracy: 0.9677 - loss: 0.0831 - val_accuracy: 0.9243 - val_loss: 0.2923\n"
     ]
    },
    {
     "name": "stdout",
     "output_type": "stream",
     "text": [
      "Epoch 36/50\n"
     ]
    },
    {
     "name": "stdout",
     "output_type": "stream",
     "text": [
      "235/235 - 4s - 16ms/step - accuracy: 0.9684 - loss: 0.0804 - val_accuracy: 0.9275 - val_loss: 0.2929\n"
     ]
    },
    {
     "name": "stdout",
     "output_type": "stream",
     "text": [
      "Epoch 37/50\n"
     ]
    },
    {
     "name": "stdout",
     "output_type": "stream",
     "text": [
      "235/235 - 4s - 16ms/step - accuracy: 0.9696 - loss: 0.0770 - val_accuracy: 0.9242 - val_loss: 0.3078\n"
     ]
    },
    {
     "name": "stdout",
     "output_type": "stream",
     "text": [
      "Epoch 38/50\n"
     ]
    },
    {
     "name": "stdout",
     "output_type": "stream",
     "text": [
      "235/235 - 4s - 16ms/step - accuracy: 0.9697 - loss: 0.0782 - val_accuracy: 0.9271 - val_loss: 0.2780\n"
     ]
    },
    {
     "name": "stdout",
     "output_type": "stream",
     "text": [
      "Epoch 39/50\n"
     ]
    },
    {
     "name": "stdout",
     "output_type": "stream",
     "text": [
      "235/235 - 4s - 16ms/step - accuracy: 0.9696 - loss: 0.0768 - val_accuracy: 0.9272 - val_loss: 0.2801\n"
     ]
    },
    {
     "name": "stdout",
     "output_type": "stream",
     "text": [
      "Epoch 40/50\n"
     ]
    },
    {
     "name": "stdout",
     "output_type": "stream",
     "text": [
      "235/235 - 4s - 16ms/step - accuracy: 0.9705 - loss: 0.0747 - val_accuracy: 0.9294 - val_loss: 0.2800\n"
     ]
    },
    {
     "name": "stdout",
     "output_type": "stream",
     "text": [
      "Epoch 41/50\n"
     ]
    },
    {
     "name": "stdout",
     "output_type": "stream",
     "text": [
      "235/235 - 5s - 22ms/step - accuracy: 0.9707 - loss: 0.0725 - val_accuracy: 0.9247 - val_loss: 0.3046\n"
     ]
    },
    {
     "name": "stdout",
     "output_type": "stream",
     "text": [
      "Epoch 42/50\n"
     ]
    },
    {
     "name": "stdout",
     "output_type": "stream",
     "text": [
      "235/235 - 12s - 50ms/step - accuracy: 0.9705 - loss: 0.0744 - val_accuracy: 0.9280 - val_loss: 0.3057\n"
     ]
    },
    {
     "name": "stdout",
     "output_type": "stream",
     "text": [
      "Epoch 43/50\n"
     ]
    },
    {
     "name": "stdout",
     "output_type": "stream",
     "text": [
      "235/235 - 13s - 54ms/step - accuracy: 0.9707 - loss: 0.0756 - val_accuracy: 0.9253 - val_loss: 0.2941\n"
     ]
    },
    {
     "name": "stdout",
     "output_type": "stream",
     "text": [
      "Epoch 44/50\n"
     ]
    },
    {
     "name": "stdout",
     "output_type": "stream",
     "text": [
      "235/235 - 12s - 52ms/step - accuracy: 0.9737 - loss: 0.0674 - val_accuracy: 0.9281 - val_loss: 0.3139\n"
     ]
    },
    {
     "name": "stdout",
     "output_type": "stream",
     "text": [
      "Epoch 45/50\n"
     ]
    },
    {
     "name": "stdout",
     "output_type": "stream",
     "text": [
      "235/235 - 10s - 44ms/step - accuracy: 0.9741 - loss: 0.0687 - val_accuracy: 0.9283 - val_loss: 0.2899\n"
     ]
    },
    {
     "name": "stdout",
     "output_type": "stream",
     "text": [
      "Epoch 46/50\n"
     ]
    },
    {
     "name": "stdout",
     "output_type": "stream",
     "text": [
      "235/235 - 10s - 44ms/step - accuracy: 0.9735 - loss: 0.0665 - val_accuracy: 0.9294 - val_loss: 0.3075\n"
     ]
    },
    {
     "name": "stdout",
     "output_type": "stream",
     "text": [
      "Epoch 47/50\n"
     ]
    },
    {
     "name": "stdout",
     "output_type": "stream",
     "text": [
      "235/235 - 4s - 18ms/step - accuracy: 0.9747 - loss: 0.0642 - val_accuracy: 0.9277 - val_loss: 0.3021\n"
     ]
    },
    {
     "name": "stdout",
     "output_type": "stream",
     "text": [
      "Epoch 48/50\n"
     ]
    },
    {
     "name": "stdout",
     "output_type": "stream",
     "text": [
      "235/235 - 4s - 15ms/step - accuracy: 0.9767 - loss: 0.0616 - val_accuracy: 0.9281 - val_loss: 0.3182\n"
     ]
    },
    {
     "name": "stdout",
     "output_type": "stream",
     "text": [
      "Epoch 49/50\n"
     ]
    },
    {
     "name": "stdout",
     "output_type": "stream",
     "text": [
      "235/235 - 4s - 15ms/step - accuracy: 0.9752 - loss: 0.0638 - val_accuracy: 0.9274 - val_loss: 0.3244\n"
     ]
    },
    {
     "name": "stdout",
     "output_type": "stream",
     "text": [
      "Epoch 50/50\n"
     ]
    },
    {
     "name": "stdout",
     "output_type": "stream",
     "text": [
      "235/235 - 4s - 15ms/step - accuracy: 0.9743 - loss: 0.0649 - val_accuracy: 0.9284 - val_loss: 0.3221\n"
     ]
    }
   ],
   "source": [
    "model.compile(optimizer='adam', loss='categorical_crossentropy',\n",
    "              metrics=['accuracy'])\n",
    "\n",
    "history = model.fit(train_images, train_labels, batch_size=256, epochs=50,\n",
    "          validation_data=(test_images, test_labels_ohe), verbose=2)"
   ]
  },
  {
   "cell_type": "code",
   "execution_count": 15,
   "id": "7e16e4f8",
   "metadata": {
    "execution": {
     "iopub.execute_input": "2024-10-25T21:06:37.750978Z",
     "iopub.status.busy": "2024-10-25T21:06:37.750899Z",
     "iopub.status.idle": "2024-10-25T21:06:37.939016Z",
     "shell.execute_reply": "2024-10-25T21:06:37.938688Z"
    }
   },
   "outputs": [
    {
     "data": {
      "image/png": "[encoded data removed]",
      "text/plain": [
       "<Figure size 800x300 with 2 Axes>"
      ]
     },
     "metadata": {},
     "output_type": "display_data"
    }
   ],
   "source": [
    "def plotMetrics(metrics, ax, ycolumns, legend, ylabel):\n",
    "    if ylabel == 'Loss':\n",
    "        best_val_epoch = metrics[ycolumns[1]].argmin()\n",
    "    else:\n",
    "        best_val_epoch = metrics[ycolumns[1]].argmax()\n",
    "    best_val_metric = metrics[ycolumns[1]][best_val_epoch]\n",
    "\n",
    "    ax = metrics.plot(x='Epoch', y=ycolumns, ax=ax)\n",
    "    ax.axhline(best_val_metric, linestyle='--', color='grey')\n",
    "    if ylabel == 'Loss':\n",
    "        ax.axvline(best_val_epoch, linestyle='--', color='grey')\n",
    "    ax.legend(legend)\n",
    "    ax.set_ylabel(ylabel)\n",
    "\n",
    "metrics = pd.DataFrame(history.history)\n",
    "metrics['Epoch'] = [e + 1 for e in history.epoch]\n",
    "fig, axes = plt.subplots(1, 2, figsize=(8, 3))\n",
    "plotMetrics(metrics, axes[0], ['loss', 'val_loss'],\n",
    "            ['Training loss', 'Validation loss'], 'Loss')\n",
    "plotMetrics(metrics, axes[1], ['accuracy', 'val_accuracy'],\n",
    "            ['Training accuracy', 'Validation accuracy'], 'Accuracy')\n",
    "plt.tight_layout()\n",
    "plt.show()"
   ]
  },
  {
   "cell_type": "code",
   "execution_count": 16,
   "id": "a228a03f",
   "metadata": {
    "execution": {
     "iopub.execute_input": "2024-10-25T21:06:37.940606Z",
     "iopub.status.busy": "2024-10-25T21:06:37.940496Z",
     "iopub.status.idle": "2024-10-25T21:07:56.418212Z",
     "shell.execute_reply": "2024-10-25T21:07:56.417855Z"
    }
   },
   "outputs": [
    {
     "name": "stdout",
     "output_type": "stream",
     "text": [
      "Epoch 1/20\n"
     ]
    },
    {
     "name": "stdout",
     "output_type": "stream",
     "text": [
      "235/235 - 5s - 20ms/step - accuracy: 0.7776 - loss: 0.6285 - val_accuracy: 0.8536 - val_loss: 0.3906\n"
     ]
    },
    {
     "name": "stdout",
     "output_type": "stream",
     "text": [
      "Epoch 2/20\n"
     ]
    },
    {
     "name": "stdout",
     "output_type": "stream",
     "text": [
      "235/235 - 4s - 16ms/step - accuracy: 0.8569 - loss: 0.3986 - val_accuracy: 0.8813 - val_loss: 0.3264\n"
     ]
    },
    {
     "name": "stdout",
     "output_type": "stream",
     "text": [
      "Epoch 3/20\n"
     ]
    },
    {
     "name": "stdout",
     "output_type": "stream",
     "text": [
      "235/235 - 4s - 16ms/step - accuracy: 0.8776 - loss: 0.3454 - val_accuracy: 0.8930 - val_loss: 0.2921\n"
     ]
    },
    {
     "name": "stdout",
     "output_type": "stream",
     "text": [
      "Epoch 4/20\n"
     ]
    },
    {
     "name": "stdout",
     "output_type": "stream",
     "text": [
      "235/235 - 4s - 17ms/step - accuracy: 0.8875 - loss: 0.3128 - val_accuracy: 0.8991 - val_loss: 0.2743\n"
     ]
    },
    {
     "name": "stdout",
     "output_type": "stream",
     "text": [
      "Epoch 5/20\n"
     ]
    },
    {
     "name": "stdout",
     "output_type": "stream",
     "text": [
      "235/235 - 5s - 20ms/step - accuracy: 0.8957 - loss: 0.2931 - val_accuracy: 0.9020 - val_loss: 0.2643\n"
     ]
    },
    {
     "name": "stdout",
     "output_type": "stream",
     "text": [
      "Epoch 6/20\n"
     ]
    },
    {
     "name": "stdout",
     "output_type": "stream",
     "text": [
      "235/235 - 4s - 16ms/step - accuracy: 0.9014 - loss: 0.2711 - val_accuracy: 0.9079 - val_loss: 0.2501\n"
     ]
    },
    {
     "name": "stdout",
     "output_type": "stream",
     "text": [
      "Epoch 7/20\n"
     ]
    },
    {
     "name": "stdout",
     "output_type": "stream",
     "text": [
      "235/235 - 4s - 16ms/step - accuracy: 0.9077 - loss: 0.2553 - val_accuracy: 0.9114 - val_loss: 0.2399\n"
     ]
    },
    {
     "name": "stdout",
     "output_type": "stream",
     "text": [
      "Epoch 8/20\n"
     ]
    },
    {
     "name": "stdout",
     "output_type": "stream",
     "text": [
      "235/235 - 4s - 16ms/step - accuracy: 0.9113 - loss: 0.2419 - val_accuracy: 0.9143 - val_loss: 0.2396\n"
     ]
    },
    {
     "name": "stdout",
     "output_type": "stream",
     "text": [
      "Epoch 9/20\n"
     ]
    },
    {
     "name": "stdout",
     "output_type": "stream",
     "text": [
      "235/235 - 4s - 16ms/step - accuracy: 0.9161 - loss: 0.2301 - val_accuracy: 0.9118 - val_loss: 0.2363\n"
     ]
    },
    {
     "name": "stdout",
     "output_type": "stream",
     "text": [
      "Epoch 10/20\n"
     ]
    },
    {
     "name": "stdout",
     "output_type": "stream",
     "text": [
      "235/235 - 4s - 17ms/step - accuracy: 0.9192 - loss: 0.2187 - val_accuracy: 0.9142 - val_loss: 0.2406\n"
     ]
    },
    {
     "name": "stdout",
     "output_type": "stream",
     "text": [
      "Epoch 11/20\n"
     ]
    },
    {
     "name": "stdout",
     "output_type": "stream",
     "text": [
      "235/235 - 4s - 18ms/step - accuracy: 0.9238 - loss: 0.2072 - val_accuracy: 0.9186 - val_loss: 0.2239\n"
     ]
    },
    {
     "name": "stdout",
     "output_type": "stream",
     "text": [
      "Epoch 12/20\n"
     ]
    },
    {
     "name": "stdout",
     "output_type": "stream",
     "text": [
      "235/235 - 4s - 18ms/step - accuracy: 0.9250 - loss: 0.1997 - val_accuracy: 0.9173 - val_loss: 0.2325\n"
     ]
    },
    {
     "name": "stdout",
     "output_type": "stream",
     "text": [
      "Epoch 13/20\n"
     ]
    },
    {
     "name": "stdout",
     "output_type": "stream",
     "text": [
      "235/235 - 4s - 16ms/step - accuracy: 0.9295 - loss: 0.1910 - val_accuracy: 0.9195 - val_loss: 0.2276\n"
     ]
    },
    {
     "name": "stdout",
     "output_type": "stream",
     "text": [
      "Epoch 14/20\n"
     ]
    },
    {
     "name": "stdout",
     "output_type": "stream",
     "text": [
      "235/235 - 4s - 16ms/step - accuracy: 0.9322 - loss: 0.1803 - val_accuracy: 0.9214 - val_loss: 0.2283\n"
     ]
    },
    {
     "name": "stdout",
     "output_type": "stream",
     "text": [
      "Epoch 15/20\n"
     ]
    },
    {
     "name": "stdout",
     "output_type": "stream",
     "text": [
      "235/235 - 4s - 15ms/step - accuracy: 0.9343 - loss: 0.1744 - val_accuracy: 0.9243 - val_loss: 0.2216\n"
     ]
    },
    {
     "name": "stdout",
     "output_type": "stream",
     "text": [
      "Epoch 16/20\n"
     ]
    },
    {
     "name": "stdout",
     "output_type": "stream",
     "text": [
      "235/235 - 4s - 15ms/step - accuracy: 0.9368 - loss: 0.1674 - val_accuracy: 0.9212 - val_loss: 0.2268\n"
     ]
    },
    {
     "name": "stdout",
     "output_type": "stream",
     "text": [
      "Epoch 17/20\n"
     ]
    },
    {
     "name": "stdout",
     "output_type": "stream",
     "text": [
      "235/235 - 4s - 16ms/step - accuracy: 0.9390 - loss: 0.1601 - val_accuracy: 0.9245 - val_loss: 0.2157\n"
     ]
    },
    {
     "name": "stdout",
     "output_type": "stream",
     "text": [
      "Epoch 18/20\n"
     ]
    },
    {
     "name": "stdout",
     "output_type": "stream",
     "text": [
      "235/235 - 4s - 16ms/step - accuracy: 0.9399 - loss: 0.1569 - val_accuracy: 0.9272 - val_loss: 0.2159\n"
     ]
    },
    {
     "name": "stdout",
     "output_type": "stream",
     "text": [
      "Epoch 19/20\n"
     ]
    },
    {
     "name": "stdout",
     "output_type": "stream",
     "text": [
      "235/235 - 4s - 15ms/step - accuracy: 0.9431 - loss: 0.1488 - val_accuracy: 0.9268 - val_loss: 0.2178\n"
     ]
    },
    {
     "name": "stdout",
     "output_type": "stream",
     "text": [
      "Epoch 20/20\n"
     ]
    },
    {
     "name": "stdout",
     "output_type": "stream",
     "text": [
      "235/235 - 4s - 16ms/step - accuracy: 0.9460 - loss: 0.1423 - val_accuracy: 0.9254 - val_loss: 0.2237\n"
     ]
    },
    {
     "data": {
      "image/png": "[encoded data removed]",
      "text/plain": [
       "<Figure size 800x300 with 2 Axes>"
      ]
     },
     "metadata": {},
     "output_type": "display_data"
    }
   ],
   "source": [
    "# retrain model for 20 epochs\n",
    "model = model_cloned\n",
    "model.compile(optimizer='adam', loss='categorical_crossentropy',\n",
    "              metrics=['accuracy'])\n",
    "history = model.fit(train_images, train_labels, batch_size=256, epochs=20,\n",
    "        validation_data=(test_images, test_labels_ohe), verbose=2)\n",
    "\n",
    "metrics = pd.DataFrame(history.history)\n",
    "metrics['Epoch'] = [e + 1 for e in history.epoch]\n",
    "fig, axes = plt.subplots(1, 2, figsize=(8, 3))\n",
    "plotMetrics(metrics, axes[0], ['loss', 'val_loss'],\n",
    "            ['Training loss', 'Validation loss'], 'Loss')\n",
    "plotMetrics(metrics, axes[1], ['accuracy', 'val_accuracy'],\n",
    "            ['Training accuracy', 'Validation accuracy'], 'Accuracy')"
   ]
  },
  {
   "cell_type": "code",
   "execution_count": 17,
   "id": "8e4d27a2",
   "metadata": {
    "execution": {
     "iopub.execute_input": "2024-10-25T21:07:56.420176Z",
     "iopub.status.busy": "2024-10-25T21:07:56.419948Z",
     "iopub.status.idle": "2024-10-25T21:07:57.018852Z",
     "shell.execute_reply": "2024-10-25T21:07:57.018519Z"
    }
   },
   "outputs": [
    {
     "name": "stdout",
     "output_type": "stream",
     "text": [
      "Confusion Matrix (Accuracy 0.9254)\n",
      "\n",
      "       Prediction\n",
      "Actual   0   1   2   3   4   5   6   7   8   9\n",
      "     0 892   0  17   9   1   1  74   0   6   0\n",
      "     1   2 981   0  11   1   0   5   0   0   0\n",
      "     2  14   0 883   6  37   0  58   0   2   0\n",
      "     3  11   1   8 937  15   0  27   0   1   0\n",
      "     4   0   0  52  28 855   0  64   0   1   0\n",
      "     5   0   0   0   0   0 989   0   6   0   5\n",
      "     6 102   1  48  22  37   0 787   0   3   0\n",
      "     7   0   0   0   0   0  10   0 970   0  20\n",
      "     8   1   0   2   3   1   3   2   1 987   0\n",
      "     9   0   0   0   0   0   4   0  23   0 973\n"
     ]
    }
   ],
   "source": [
    "propensities = model.predict(test_images, verbose=0)\n",
    "propensities[:5].round(3)\n",
    "\n",
    "# convert to class using winner takes all\n",
    "predClass = propensities.argmax(axis=1)\n",
    "predClass[:5]\n",
    "\n",
    "# confusion matrix\n",
    "mlba.classificationSummary(y_true=test_labels, y_pred=predClass)"
   ]
  }
 ],
 "metadata": {
  "language_info": {
   "codemirror_mode": {
    "name": "ipython",
    "version": 3
   },
   "file_extension": ".py",
   "mimetype": "text/x-python",
   "name": "python",
   "nbconvert_exporter": "python",
   "pygments_lexer": "ipython3",
   "version": "3.11.8"
  }
 },
 "nbformat": 4,
 "nbformat_minor": 5
}
