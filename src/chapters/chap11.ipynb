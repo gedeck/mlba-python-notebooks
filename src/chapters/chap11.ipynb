{
 "cells": [
  {
   "cell_type": "markdown",
   "id": "78a1eafd",
   "metadata": {},
   "source": [
    "# Chapter 11 \n",
    " Machine Learning for Business Analytics<br>\n",
    "Concepts, Techniques, and Applications in Python<br>\n",
    "by Galit Shmueli, Peter C. Bruce, Peter Gedeck, Nitin R. Patel\n",
    "\n",
    "Publisher: Wiley; 2nd edition (2024) <br>\n",
    "<!-- ISBN-13: 978-3031075650 -->\n",
    "\n",
    "(c) 2024 Galit Shmueli, Peter C. Bruce, Peter Gedeck, Nitin R. Patel\n",
    "\n",
    "The code needs to be executed in sequence.\n",
    "\n",
    "Python packages and Python itself change over time. This can cause warnings or errors.\n",
    "\"Warnings\" are for information only and can usually be ignored.\n",
    "\"Errors\" will stop execution and need to be fixed in order to get results.\n",
    "\n",
    "If you come across an issue with the code, please follow these steps\n",
    "\n",
    "- Check the repository (https://gedeck.github.io/sdsa-code-solutions/) to see if the code has been upgraded. This might solve the problem.\n",
    "- Report the problem using the issue tracker at https://github.com/gedeck/sdsa-code-solutions/issues\n",
    "- Paste the error message into Google and see if someone else already found a solution"
   ]
  },
  {
   "cell_type": "code",
   "execution_count": 2,
   "id": "55d94e7b",
   "metadata": {
    "execution": {
     "iopub.execute_input": "2024-11-22T21:55:30.525572Z",
     "iopub.status.busy": "2024-11-22T21:55:30.525404Z",
     "iopub.status.idle": "2024-11-22T21:55:31.157972Z",
     "shell.execute_reply": "2024-11-22T21:55:31.157592Z"
    }
   },
   "outputs": [],
   "source": [
    "import mlba\n",
    "import pandas as pd\n",
    "from sklearn.model_selection import train_test_split\n",
    "from sklearn.neural_network import MLPClassifier"
   ]
  },
  {
   "cell_type": "code",
   "execution_count": 3,
   "id": "ab8e1a1e",
   "metadata": {
    "execution": {
     "iopub.execute_input": "2024-11-22T21:55:31.159362Z",
     "iopub.status.busy": "2024-11-22T21:55:31.159261Z",
     "iopub.status.idle": "2024-11-22T21:55:31.168195Z",
     "shell.execute_reply": "2024-11-22T21:55:31.167975Z"
    }
   },
   "outputs": [
    {
     "name": "stdout",
     "output_type": "stream",
     "text": [
      "Intercepts\n",
      "[array([0.13368043, 4.0724755 , 7.00768105]), array([14.30748673])]\n",
      "Weights\n",
      "[array([[ -1.30656481,  -4.20427795, -13.29587332],\n",
      "       [ -0.04399728,  -4.91606922,  -6.03356987]]), array([[ -0.27348313],\n",
      "       [ -9.01211574],\n",
      "       [-17.63504688]])]\n",
      "   Obs.  Fat  Salt Acceptance   dislike      like\n",
      "0     1  0.2   0.9       like  0.000490  0.999510\n",
      "1     2  0.1   0.1    dislike  0.999994  0.000006\n",
      "2     3  0.2   0.4    dislike  0.999741  0.000259\n",
      "3     4  0.2   0.5    dislike  0.997368  0.002632\n",
      "4     5  0.4   0.5       like  0.002133  0.997867\n",
      "5     6  0.3   0.8       like  0.000075  0.999925\n"
     ]
    }
   ],
   "source": [
    "example_df = mlba.load_data('TinyData.csv')\n",
    "\n",
    "predictors = ['Fat', 'Salt']\n",
    "outcome = 'Acceptance'\n",
    "\n",
    "X = example_df[predictors]\n",
    "y = example_df[outcome]\n",
    "classes = sorted(y.unique())\n",
    "\n",
    "clf = MLPClassifier(hidden_layer_sizes=[3], activation='logistic', solver='lbfgs',\n",
    "                    random_state=1)\n",
    "clf.fit(X, y)\n",
    "clf.predict(X)\n",
    "\n",
    "# Network structure\n",
    "print('Intercepts')\n",
    "print(clf.intercepts_)\n",
    "\n",
    "print('Weights')\n",
    "print(clf.coefs_)\n",
    "\n",
    "# Prediction\n",
    "print(pd.concat([\n",
    "    example_df,\n",
    "    pd.DataFrame(clf.predict_proba(X), columns=classes),\n",
    "], axis=1))"
   ]
  },
  {
   "cell_type": "code",
   "execution_count": 4,
   "id": "caabf677",
   "metadata": {
    "execution": {
     "iopub.execute_input": "2024-11-22T21:55:31.169341Z",
     "iopub.status.busy": "2024-11-22T21:55:31.169252Z",
     "iopub.status.idle": "2024-11-22T21:55:31.172095Z",
     "shell.execute_reply": "2024-11-22T21:55:31.171912Z"
    }
   },
   "outputs": [
    {
     "name": "stdout",
     "output_type": "stream",
     "text": [
      "clf.intercepts_[0][0]=0.13368043174991306\n",
      "clf.coefs_[0][0:1]=array([[ -1.30656481,  -4.20427795, -13.29587332]])\n",
      "output_N3=0.458\n",
      "output_N4=0.233\n",
      "output_N5=0.253\n",
      "output_N6=0.9995\n"
     ]
    }
   ],
   "source": [
    "import numpy as np\n",
    "print(f'{clf.intercepts_[0][0]=}')\n",
    "print(f'{clf.coefs_[0][0:1]=}')\n",
    "output_N3 = 1/(1+np.exp(-(clf.intercepts_[0][0] + clf.coefs_[0][0][0]*0.2\n",
    "                                                + clf.coefs_[0][1][0]*(0.9))))\n",
    "output_N4 = 1/(1+np.exp(-(clf.intercepts_[0][1] + clf.coefs_[0][0][1]*0.2\n",
    "                                                + clf.coefs_[0][1][1]*(0.9))))\n",
    "output_N5 = 1/(1+np.exp(-(clf.intercepts_[0][2] + clf.coefs_[0][0][2]*0.2\n",
    "                                                + clf.coefs_[0][1][2]*(0.9))))\n",
    "print(f'{output_N3=:.3f}')\n",
    "print(f'{output_N4=:.3f}')\n",
    "print(f'{output_N5=:.3f}')\n",
    "output_N6 = 1/(1+np.exp(-(clf.intercepts_[1][0] + clf.coefs_[1][0][0]*output_N3\n",
    "                                                + clf.coefs_[1][1][0]*output_N4\n",
    "                                                + clf.coefs_[1][2][0]*output_N5)))\n",
    "print(f'{output_N6=:.4f}')"
   ]
  },
  {
   "cell_type": "code",
   "execution_count": 5,
   "id": "cad3bf7a",
   "metadata": {
    "execution": {
     "iopub.execute_input": "2024-11-22T21:55:31.173119Z",
     "iopub.status.busy": "2024-11-22T21:55:31.173041Z",
     "iopub.status.idle": "2024-11-22T21:55:31.175579Z",
     "shell.execute_reply": "2024-11-22T21:55:31.175373Z"
    }
   },
   "outputs": [
    {
     "name": "stdout",
     "output_type": "stream",
     "text": [
      "Confusion Matrix (Accuracy 1.0000)\n",
      "\n",
      "        Prediction\n",
      " Actual dislike    like\n",
      "dislike       3       0\n",
      "   like       0       3\n"
     ]
    }
   ],
   "source": [
    "mlba.classificationSummary(y_true=y, y_pred=clf.predict(X), class_names=classes)"
   ]
  },
  {
   "cell_type": "code",
   "execution_count": 6,
   "id": "b4d9dd5e",
   "metadata": {
    "execution": {
     "iopub.execute_input": "2024-11-22T21:55:31.176557Z",
     "iopub.status.busy": "2024-11-22T21:55:31.176477Z",
     "iopub.status.idle": "2024-11-22T21:55:31.199828Z",
     "shell.execute_reply": "2024-11-22T21:55:31.199624Z"
    }
   },
   "outputs": [
    {
     "name": "stdout",
     "output_type": "stream",
     "text": [
      "Confusion Matrix (Accuracy 0.8664)\n",
      "\n",
      "       Prediction\n",
      "Actual   0   1   2\n",
      "     0 331   0   1\n",
      "     1   0 180   0\n",
      "     2  30  49   8\n",
      "Confusion Matrix (Accuracy 0.8550)\n",
      "\n",
      "       Prediction\n",
      "Actual   0   1   2\n",
      "     0 218   0   1\n",
      "     1   0 119   0\n",
      "     2  24  33   5\n"
     ]
    }
   ],
   "source": [
    "accidents_df = mlba.load_data('accidentsnn.csv')\n",
    "input_vars = ['ALCHL_I', 'PROFIL_I_R', 'VEH_INVL']\n",
    "\n",
    "accidents_df.SUR_COND = accidents_df.SUR_COND.astype('category')\n",
    "accidents_df.MAX_SEV_IR = accidents_df.MAX_SEV_IR.astype('category')\n",
    "\n",
    "# convert the categorical data into dummy variables\n",
    "# exclude the column for SUR_COND 9 = unknown\n",
    "processed = pd.get_dummies(accidents_df, columns=['SUR_COND'])\n",
    "processed = processed.drop(columns=['SUR_COND_9'])\n",
    "\n",
    "outcome = 'MAX_SEV_IR'\n",
    "predictors = [c for c in processed.columns if c != outcome]\n",
    "\n",
    "# partition data\n",
    "X = processed[predictors]\n",
    "y = processed[outcome]\n",
    "train_X, valid_X, train_y, valid_y = train_test_split(X, y, test_size=0.4,\n",
    "                                                      random_state=1)\n",
    "\n",
    "# train neural network with 2 hidden nodes\n",
    "clf = MLPClassifier(hidden_layer_sizes=[2], activation='logistic', solver='lbfgs',\n",
    "                    random_state=1)\n",
    "clf.fit(train_X, train_y.values)\n",
    "\n",
    "# training performance (use idxmax to revert the one-hot encoding)\n",
    "mlba.classificationSummary(y_true=train_y, y_pred=clf.predict(train_X))\n",
    "\n",
    "# validation performance\n",
    "mlba.classificationSummary(y_true=valid_y, y_pred=clf.predict(valid_X))"
   ]
  },
  {
   "cell_type": "markdown",
   "id": "d32bdf07",
   "metadata": {},
   "source": [
    " Fitting class probabilities separately"
   ]
  },
  {
   "cell_type": "code",
   "execution_count": 7,
   "id": "e4bc2ff3",
   "metadata": {
    "execution": {
     "iopub.execute_input": "2024-11-22T21:55:31.200995Z",
     "iopub.status.busy": "2024-11-22T21:55:31.200896Z",
     "iopub.status.idle": "2024-11-22T21:55:31.245313Z",
     "shell.execute_reply": "2024-11-22T21:55:31.245092Z"
    }
   },
   "outputs": [
    {
     "name": "stdout",
     "output_type": "stream",
     "text": [
      "Confusion Matrix (Accuracy 0.8731)\n",
      "\n",
      "             Prediction\n",
      "      Actual MAX_SEV_IR_0 MAX_SEV_IR_1 MAX_SEV_IR_2\n",
      "MAX_SEV_IR_0          332            0            0\n",
      "MAX_SEV_IR_1            0          170           10\n",
      "MAX_SEV_IR_2           31           35           21\n",
      "Confusion Matrix (Accuracy 0.8675)\n",
      "\n",
      "             Prediction\n",
      "      Actual MAX_SEV_IR_0 MAX_SEV_IR_1 MAX_SEV_IR_2\n",
      "MAX_SEV_IR_0          218            0            1\n",
      "MAX_SEV_IR_1            0          113            6\n",
      "MAX_SEV_IR_2           24           22           16\n"
     ]
    }
   ],
   "source": [
    "accidents_df = mlba.load_data('accidentsnn.csv')\n",
    "input_vars = ['ALCHL_I', 'PROFIL_I_R', 'VEH_INVL']\n",
    "\n",
    "accidents_df.SUR_COND = accidents_df.SUR_COND.astype('category')\n",
    "accidents_df.MAX_SEV_IR = accidents_df.MAX_SEV_IR.astype('category')\n",
    "\n",
    "# convert the categorical data into dummy variables\n",
    "processed = pd.get_dummies(accidents_df)\n",
    "# drop the column for SUR_COND 9 = unknown\n",
    "processed = processed.drop(columns=['SUR_COND_9'])\n",
    "\n",
    "outcome = ['MAX_SEV_IR_0', 'MAX_SEV_IR_1', 'MAX_SEV_IR_2']\n",
    "predictors = [c for c in processed.columns if c not in outcome]\n",
    "classes = sorted(outcome)\n",
    "\n",
    "# partition data\n",
    "X = processed[predictors]\n",
    "y = processed[outcome]\n",
    "train_X, valid_X, train_y, valid_y = train_test_split(X, y, test_size=0.4, random_state=1)\n",
    "\n",
    "# train neural network with 2 hidden nodes\n",
    "clf = MLPClassifier(hidden_layer_sizes=[2], activation='logistic', solver='lbfgs',\n",
    "                    random_state=1, max_iter=500)\n",
    "clf.fit(train_X, train_y)\n",
    "\n",
    "# training performance (use idxmax to revert the one-hot encoding)\n",
    "trainPrediction = pd.DataFrame(clf.predict(train_X), columns=outcome).idxmax(axis=1)\n",
    "mlba.classificationSummary(y_true=train_y.idxmax(axis=1), y_pred=trainPrediction, class_names=classes)\n",
    "\n",
    "# validation performance\n",
    "validPrediction = pd.DataFrame(clf.predict(valid_X), columns=outcome).idxmax(axis=1)\n",
    "mlba.classificationSummary(y_true=valid_y.idxmax(axis=1), y_pred=validPrediction, class_names=classes)"
   ]
  },
  {
   "cell_type": "markdown",
   "id": "fd3ba938",
   "metadata": {},
   "source": [
    " Grid search"
   ]
  },
  {
   "cell_type": "code",
   "execution_count": 8,
   "id": "f964537c",
   "metadata": {
    "execution": {
     "iopub.execute_input": "2024-11-22T21:55:31.246412Z",
     "iopub.status.busy": "2024-11-22T21:55:31.246318Z",
     "iopub.status.idle": "2024-11-22T21:55:32.874708Z",
     "shell.execute_reply": "2024-11-22T21:55:32.874278Z"
    }
   },
   "outputs": [
    {
     "name": "stdout",
     "output_type": "stream",
     "text": [
      "Best score:  0.8630672268907563\n",
      "Best parameters:  {'hidden_layer_sizes': [4]}\n"
     ]
    }
   ],
   "source": [
    "from sklearn.model_selection import GridSearchCV\n",
    "\n",
    "# train neural network using grid search for hyperparameter tuning\n",
    "clf = MLPClassifier(hidden_layer_sizes=[2], activation='logistic', solver='lbfgs',\n",
    "                    random_state=1, max_iter=500)\n",
    "clf.fit(train_X, train_y.values)\n",
    "\n",
    "param_grid = {\n",
    "    'hidden_layer_sizes': [[1], [2], [3], [4], [5]],\n",
    "}\n",
    "gridSearch = GridSearchCV(MLPClassifier(activation='logistic', solver='lbfgs', random_state=1, max_iter=3000),\n",
    "                        param_grid, cv=5, n_jobs=-1, return_train_score=True)\n",
    "gridSearch.fit(train_X, train_y)\n",
    "print('Best score: ', gridSearch.best_score_)\n",
    "print('Best parameters: ', gridSearch.best_params_)"
   ]
  },
  {
   "cell_type": "code",
   "execution_count": 9,
   "id": "bc660fe9",
   "metadata": {
    "execution": {
     "iopub.execute_input": "2024-11-22T21:55:32.876352Z",
     "iopub.status.busy": "2024-11-22T21:55:32.876212Z",
     "iopub.status.idle": "2024-11-22T21:55:32.880418Z",
     "shell.execute_reply": "2024-11-22T21:55:32.880116Z"
    }
   },
   "outputs": [
    {
     "name": "stdout",
     "output_type": "stream",
     "text": [
      "  param_hidden_layer_sizes  mean_test_score  std_test_score\n",
      "0                      [1]         0.844762        0.011030\n",
      "1                      [2]         0.848067        0.009913\n",
      "2                      [3]         0.859734        0.025691\n",
      "3                      [4]         0.863067        0.024167\n",
      "4                      [5]         0.856415        0.020770\n"
     ]
    }
   ],
   "source": [
    "selected = ['param_hidden_layer_sizes', 'mean_test_score', 'std_test_score']\n",
    "print(pd.DataFrame(gridSearch.cv_results_)[selected])"
   ]
  },
  {
   "cell_type": "code",
   "execution_count": 10,
   "id": "4486ff08",
   "metadata": {
    "execution": {
     "iopub.execute_input": "2024-11-22T21:55:32.881459Z",
     "iopub.status.busy": "2024-11-22T21:55:32.881392Z",
     "iopub.status.idle": "2024-11-22T21:55:32.992405Z",
     "shell.execute_reply": "2024-11-22T21:55:32.991529Z"
    }
   },
   "outputs": [
    {
     "data": {
      "image/png": "[encoded data removed]",
      "text/plain": [
       "<Figure size 640x480 with 1 Axes>"
      ]
     },
     "metadata": {},
     "output_type": "display_data"
    }
   ],
   "source": [
    "import matplotlib.pyplot as plt\n",
    "pd.DataFrame(gridSearch.cv_results_).plot(\n",
    "    x='param_hidden_layer_sizes',\n",
    "    y='mean_test_score', yerr='std_test_score', ylim=(0.8, 0.9))\n",
    "plt.show()\n",
    "%matplotlib inline"
   ]
  },
  {
   "cell_type": "code",
   "execution_count": 11,
   "id": "45f7ece4",
   "metadata": {
    "execution": {
     "iopub.execute_input": "2024-11-22T21:55:32.995432Z",
     "iopub.status.busy": "2024-11-22T21:55:32.995006Z",
     "iopub.status.idle": "2024-11-22T21:55:34.914059Z",
     "shell.execute_reply": "2024-11-22T21:55:34.913682Z"
    }
   },
   "outputs": [],
   "source": [
    "import keras\n",
    "fashion_mnist = keras.datasets.fashion_mnist.load_data()\n",
    "(train_images, train_labels), (test_images, test_labels) = fashion_mnist\n",
    "\n",
    "# pixel values need to be scaled to range [0, 1]\n",
    "train_images = train_images / 255.0\n",
    "test_images = test_images / 255.0\n",
    "\n",
    "# input require an additional dimension to describe pixel values\n",
    "# dimensions are (samples, row, column, pixel)\n",
    "train_images = train_images.reshape(*train_images.shape, 1)\n",
    "test_images = test_images.reshape(*test_images.shape, 1)\n",
    "\n",
    "# output values need to be converted into a matrix with one-hot encoding of classes\n",
    "# dimensions are (samples, classes)\n",
    "train_labels = keras.utils.to_categorical(train_labels, 10)\n",
    "test_labels_ohe = keras.utils.to_categorical(test_labels, 10)"
   ]
  },
  {
   "cell_type": "code",
   "execution_count": 12,
   "id": "431b992f",
   "metadata": {
    "execution": {
     "iopub.execute_input": "2024-11-22T21:55:34.915416Z",
     "iopub.status.busy": "2024-11-22T21:55:34.915267Z",
     "iopub.status.idle": "2024-11-22T21:55:34.946196Z",
     "shell.execute_reply": "2024-11-22T21:55:34.945969Z"
    }
   },
   "outputs": [
    {
     "data": {
      "text/html": [
       "<pre style=\"white-space:pre;overflow-x:auto;line-height:normal;font-family:Menlo,'DejaVu Sans Mono',consolas,'Courier New',monospace\"><span style=\"font-weight: bold\">Model: \"sequential\"</span>\n",
       "</pre>\n"
      ],
      "text/plain": [
       "\u001b[1mModel: \"sequential\"\u001b[0m\n"
      ]
     },
     "metadata": {},
     "output_type": "display_data"
    },
    {
     "data": {
      "text/html": [
       "<pre style=\"white-space:pre;overflow-x:auto;line-height:normal;font-family:Menlo,'DejaVu Sans Mono',consolas,'Courier New',monospace\">┏━━━━━━━━━━━━━━━━━━━━━━━━━━━━━━━━━┳━━━━━━━━━━━━━━━━━━━━━━━━┳━━━━━━━━━━━━━━━┓\n",
       "┃<span style=\"font-weight: bold\"> Layer (type)                    </span>┃<span style=\"font-weight: bold\"> Output Shape           </span>┃<span style=\"font-weight: bold\">       Param # </span>┃\n",
       "┡━━━━━━━━━━━━━━━━━━━━━━━━━━━━━━━━━╇━━━━━━━━━━━━━━━━━━━━━━━━╇━━━━━━━━━━━━━━━┩\n",
       "│ conv2d (<span style=\"color: #0087ff; text-decoration-color: #0087ff\">Conv2D</span>)                 │ (<span style=\"color: #00d7ff; text-decoration-color: #00d7ff\">None</span>, <span style=\"color: #00af00; text-decoration-color: #00af00\">24</span>, <span style=\"color: #00af00; text-decoration-color: #00af00\">24</span>, <span style=\"color: #00af00; text-decoration-color: #00af00\">32</span>)     │           <span style=\"color: #00af00; text-decoration-color: #00af00\">832</span> │\n",
       "├─────────────────────────────────┼────────────────────────┼───────────────┤\n",
       "│ conv2d_1 (<span style=\"color: #0087ff; text-decoration-color: #0087ff\">Conv2D</span>)               │ (<span style=\"color: #00d7ff; text-decoration-color: #00d7ff\">None</span>, <span style=\"color: #00af00; text-decoration-color: #00af00\">22</span>, <span style=\"color: #00af00; text-decoration-color: #00af00\">22</span>, <span style=\"color: #00af00; text-decoration-color: #00af00\">64</span>)     │        <span style=\"color: #00af00; text-decoration-color: #00af00\">18,496</span> │\n",
       "├─────────────────────────────────┼────────────────────────┼───────────────┤\n",
       "│ max_pooling2d (<span style=\"color: #0087ff; text-decoration-color: #0087ff\">MaxPooling2D</span>)    │ (<span style=\"color: #00d7ff; text-decoration-color: #00d7ff\">None</span>, <span style=\"color: #00af00; text-decoration-color: #00af00\">11</span>, <span style=\"color: #00af00; text-decoration-color: #00af00\">11</span>, <span style=\"color: #00af00; text-decoration-color: #00af00\">64</span>)     │             <span style=\"color: #00af00; text-decoration-color: #00af00\">0</span> │\n",
       "├─────────────────────────────────┼────────────────────────┼───────────────┤\n",
       "│ dropout (<span style=\"color: #0087ff; text-decoration-color: #0087ff\">Dropout</span>)               │ (<span style=\"color: #00d7ff; text-decoration-color: #00d7ff\">None</span>, <span style=\"color: #00af00; text-decoration-color: #00af00\">11</span>, <span style=\"color: #00af00; text-decoration-color: #00af00\">11</span>, <span style=\"color: #00af00; text-decoration-color: #00af00\">64</span>)     │             <span style=\"color: #00af00; text-decoration-color: #00af00\">0</span> │\n",
       "├─────────────────────────────────┼────────────────────────┼───────────────┤\n",
       "│ flatten (<span style=\"color: #0087ff; text-decoration-color: #0087ff\">Flatten</span>)               │ (<span style=\"color: #00d7ff; text-decoration-color: #00d7ff\">None</span>, <span style=\"color: #00af00; text-decoration-color: #00af00\">7744</span>)           │             <span style=\"color: #00af00; text-decoration-color: #00af00\">0</span> │\n",
       "├─────────────────────────────────┼────────────────────────┼───────────────┤\n",
       "│ dense (<span style=\"color: #0087ff; text-decoration-color: #0087ff\">Dense</span>)                   │ (<span style=\"color: #00d7ff; text-decoration-color: #00d7ff\">None</span>, <span style=\"color: #00af00; text-decoration-color: #00af00\">128</span>)            │       <span style=\"color: #00af00; text-decoration-color: #00af00\">991,360</span> │\n",
       "├─────────────────────────────────┼────────────────────────┼───────────────┤\n",
       "│ dropout_1 (<span style=\"color: #0087ff; text-decoration-color: #0087ff\">Dropout</span>)             │ (<span style=\"color: #00d7ff; text-decoration-color: #00d7ff\">None</span>, <span style=\"color: #00af00; text-decoration-color: #00af00\">128</span>)            │             <span style=\"color: #00af00; text-decoration-color: #00af00\">0</span> │\n",
       "├─────────────────────────────────┼────────────────────────┼───────────────┤\n",
       "│ dense_1 (<span style=\"color: #0087ff; text-decoration-color: #0087ff\">Dense</span>)                 │ (<span style=\"color: #00d7ff; text-decoration-color: #00d7ff\">None</span>, <span style=\"color: #00af00; text-decoration-color: #00af00\">10</span>)             │         <span style=\"color: #00af00; text-decoration-color: #00af00\">1,290</span> │\n",
       "└─────────────────────────────────┴────────────────────────┴───────────────┘\n",
       "</pre>\n"
      ],
      "text/plain": [
       "┏━━━━━━━━━━━━━━━━━━━━━━━━━━━━━━━━━┳━━━━━━━━━━━━━━━━━━━━━━━━┳━━━━━━━━━━━━━━━┓\n",
       "┃\u001b[1m \u001b[0m\u001b[1mLayer (type)                   \u001b[0m\u001b[1m \u001b[0m┃\u001b[1m \u001b[0m\u001b[1mOutput Shape          \u001b[0m\u001b[1m \u001b[0m┃\u001b[1m \u001b[0m\u001b[1m      Param #\u001b[0m\u001b[1m \u001b[0m┃\n",
       "┡━━━━━━━━━━━━━━━━━━━━━━━━━━━━━━━━━╇━━━━━━━━━━━━━━━━━━━━━━━━╇━━━━━━━━━━━━━━━┩\n",
       "│ conv2d (\u001b[38;5;33mConv2D\u001b[0m)                 │ (\u001b[38;5;45mNone\u001b[0m, \u001b[38;5;34m24\u001b[0m, \u001b[38;5;34m24\u001b[0m, \u001b[38;5;34m32\u001b[0m)     │           \u001b[38;5;34m832\u001b[0m │\n",
       "├─────────────────────────────────┼────────────────────────┼───────────────┤\n",
       "│ conv2d_1 (\u001b[38;5;33mConv2D\u001b[0m)               │ (\u001b[38;5;45mNone\u001b[0m, \u001b[38;5;34m22\u001b[0m, \u001b[38;5;34m22\u001b[0m, \u001b[38;5;34m64\u001b[0m)     │        \u001b[38;5;34m18,496\u001b[0m │\n",
       "├─────────────────────────────────┼────────────────────────┼───────────────┤\n",
       "│ max_pooling2d (\u001b[38;5;33mMaxPooling2D\u001b[0m)    │ (\u001b[38;5;45mNone\u001b[0m, \u001b[38;5;34m11\u001b[0m, \u001b[38;5;34m11\u001b[0m, \u001b[38;5;34m64\u001b[0m)     │             \u001b[38;5;34m0\u001b[0m │\n",
       "├─────────────────────────────────┼────────────────────────┼───────────────┤\n",
       "│ dropout (\u001b[38;5;33mDropout\u001b[0m)               │ (\u001b[38;5;45mNone\u001b[0m, \u001b[38;5;34m11\u001b[0m, \u001b[38;5;34m11\u001b[0m, \u001b[38;5;34m64\u001b[0m)     │             \u001b[38;5;34m0\u001b[0m │\n",
       "├─────────────────────────────────┼────────────────────────┼───────────────┤\n",
       "│ flatten (\u001b[38;5;33mFlatten\u001b[0m)               │ (\u001b[38;5;45mNone\u001b[0m, \u001b[38;5;34m7744\u001b[0m)           │             \u001b[38;5;34m0\u001b[0m │\n",
       "├─────────────────────────────────┼────────────────────────┼───────────────┤\n",
       "│ dense (\u001b[38;5;33mDense\u001b[0m)                   │ (\u001b[38;5;45mNone\u001b[0m, \u001b[38;5;34m128\u001b[0m)            │       \u001b[38;5;34m991,360\u001b[0m │\n",
       "├─────────────────────────────────┼────────────────────────┼───────────────┤\n",
       "│ dropout_1 (\u001b[38;5;33mDropout\u001b[0m)             │ (\u001b[38;5;45mNone\u001b[0m, \u001b[38;5;34m128\u001b[0m)            │             \u001b[38;5;34m0\u001b[0m │\n",
       "├─────────────────────────────────┼────────────────────────┼───────────────┤\n",
       "│ dense_1 (\u001b[38;5;33mDense\u001b[0m)                 │ (\u001b[38;5;45mNone\u001b[0m, \u001b[38;5;34m10\u001b[0m)             │         \u001b[38;5;34m1,290\u001b[0m │\n",
       "└─────────────────────────────────┴────────────────────────┴───────────────┘\n"
      ]
     },
     "metadata": {},
     "output_type": "display_data"
    },
    {
     "data": {
      "text/html": [
       "<pre style=\"white-space:pre;overflow-x:auto;line-height:normal;font-family:Menlo,'DejaVu Sans Mono',consolas,'Courier New',monospace\"><span style=\"font-weight: bold\"> Total params: </span><span style=\"color: #00af00; text-decoration-color: #00af00\">1,011,978</span> (3.86 MB)\n",
       "</pre>\n"
      ],
      "text/plain": [
       "\u001b[1m Total params: \u001b[0m\u001b[38;5;34m1,011,978\u001b[0m (3.86 MB)\n"
      ]
     },
     "metadata": {},
     "output_type": "display_data"
    },
    {
     "data": {
      "text/html": [
       "<pre style=\"white-space:pre;overflow-x:auto;line-height:normal;font-family:Menlo,'DejaVu Sans Mono',consolas,'Courier New',monospace\"><span style=\"font-weight: bold\"> Trainable params: </span><span style=\"color: #00af00; text-decoration-color: #00af00\">1,011,978</span> (3.86 MB)\n",
       "</pre>\n"
      ],
      "text/plain": [
       "\u001b[1m Trainable params: \u001b[0m\u001b[38;5;34m1,011,978\u001b[0m (3.86 MB)\n"
      ]
     },
     "metadata": {},
     "output_type": "display_data"
    },
    {
     "data": {
      "text/html": [
       "<pre style=\"white-space:pre;overflow-x:auto;line-height:normal;font-family:Menlo,'DejaVu Sans Mono',consolas,'Courier New',monospace\"><span style=\"font-weight: bold\"> Non-trainable params: </span><span style=\"color: #00af00; text-decoration-color: #00af00\">0</span> (0.00 B)\n",
       "</pre>\n"
      ],
      "text/plain": [
       "\u001b[1m Non-trainable params: \u001b[0m\u001b[38;5;34m0\u001b[0m (0.00 B)\n"
      ]
     },
     "metadata": {},
     "output_type": "display_data"
    }
   ],
   "source": [
    "input_shape = train_images.shape[1:]\n",
    "num_classes = 10\n",
    "\n",
    "model = keras.Sequential([\n",
    "    keras.Input(input_shape),\n",
    "    keras.layers.Conv2D(32, (5, 5), activation='relu'),\n",
    "    keras.layers.Conv2D(64, (3, 3), activation='relu'),\n",
    "    keras.layers.MaxPooling2D(pool_size=(2, 2)),\n",
    "    keras.layers.Dropout(0.25),\n",
    "    keras.layers.Flatten(),\n",
    "    keras.layers.Dense(128, activation='relu'),\n",
    "    keras.layers.Dropout(0.5),\n",
    "    keras.layers.Dense(num_classes, activation='softmax'),\n",
    "])\n",
    "model.summary()"
   ]
  },
  {
   "cell_type": "code",
   "execution_count": 13,
   "id": "217effb1",
   "metadata": {
    "execution": {
     "iopub.execute_input": "2024-11-22T21:55:34.947303Z",
     "iopub.status.busy": "2024-11-22T21:55:34.947220Z",
     "iopub.status.idle": "2024-11-22T21:55:34.958638Z",
     "shell.execute_reply": "2024-11-22T21:55:34.958411Z"
    }
   },
   "outputs": [],
   "source": [
    "# keep a copy of the defined model to train with fewer epochs\n",
    "model_cloned = keras.models.clone_model(model)"
   ]
  },
  {
   "cell_type": "code",
   "execution_count": 14,
   "id": "59920ac0",
   "metadata": {
    "execution": {
     "iopub.execute_input": "2024-11-22T21:55:34.959776Z",
     "iopub.status.busy": "2024-11-22T21:55:34.959679Z",
     "iopub.status.idle": "2024-11-22T22:23:02.036021Z",
     "shell.execute_reply": "2024-11-22T22:23:02.035697Z"
    }
   },
   "outputs": [
    {
     "name": "stdout",
     "output_type": "stream",
     "text": [
      "Epoch 1/50\n",
      "235/235 - 15s - 65ms/step - accuracy: 0.7909 - loss: 0.5926 - val_accuracy: 0.8554 - val_loss: 0.3937\n",
      "Epoch 2/50\n",
      "235/235 - 15s - 63ms/step - accuracy: 0.8669 - loss: 0.3793 - val_accuracy: 0.8829 - val_loss: 0.3163\n",
      "Epoch 3/50\n",
      "235/235 - 15s - 62ms/step - accuracy: 0.8812 - loss: 0.3273 - val_accuracy: 0.8968 - val_loss: 0.2883\n",
      "Epoch 4/50\n",
      "235/235 - 15s - 64ms/step - accuracy: 0.8928 - loss: 0.2945 - val_accuracy: 0.8985 - val_loss: 0.2720\n",
      "Epoch 5/50\n",
      "235/235 - 19s - 80ms/step - accuracy: 0.9012 - loss: 0.2711 - val_accuracy: 0.9054 - val_loss: 0.2606\n",
      "Epoch 6/50\n",
      "235/235 - 20s - 84ms/step - accuracy: 0.9074 - loss: 0.2530 - val_accuracy: 0.9073 - val_loss: 0.2467\n",
      "Epoch 7/50\n",
      "235/235 - 19s - 81ms/step - accuracy: 0.9147 - loss: 0.2353 - val_accuracy: 0.9126 - val_loss: 0.2401\n",
      "Epoch 8/50\n",
      "235/235 - 18s - 77ms/step - accuracy: 0.9177 - loss: 0.2207 - val_accuracy: 0.9132 - val_loss: 0.2398\n",
      "Epoch 9/50\n",
      "235/235 - 17s - 72ms/step - accuracy: 0.9232 - loss: 0.2082 - val_accuracy: 0.9110 - val_loss: 0.2412\n",
      "Epoch 10/50\n",
      "235/235 - 15s - 62ms/step - accuracy: 0.9257 - loss: 0.2007 - val_accuracy: 0.9152 - val_loss: 0.2301\n",
      "Epoch 11/50\n",
      "235/235 - 15s - 63ms/step - accuracy: 0.9311 - loss: 0.1851 - val_accuracy: 0.9195 - val_loss: 0.2190\n",
      "Epoch 12/50\n",
      "235/235 - 15s - 63ms/step - accuracy: 0.9348 - loss: 0.1775 - val_accuracy: 0.9176 - val_loss: 0.2252\n",
      "Epoch 13/50\n",
      "235/235 - 15s - 62ms/step - accuracy: 0.9364 - loss: 0.1669 - val_accuracy: 0.9204 - val_loss: 0.2175\n",
      "Epoch 14/50\n",
      "235/235 - 14s - 61ms/step - accuracy: 0.9399 - loss: 0.1592 - val_accuracy: 0.9225 - val_loss: 0.2175\n",
      "Epoch 15/50\n",
      "235/235 - 14s - 62ms/step - accuracy: 0.9424 - loss: 0.1527 - val_accuracy: 0.9203 - val_loss: 0.2279\n",
      "Epoch 16/50\n",
      "235/235 - 15s - 63ms/step - accuracy: 0.9442 - loss: 0.1474 - val_accuracy: 0.9236 - val_loss: 0.2177\n",
      "Epoch 17/50\n",
      "235/235 - 15s - 62ms/step - accuracy: 0.9472 - loss: 0.1392 - val_accuracy: 0.9242 - val_loss: 0.2210\n",
      "Epoch 18/50\n",
      "235/235 - 15s - 62ms/step - accuracy: 0.9493 - loss: 0.1320 - val_accuracy: 0.9243 - val_loss: 0.2287\n",
      "Epoch 19/50\n",
      "235/235 - 15s - 64ms/step - accuracy: 0.9512 - loss: 0.1278 - val_accuracy: 0.9221 - val_loss: 0.2270\n",
      "Epoch 20/50\n",
      "235/235 - 15s - 65ms/step - accuracy: 0.9516 - loss: 0.1247 - val_accuracy: 0.9266 - val_loss: 0.2170\n",
      "Epoch 21/50\n",
      "235/235 - 15s - 64ms/step - accuracy: 0.9542 - loss: 0.1172 - val_accuracy: 0.9259 - val_loss: 0.2277\n",
      "Epoch 22/50\n",
      "235/235 - 16s - 67ms/step - accuracy: 0.9560 - loss: 0.1161 - val_accuracy: 0.9241 - val_loss: 0.2382\n",
      "Epoch 23/50\n",
      "235/235 - 15s - 66ms/step - accuracy: 0.9582 - loss: 0.1075 - val_accuracy: 0.9268 - val_loss: 0.2321\n",
      "Epoch 24/50\n",
      "235/235 - 16s - 67ms/step - accuracy: 0.9608 - loss: 0.1038 - val_accuracy: 0.9278 - val_loss: 0.2375\n",
      "Epoch 25/50\n",
      "235/235 - 16s - 67ms/step - accuracy: 0.9604 - loss: 0.1011 - val_accuracy: 0.9261 - val_loss: 0.2389\n",
      "Epoch 26/50\n",
      "235/235 - 16s - 68ms/step - accuracy: 0.9623 - loss: 0.0984 - val_accuracy: 0.9233 - val_loss: 0.2557\n",
      "Epoch 27/50\n",
      "235/235 - 16s - 67ms/step - accuracy: 0.9623 - loss: 0.0979 - val_accuracy: 0.9254 - val_loss: 0.2442\n",
      "Epoch 28/50\n",
      "235/235 - 16s - 67ms/step - accuracy: 0.9643 - loss: 0.0914 - val_accuracy: 0.9268 - val_loss: 0.2526\n",
      "Epoch 29/50\n",
      "235/235 - 15s - 66ms/step - accuracy: 0.9639 - loss: 0.0919 - val_accuracy: 0.9269 - val_loss: 0.2569\n",
      "Epoch 30/50\n",
      "235/235 - 17s - 74ms/step - accuracy: 0.9658 - loss: 0.0879 - val_accuracy: 0.9270 - val_loss: 0.2579\n",
      "Epoch 31/50\n",
      "235/235 - 17s - 71ms/step - accuracy: 0.9680 - loss: 0.0834 - val_accuracy: 0.9254 - val_loss: 0.2808\n",
      "Epoch 32/50\n",
      "235/235 - 15s - 64ms/step - accuracy: 0.9682 - loss: 0.0832 - val_accuracy: 0.9299 - val_loss: 0.2600\n",
      "Epoch 33/50\n",
      "235/235 - 16s - 67ms/step - accuracy: 0.9688 - loss: 0.0801 - val_accuracy: 0.9289 - val_loss: 0.2549\n",
      "Epoch 34/50\n",
      "235/235 - 16s - 67ms/step - accuracy: 0.9692 - loss: 0.0781 - val_accuracy: 0.9263 - val_loss: 0.2735\n",
      "Epoch 35/50\n",
      "235/235 - 18s - 76ms/step - accuracy: 0.9705 - loss: 0.0763 - val_accuracy: 0.9307 - val_loss: 0.2576\n",
      "Epoch 36/50\n",
      "235/235 - 16s - 70ms/step - accuracy: 0.9704 - loss: 0.0754 - val_accuracy: 0.9267 - val_loss: 0.2740\n",
      "Epoch 37/50\n",
      "235/235 - 17s - 71ms/step - accuracy: 0.9719 - loss: 0.0718 - val_accuracy: 0.9281 - val_loss: 0.2658\n",
      "Epoch 38/50\n",
      "235/235 - 17s - 72ms/step - accuracy: 0.9707 - loss: 0.0726 - val_accuracy: 0.9287 - val_loss: 0.2711\n",
      "Epoch 39/50\n",
      "235/235 - 16s - 66ms/step - accuracy: 0.9734 - loss: 0.0688 - val_accuracy: 0.9285 - val_loss: 0.2699\n",
      "Epoch 40/50\n",
      "235/235 - 15s - 66ms/step - accuracy: 0.9729 - loss: 0.0704 - val_accuracy: 0.9296 - val_loss: 0.2584\n",
      "Epoch 41/50\n",
      "235/235 - 16s - 66ms/step - accuracy: 0.9735 - loss: 0.0686 - val_accuracy: 0.9287 - val_loss: 0.3009\n",
      "Epoch 42/50\n",
      "235/235 - 16s - 67ms/step - accuracy: 0.9749 - loss: 0.0659 - val_accuracy: 0.9284 - val_loss: 0.3021\n",
      "Epoch 43/50\n",
      "235/235 - 16s - 67ms/step - accuracy: 0.9751 - loss: 0.0645 - val_accuracy: 0.9313 - val_loss: 0.2891\n",
      "Epoch 44/50\n",
      "235/235 - 16s - 67ms/step - accuracy: 0.9732 - loss: 0.0668 - val_accuracy: 0.9296 - val_loss: 0.2927\n",
      "Epoch 45/50\n",
      "235/235 - 16s - 67ms/step - accuracy: 0.9754 - loss: 0.0629 - val_accuracy: 0.9302 - val_loss: 0.2856\n",
      "Epoch 46/50\n",
      "235/235 - 16s - 67ms/step - accuracy: 0.9757 - loss: 0.0632 - val_accuracy: 0.9304 - val_loss: 0.2890\n",
      "Epoch 47/50\n",
      "235/235 - 15s - 65ms/step - accuracy: 0.9762 - loss: 0.0608 - val_accuracy: 0.9278 - val_loss: 0.3030\n",
      "Epoch 48/50\n",
      "235/235 - 15s - 64ms/step - accuracy: 0.9755 - loss: 0.0617 - val_accuracy: 0.9279 - val_loss: 0.3052\n",
      "Epoch 49/50\n",
      "235/235 - 15s - 64ms/step - accuracy: 0.9767 - loss: 0.0582 - val_accuracy: 0.9308 - val_loss: 0.3101\n",
      "Epoch 50/50\n",
      "235/235 - 15s - 65ms/step - accuracy: 0.9773 - loss: 0.0601 - val_accuracy: 0.9282 - val_loss: 0.3120\n"
     ]
    }
   ],
   "source": [
    "model.compile(optimizer='adam', loss='categorical_crossentropy',\n",
    "              metrics=['accuracy'])\n",
    "\n",
    "history = model.fit(train_images, train_labels, batch_size=256, epochs=50,\n",
    "          validation_data=(test_images, test_labels_ohe), verbose=2)"
   ]
  },
  {
   "cell_type": "code",
   "execution_count": 15,
   "id": "aa824fc5",
   "metadata": {
    "execution": {
     "iopub.execute_input": "2024-11-22T22:23:02.037294Z",
     "iopub.status.busy": "2024-11-22T22:23:02.037217Z",
     "iopub.status.idle": "2024-11-22T22:23:02.227792Z",
     "shell.execute_reply": "2024-11-22T22:23:02.227539Z"
    }
   },
   "outputs": [
    {
     "data": {
      "image/png": "[encoded data removed]",
      "text/plain": [
       "<Figure size 800x300 with 2 Axes>"
      ]
     },
     "metadata": {},
     "output_type": "display_data"
    }
   ],
   "source": [
    "def plotMetrics(metrics, ax, ycolumns, legend, ylabel):\n",
    "    if ylabel == 'Loss':\n",
    "        best_val_epoch = metrics[ycolumns[1]].argmin()\n",
    "    else:\n",
    "        best_val_epoch = metrics[ycolumns[1]].argmax()\n",
    "    best_val_metric = metrics[ycolumns[1]][best_val_epoch]\n",
    "\n",
    "    ax = metrics.plot(x='Epoch', y=ycolumns, ax=ax)\n",
    "    ax.axhline(best_val_metric, linestyle='--', color='grey')\n",
    "    if ylabel == 'Loss':\n",
    "        ax.axvline(best_val_epoch, linestyle='--', color='grey')\n",
    "    ax.legend(legend)\n",
    "    ax.set_ylabel(ylabel)\n",
    "\n",
    "metrics = pd.DataFrame(history.history)\n",
    "metrics['Epoch'] = [e + 1 for e in history.epoch]\n",
    "fig, axes = plt.subplots(1, 2, figsize=(8, 3))\n",
    "plotMetrics(metrics, axes[0], ['loss', 'val_loss'],\n",
    "            ['Training loss', 'Validation loss'], 'Loss')\n",
    "plotMetrics(metrics, axes[1], ['accuracy', 'val_accuracy'],\n",
    "            ['Training accuracy', 'Validation accuracy'], 'Accuracy')\n",
    "plt.tight_layout()\n",
    "plt.show()"
   ]
  },
  {
   "cell_type": "code",
   "execution_count": 16,
   "id": "237b0028",
   "metadata": {
    "execution": {
     "iopub.execute_input": "2024-11-22T22:23:02.228959Z",
     "iopub.status.busy": "2024-11-22T22:23:02.228876Z",
     "iopub.status.idle": "2024-11-22T22:36:27.897398Z",
     "shell.execute_reply": "2024-11-22T22:36:27.897154Z"
    }
   },
   "outputs": [
    {
     "name": "stdout",
     "output_type": "stream",
     "text": [
      "Epoch 1/20\n",
      "235/235 - 16s - 67ms/step - accuracy: 0.7798 - loss: 0.6167 - val_accuracy: 0.8603 - val_loss: 0.3838\n",
      "Epoch 2/20\n",
      "235/235 - 15s - 65ms/step - accuracy: 0.8594 - loss: 0.3940 - val_accuracy: 0.8822 - val_loss: 0.3283\n",
      "Epoch 3/20\n",
      "235/235 - 15s - 64ms/step - accuracy: 0.8789 - loss: 0.3411 - val_accuracy: 0.8892 - val_loss: 0.2985\n",
      "Epoch 4/20\n",
      "235/235 - 15s - 65ms/step - accuracy: 0.8881 - loss: 0.3093 - val_accuracy: 0.8973 - val_loss: 0.2807\n",
      "Epoch 5/20\n",
      "235/235 - 15s - 64ms/step - accuracy: 0.8973 - loss: 0.2838 - val_accuracy: 0.9055 - val_loss: 0.2585\n",
      "Epoch 6/20\n",
      "235/235 - 15s - 64ms/step - accuracy: 0.9029 - loss: 0.2675 - val_accuracy: 0.9069 - val_loss: 0.2550\n",
      "Epoch 7/20\n",
      "235/235 - 15s - 65ms/step - accuracy: 0.9085 - loss: 0.2497 - val_accuracy: 0.9087 - val_loss: 0.2457\n",
      "Epoch 8/20\n",
      "235/235 - 15s - 65ms/step - accuracy: 0.9131 - loss: 0.2375 - val_accuracy: 0.9118 - val_loss: 0.2372\n",
      "Epoch 9/20\n",
      "235/235 - 15s - 64ms/step - accuracy: 0.9180 - loss: 0.2244 - val_accuracy: 0.9107 - val_loss: 0.2405\n",
      "Epoch 10/20\n",
      "235/235 - 15s - 64ms/step - accuracy: 0.9207 - loss: 0.2148 - val_accuracy: 0.9163 - val_loss: 0.2317\n",
      "Epoch 11/20\n",
      "235/235 - 15s - 64ms/step - accuracy: 0.9241 - loss: 0.2039 - val_accuracy: 0.9161 - val_loss: 0.2338\n",
      "Epoch 12/20\n",
      "235/235 - 15s - 64ms/step - accuracy: 0.9280 - loss: 0.1942 - val_accuracy: 0.9211 - val_loss: 0.2242\n",
      "Epoch 13/20\n",
      "235/235 - 15s - 64ms/step - accuracy: 0.9306 - loss: 0.1861 - val_accuracy: 0.9183 - val_loss: 0.2236\n",
      "Epoch 14/20\n",
      "235/235 - 15s - 64ms/step - accuracy: 0.9344 - loss: 0.1773 - val_accuracy: 0.9148 - val_loss: 0.2431\n",
      "Epoch 15/20\n",
      "235/235 - 15s - 64ms/step - accuracy: 0.9370 - loss: 0.1670 - val_accuracy: 0.9197 - val_loss: 0.2266\n",
      "Epoch 16/20\n",
      "235/235 - 15s - 65ms/step - accuracy: 0.9380 - loss: 0.1632 - val_accuracy: 0.9215 - val_loss: 0.2256\n",
      "Epoch 17/20\n",
      "235/235 - 15s - 64ms/step - accuracy: 0.9412 - loss: 0.1554 - val_accuracy: 0.9237 - val_loss: 0.2203\n",
      "Epoch 18/20\n",
      "235/235 - 15s - 64ms/step - accuracy: 0.9428 - loss: 0.1506 - val_accuracy: 0.9232 - val_loss: 0.2244\n",
      "Epoch 19/20\n",
      "235/235 - 15s - 63ms/step - accuracy: 0.9458 - loss: 0.1463 - val_accuracy: 0.9257 - val_loss: 0.2255\n",
      "Epoch 20/20\n",
      "235/235 - 15s - 64ms/step - accuracy: 0.9469 - loss: 0.1375 - val_accuracy: 0.9251 - val_loss: 0.2224\n"
     ]
    },
    {
     "data": {
      "image/png": "[encoded data removed]",
      "text/plain": [
       "<Figure size 800x300 with 2 Axes>"
      ]
     },
     "metadata": {},
     "output_type": "display_data"
    }
   ],
   "source": [
    "# retrain model for 20 epochs\n",
    "model = model_cloned\n",
    "model.compile(optimizer='adam', loss='categorical_crossentropy',\n",
    "              metrics=['accuracy'])\n",
    "history = model.fit(train_images, train_labels, batch_size=256, epochs=20,\n",
    "        validation_data=(test_images, test_labels_ohe), verbose=2)\n",
    "\n",
    "metrics = pd.DataFrame(history.history)\n",
    "metrics['Epoch'] = [e + 1 for e in history.epoch]\n",
    "fig, axes = plt.subplots(1, 2, figsize=(8, 3))\n",
    "plotMetrics(metrics, axes[0], ['loss', 'val_loss'],\n",
    "            ['Training loss', 'Validation loss'], 'Loss')\n",
    "plotMetrics(metrics, axes[1], ['accuracy', 'val_accuracy'],\n",
    "            ['Training accuracy', 'Validation accuracy'], 'Accuracy')"
   ]
  },
  {
   "cell_type": "code",
   "execution_count": 17,
   "id": "b2fad34a",
   "metadata": {
    "execution": {
     "iopub.execute_input": "2024-11-22T22:36:27.898604Z",
     "iopub.status.busy": "2024-11-22T22:36:27.898516Z",
     "iopub.status.idle": "2024-11-22T22:36:29.476202Z",
     "shell.execute_reply": "2024-11-22T22:36:29.475904Z"
    }
   },
   "outputs": [
    {
     "name": "stdout",
     "output_type": "stream",
     "text": [
      "Confusion Matrix (Accuracy 0.9251)\n",
      "\n",
      "       Prediction\n",
      "Actual   0   1   2   3   4   5   6   7   8   9\n",
      "     0 861   0  20  10   3   0  94   0  12   0\n",
      "     1   2 982   0   9   3   0   2   0   2   0\n",
      "     2  11   0 884   6  61   0  36   0   2   0\n",
      "     3  11   2  13 933  17   0  22   0   2   0\n",
      "     4   2   0  24  27 909   0  37   0   1   0\n",
      "     5   0   0   0   0   0 988   0   9   0   3\n",
      "     6  79   0  61  23  69   0 759   0   9   0\n",
      "     7   0   0   0   0   0   5   0 981   0  14\n",
      "     8   3   0   1   2   1   2   0   2 989   0\n",
      "     9   0   0   0   0   0   5   0  30   0 965\n"
     ]
    }
   ],
   "source": [
    "propensities = model.predict(test_images, verbose=0)\n",
    "propensities[:5].round(3)\n",
    "\n",
    "# convert to class using winner takes all\n",
    "predClass = propensities.argmax(axis=1)\n",
    "predClass[:5]\n",
    "\n",
    "# confusion matrix\n",
    "mlba.classificationSummary(y_true=test_labels, y_pred=predClass)"
   ]
  }
 ],
 "metadata": {
  "kernelspec": {
   "display_name": ".venv",
   "language": "python",
   "name": "python3"
  },
  "language_info": {
   "codemirror_mode": {
    "name": "ipython",
    "version": 3
   },
   "file_extension": ".py",
   "mimetype": "text/x-python",
   "name": "python",
   "nbconvert_exporter": "python",
   "pygments_lexer": "ipython3",
   "version": "3.11.8"
  }
 },
 "nbformat": 4,
 "nbformat_minor": 5
}
