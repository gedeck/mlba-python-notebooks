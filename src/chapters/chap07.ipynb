{
 "cells": [
  {
   "cell_type": "markdown",
   "id": "8a994bcc",
   "metadata": {},
   "source": [
    "# Chapter 07 \n",
    " Machine Learning for Business Analytics<br>\n",
    "Concepts, Techniques, and Applications in Python<br>\n",
    "by Galit Shmueli, Peter C. Bruce, Peter Gedeck, Nitin R. Patel\n",
    "\n",
    "Publisher: Wiley; 2nd edition (2024) <br>\n",
    "<!-- ISBN-13: 978-3031075650 -->\n",
    "\n",
    "(c) 2024 Galit Shmueli, Peter C. Bruce, Peter Gedeck, Nitin R. Patel\n",
    "\n",
    "The code needs to be executed in sequence.\n",
    "\n",
    "Python packages and Python itself change over time. This can cause warnings or errors.\n",
    "\"Warnings\" are for information only and can usually be ignored.\n",
    "\"Errors\" will stop execution and need to be fixed in order to get results.\n",
    "\n",
    "If you come across an issue with the code, please follow these steps\n",
    "\n",
    "- Check the repository (https://gedeck.github.io/sdsa-code-solutions/) to see if the code has been upgraded. This might solve the problem.\n",
    "- Report the problem using the issue tracker at https://github.com/gedeck/sdsa-code-solutions/issues\n",
    "- Paste the error message into Google and see if someone else already found a solution"
   ]
  },
  {
   "cell_type": "code",
   "execution_count": 2,
   "id": "72f34b5a",
   "metadata": {
    "execution": {
     "iopub.execute_input": "2025-02-10T19:33:15.884805Z",
     "iopub.status.busy": "2025-02-10T19:33:15.884692Z",
     "iopub.status.idle": "2025-02-10T19:33:16.839794Z",
     "shell.execute_reply": "2025-02-10T19:33:16.839476Z"
    }
   },
   "outputs": [],
   "source": [
    "import matplotlib.pyplot as plt\n",
    "import mlba\n",
    "import pandas as pd\n",
    "from sklearn import preprocessing\n",
    "from sklearn.compose import ColumnTransformer\n",
    "from sklearn.model_selection import train_test_split, cross_val_score, LeaveOneOut\n",
    "from sklearn.neighbors import KNeighborsClassifier\n",
    "from sklearn.pipeline import Pipeline\n",
    "%matplotlib inline"
   ]
  },
  {
   "cell_type": "code",
   "execution_count": 3,
   "id": "35704945",
   "metadata": {
    "execution": {
     "iopub.execute_input": "2025-02-10T19:33:16.841408Z",
     "iopub.status.busy": "2025-02-10T19:33:16.841291Z",
     "iopub.status.idle": "2025-02-10T19:33:17.050814Z",
     "shell.execute_reply": "2025-02-10T19:33:17.050523Z"
    }
   },
   "outputs": [
    {
     "data": {
      "image/png": "[encoded data removed]",
      "text/plain": [
       "<Figure size 600x400 with 1 Axes>"
      ]
     },
     "metadata": {},
     "output_type": "display_data"
    }
   ],
   "source": [
    "mower_df = mlba.load_data('RidingMowers.csv')\n",
    "mower_df['Number'] = mower_df.index + 1\n",
    "\n",
    "trainData, holdoutData = train_test_split(mower_df, test_size=0.4, random_state=26)\n",
    "\n",
    "## new household\n",
    "newHousehold = pd.DataFrame([{'Income': 60, 'Lot_Size': 20}])\n",
    "\n",
    "## scatter plot\n",
    "def plotDataset(ax, data):\n",
    "    subset = data.loc[data['Ownership']=='Owner']\n",
    "    ax.scatter(subset.Income, subset.Lot_Size, marker='o',\n",
    "        label='Owner', color='C1')\n",
    "    subset = data.loc[data['Ownership']=='Nonowner']\n",
    "    ax.scatter(subset.Income, subset.Lot_Size, marker='D',\n",
    "        label='Nonowner', color='C0')\n",
    "    for _, row in data.iterrows():\n",
    "        ax.annotate(row.Number, (row.Income + 2, row.Lot_Size))\n",
    "\n",
    "fig, ax = plt.subplots(figsize=(6, 4))\n",
    "plotDataset(ax, trainData)\n",
    "ax.scatter(newHousehold.Income, newHousehold.Lot_Size, marker='*',\n",
    "    label='New household', color='black', s=150)\n",
    "\n",
    "ax.set_xlabel('Income'); ax.set_ylabel('Lot size')\n",
    "ax.set_xlim(20, 120)\n",
    "ax.set_ylim(13, 25)\n",
    "ax.legend(loc=4)\n",
    "plt.tight_layout()\n",
    "plt.show()"
   ]
  },
  {
   "cell_type": "code",
   "execution_count": 4,
   "id": "699268ae",
   "metadata": {
    "execution": {
     "iopub.execute_input": "2025-02-10T19:33:17.052019Z",
     "iopub.status.busy": "2025-02-10T19:33:17.051928Z",
     "iopub.status.idle": "2025-02-10T19:33:17.058861Z",
     "shell.execute_reply": "2025-02-10T19:33:17.058652Z"
    }
   },
   "outputs": [
    {
     "data": {
      "text/plain": [
       "array(['Owner'], dtype=object)"
      ]
     },
     "execution_count": 4,
     "metadata": {},
     "output_type": "execute_result"
    }
   ],
   "source": [
    "predictors = ['Income', 'Lot_Size']\n",
    "outcome = 'Ownership'\n",
    "\n",
    "# combine scaling and k-NN classifier into model using a pipeline\n",
    "model = Pipeline([\n",
    "    ('scaler', preprocessing.StandardScaler()),\n",
    "    ('knn', KNeighborsClassifier(n_neighbors=3)),\n",
    "])\n",
    "\n",
    "model.fit(trainData[predictors], trainData[outcome])\n",
    "model.predict(newHousehold)"
   ]
  },
  {
   "cell_type": "markdown",
   "id": "5cefa494",
   "metadata": {},
   "source": [
    " Determine the nearest neighbors of the new household"
   ]
  },
  {
   "cell_type": "code",
   "execution_count": 5,
   "id": "5af855c3",
   "metadata": {
    "execution": {
     "iopub.execute_input": "2025-02-10T19:33:17.059932Z",
     "iopub.status.busy": "2025-02-10T19:33:17.059839Z",
     "iopub.status.idle": "2025-02-10T19:33:17.064764Z",
     "shell.execute_reply": "2025-02-10T19:33:17.064543Z"
    }
   },
   "outputs": [
    {
     "data": {
      "text/html": [
       "<div>\n",
       "<style scoped>\n",
       "    .dataframe tbody tr th:only-of-type {\n",
       "        vertical-align: middle;\n",
       "    }\n",
       "\n",
       "    .dataframe tbody tr th {\n",
       "        vertical-align: top;\n",
       "    }\n",
       "\n",
       "    .dataframe thead th {\n",
       "        text-align: right;\n",
       "    }\n",
       "</style>\n",
       "<table border=\"1\" class=\"dataframe\">\n",
       "  <thead>\n",
       "    <tr style=\"text-align: right;\">\n",
       "      <th></th>\n",
       "      <th>Income</th>\n",
       "      <th>Lot_Size</th>\n",
       "      <th>Ownership</th>\n",
       "      <th>Number</th>\n",
       "    </tr>\n",
       "  </thead>\n",
       "  <tbody>\n",
       "    <tr>\n",
       "      <th>3</th>\n",
       "      <td>61.5</td>\n",
       "      <td>20.8</td>\n",
       "      <td>Owner</td>\n",
       "      <td>4</td>\n",
       "    </tr>\n",
       "    <tr>\n",
       "      <th>13</th>\n",
       "      <td>52.8</td>\n",
       "      <td>20.8</td>\n",
       "      <td>Nonowner</td>\n",
       "      <td>14</td>\n",
       "    </tr>\n",
       "    <tr>\n",
       "      <th>0</th>\n",
       "      <td>60.0</td>\n",
       "      <td>18.4</td>\n",
       "      <td>Owner</td>\n",
       "      <td>1</td>\n",
       "    </tr>\n",
       "  </tbody>\n",
       "</table>\n",
       "</div>"
      ],
      "text/plain": [
       "    Income  Lot_Size Ownership  Number\n",
       "3     61.5      20.8     Owner       4\n",
       "13    52.8      20.8  Nonowner      14\n",
       "0     60.0      18.4     Owner       1"
      ]
     },
     "execution_count": 5,
     "metadata": {},
     "output_type": "execute_result"
    }
   ],
   "source": [
    "zNewHousehold = model['scaler'].transform(newHousehold)\n",
    "distances, indices = model['knn'].kneighbors(zNewHousehold)\n",
    "trainData.iloc[indices[0], :]"
   ]
  },
  {
   "cell_type": "code",
   "execution_count": 6,
   "id": "65b0c84b",
   "metadata": {
    "execution": {
     "iopub.execute_input": "2025-02-10T19:33:17.065979Z",
     "iopub.status.busy": "2025-02-10T19:33:17.065862Z",
     "iopub.status.idle": "2025-02-10T19:33:17.678571Z",
     "shell.execute_reply": "2025-02-10T19:33:17.678111Z"
    }
   },
   "outputs": [
    {
     "data": {
      "text/html": [
       "<div>\n",
       "<style scoped>\n",
       "    .dataframe tbody tr th:only-of-type {\n",
       "        vertical-align: middle;\n",
       "    }\n",
       "\n",
       "    .dataframe tbody tr th {\n",
       "        vertical-align: top;\n",
       "    }\n",
       "\n",
       "    .dataframe thead th {\n",
       "        text-align: right;\n",
       "    }\n",
       "</style>\n",
       "<table border=\"1\" class=\"dataframe\">\n",
       "  <thead>\n",
       "    <tr style=\"text-align: right;\">\n",
       "      <th></th>\n",
       "      <th>k</th>\n",
       "      <th>accuracy</th>\n",
       "    </tr>\n",
       "  </thead>\n",
       "  <tbody>\n",
       "    <tr>\n",
       "      <th>0</th>\n",
       "      <td>1</td>\n",
       "      <td>0.71</td>\n",
       "    </tr>\n",
       "    <tr>\n",
       "      <th>1</th>\n",
       "      <td>2</td>\n",
       "      <td>0.50</td>\n",
       "    </tr>\n",
       "    <tr>\n",
       "      <th>2</th>\n",
       "      <td>3</td>\n",
       "      <td>0.71</td>\n",
       "    </tr>\n",
       "    <tr>\n",
       "      <th>3</th>\n",
       "      <td>4</td>\n",
       "      <td>0.71</td>\n",
       "    </tr>\n",
       "    <tr>\n",
       "      <th>4</th>\n",
       "      <td>5</td>\n",
       "      <td>0.79</td>\n",
       "    </tr>\n",
       "    <tr>\n",
       "      <th>5</th>\n",
       "      <td>6</td>\n",
       "      <td>0.71</td>\n",
       "    </tr>\n",
       "    <tr>\n",
       "      <th>6</th>\n",
       "      <td>7</td>\n",
       "      <td>0.79</td>\n",
       "    </tr>\n",
       "    <tr>\n",
       "      <th>7</th>\n",
       "      <td>8</td>\n",
       "      <td>0.71</td>\n",
       "    </tr>\n",
       "    <tr>\n",
       "      <th>8</th>\n",
       "      <td>9</td>\n",
       "      <td>0.71</td>\n",
       "    </tr>\n",
       "    <tr>\n",
       "      <th>9</th>\n",
       "      <td>10</td>\n",
       "      <td>0.57</td>\n",
       "    </tr>\n",
       "    <tr>\n",
       "      <th>10</th>\n",
       "      <td>11</td>\n",
       "      <td>0.50</td>\n",
       "    </tr>\n",
       "    <tr>\n",
       "      <th>11</th>\n",
       "      <td>12</td>\n",
       "      <td>0.43</td>\n",
       "    </tr>\n",
       "    <tr>\n",
       "      <th>12</th>\n",
       "      <td>13</td>\n",
       "      <td>0.57</td>\n",
       "    </tr>\n",
       "  </tbody>\n",
       "</table>\n",
       "</div>"
      ],
      "text/plain": [
       "     k  accuracy\n",
       "0    1      0.71\n",
       "1    2      0.50\n",
       "2    3      0.71\n",
       "3    4      0.71\n",
       "4    5      0.79\n",
       "5    6      0.71\n",
       "6    7      0.79\n",
       "7    8      0.71\n",
       "8    9      0.71\n",
       "9   10      0.57\n",
       "10  11      0.50\n",
       "11  12      0.43\n",
       "12  13      0.57"
      ]
     },
     "execution_count": 6,
     "metadata": {},
     "output_type": "execute_result"
    }
   ],
   "source": [
    "X = trainData[predictors]\n",
    "y = trainData[outcome]\n",
    "results = []\n",
    "for k in range(1, 14):\n",
    "    # set the number of neighbors in the knn model\n",
    "    model.set_params(knn__n_neighbors=k)\n",
    "    accuracy = cross_val_score(model, X, y, cv=LeaveOneOut(), scoring='accuracy').mean()\n",
    "    results.append({'k': k, 'accuracy': accuracy})\n",
    "pd.DataFrame(results).round(2)"
   ]
  },
  {
   "cell_type": "code",
   "execution_count": 7,
   "id": "c78bc344",
   "metadata": {
    "execution": {
     "iopub.execute_input": "2025-02-10T19:33:17.680183Z",
     "iopub.status.busy": "2025-02-10T19:33:17.680082Z",
     "iopub.status.idle": "2025-02-10T19:33:17.687355Z",
     "shell.execute_reply": "2025-02-10T19:33:17.687072Z"
    }
   },
   "outputs": [
    {
     "name": "stdout",
     "output_type": "stream",
     "text": [
      "Predicted class ['Owner']\n",
      "Probability [[0.2 0.8]]\n",
      "Distances [[0.34532669 0.46448259 0.50133206 0.67307542 0.71721526]]\n",
      "Indices [[ 3  8 13  0  2]]\n",
      "    Income  Lot_Size Ownership  Number\n",
      "3     61.5      20.8     Owner       4\n",
      "8     69.0      20.0     Owner       9\n",
      "13    52.8      20.8  Nonowner      14\n",
      "0     60.0      18.4     Owner       1\n",
      "2     64.8      21.6     Owner       3\n"
     ]
    }
   ],
   "source": [
    "# Retrain with full dataset\n",
    "knn = Pipeline([\n",
    "    ('scaler', preprocessing.StandardScaler()),\n",
    "    ('knn', KNeighborsClassifier(n_neighbors=5)),\n",
    "])\n",
    "knn.fit(mower_df[predictors], mower_df[outcome])\n",
    "\n",
    "zNewHousehold = knn['scaler'].transform(newHousehold)\n",
    "distances, indices = knn['knn'].kneighbors(zNewHousehold)\n",
    "\n",
    "print('Predicted class', knn.predict(newHousehold))\n",
    "print('Probability', knn.predict_proba(newHousehold))\n",
    "print('Distances',distances)\n",
    "print('Indices', indices)\n",
    "print(mower_df.iloc[indices[0], :])"
   ]
  },
  {
   "cell_type": "code",
   "execution_count": 8,
   "id": "caaa7be3",
   "metadata": {
    "execution": {
     "iopub.execute_input": "2025-02-10T19:33:17.688775Z",
     "iopub.status.busy": "2025-02-10T19:33:17.688694Z",
     "iopub.status.idle": "2025-02-10T19:33:17.695682Z",
     "shell.execute_reply": "2025-02-10T19:33:17.695387Z"
    }
   },
   "outputs": [
    {
     "name": "stdout",
     "output_type": "stream",
     "text": [
      "Predicted class ['Owner']\n",
      "Probability [[0.20100777 0.79899223]]\n"
     ]
    }
   ],
   "source": [
    "# Train weighted k-nearest neighbor model with full dataset\n",
    "knn = Pipeline([\n",
    "    ('scaler', preprocessing.StandardScaler()),\n",
    "    ('knn', KNeighborsClassifier(n_neighbors=5, weights='distance')),\n",
    "])\n",
    "knn.fit(mower_df[predictors], mower_df[outcome])\n",
    "\n",
    "zNewHousehold = knn['scaler'].transform(newHousehold)\n",
    "distances, indices = knn['knn'].kneighbors(zNewHousehold)\n",
    "\n",
    "print('Predicted class', knn.predict(newHousehold))\n",
    "print('Probability', knn.predict_proba(newHousehold))"
   ]
  },
  {
   "cell_type": "code",
   "execution_count": 9,
   "id": "7c5e2bf9",
   "metadata": {
    "execution": {
     "iopub.execute_input": "2025-02-10T19:33:17.697034Z",
     "iopub.status.busy": "2025-02-10T19:33:17.696937Z",
     "iopub.status.idle": "2025-02-10T19:33:17.703125Z",
     "shell.execute_reply": "2025-02-10T19:33:17.702805Z"
    }
   },
   "outputs": [
    {
     "data": {
      "text/plain": [
       "array([[ 1.    ,  1.    ,  0.    ,  0.    ,  0.157 ,  1.    ],\n",
       "       [ 0.    ,  1.    ,  0.    ,  0.    , -0.3864,  1.    ],\n",
       "       [ 0.    ,  0.    ,  1.    ,  0.    , -1.2194,  3.    ],\n",
       "       [ 1.    ,  0.    ,  0.    ,  1.    ,  2.0042,  1.    ],\n",
       "       [ 0.    ,  0.    ,  1.    ,  0.    ,  0.0121,  2.    ],\n",
       "       [ 0.    ,  0.    ,  1.    ,  0.    , -0.5675,  2.    ]])"
      ]
     },
     "execution_count": 9,
     "metadata": {},
     "output_type": "execute_result"
    }
   ],
   "source": [
    "df = pd.DataFrame({\n",
    "    'Family': ['Single', 'Married', 'Married', 'Single', 'Married', 'Married'],\n",
    "    'Car': ['SUV', 'SUV', 'Sports', 'Truck', 'Sports', 'Sports'],\n",
    "    'Income': [49, 34, 11, 100, 45, 29],\n",
    "    'CreditCard': [1, 1, 3, 1, 2, 2],\n",
    "})\n",
    "preprocess = ColumnTransformer([\n",
    "    ('encoder', preprocessing.OneHotEncoder(drop='if_binary'), ['Family', 'Car']),\n",
    "    ('standardize', preprocessing.StandardScaler(), ['Income']),\n",
    "    ('unchanged', 'passthrough', ['CreditCard']),\n",
    "])\n",
    "preprocess.fit_transform(df).round(4)"
   ]
  }
 ],
 "metadata": {
  "language_info": {
   "codemirror_mode": {
    "name": "ipython",
    "version": 3
   },
   "file_extension": ".py",
   "mimetype": "text/x-python",
   "name": "python",
   "nbconvert_exporter": "python",
   "pygments_lexer": "ipython3",
   "version": "3.11.8"
  }
 },
 "nbformat": 4,
 "nbformat_minor": 5
}
