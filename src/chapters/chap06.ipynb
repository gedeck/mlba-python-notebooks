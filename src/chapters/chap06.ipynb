{
 "cells": [
  {
   "cell_type": "markdown",
   "id": "12e14b16",
   "metadata": {},
   "source": [
    "# Chapter 06 \n",
    " Machine Learning for Business Analytics<br>\n",
    "Concepts, Techniques, and Applications in Python<br>\n",
    "by Galit Shmueli, Peter C. Bruce, Peter Gedeck, Nitin R. Patel\n",
    "\n",
    "Publisher: Wiley; 2nd edition (2024) <br>\n",
    "<!-- ISBN-13: 978-3031075650 -->\n",
    "\n",
    "(c) 2024 Galit Shmueli, Peter C. Bruce, Peter Gedeck, Nitin R. Patel\n",
    "\n",
    "The code needs to be executed in sequence.\n",
    "\n",
    "Python packages and Python itself change over time. This can cause warnings or errors.\n",
    "\"Warnings\" are for information only and can usually be ignored.\n",
    "\"Errors\" will stop execution and need to be fixed in order to get results.\n",
    "\n",
    "If you come across an issue with the code, please follow these steps\n",
    "\n",
    "- Check the repository (https://gedeck.github.io/sdsa-code-solutions/) to see if the code has been upgraded. This might solve the problem.\n",
    "- Report the problem using the issue tracker at https://github.com/gedeck/sdsa-code-solutions/issues\n",
    "- Paste the error message into Google and see if someone else already found a solution"
   ]
  },
  {
   "cell_type": "code",
   "execution_count": 2,
   "id": "0b49e21b",
   "metadata": {
    "execution": {
     "iopub.execute_input": "2024-11-04T22:23:43.019326Z",
     "iopub.status.busy": "2024-11-04T22:23:43.019144Z",
     "iopub.status.idle": "2024-11-04T22:23:43.733536Z",
     "shell.execute_reply": "2024-11-04T22:23:43.733243Z"
    }
   },
   "outputs": [],
   "source": [
    "import pandas as pd\n",
    "import numpy as np\n",
    "from sklearn.model_selection import train_test_split, cross_validate\n",
    "from sklearn.pipeline import Pipeline\n",
    "from sklearn.preprocessing import StandardScaler\n",
    "from sklearn.linear_model import LinearRegression, Lasso, Ridge, LassoCV, RidgeCV, BayesianRidge\n",
    "from mlxtend.feature_selection import ExhaustiveFeatureSelector, SequentialFeatureSelector\n",
    "import statsmodels.formula.api as sm\n",
    "import matplotlib.pylab as plt\n",
    "import mlba\n",
    "%matplotlib inline"
   ]
  },
  {
   "cell_type": "code",
   "execution_count": 3,
   "id": "74b55968",
   "metadata": {
    "execution": {
     "iopub.execute_input": "2024-11-04T22:23:43.735057Z",
     "iopub.status.busy": "2024-11-04T22:23:43.734943Z",
     "iopub.status.idle": "2024-11-04T22:23:43.744813Z",
     "shell.execute_reply": "2024-11-04T22:23:43.744587Z"
    }
   },
   "outputs": [
    {
     "name": "stdout",
     "output_type": "stream",
     "text": [
      "           Predictor  coefficient\n",
      "0          Age_08_04  -140.748761\n",
      "1                 KM    -0.017840\n",
      "2                 HP    36.103419\n",
      "3          Met_Color    84.281830\n",
      "4          Automatic   416.781954\n",
      "5                 CC     0.017737\n",
      "6              Doors   -50.657863\n",
      "7      Quarterly_Tax    13.625325\n",
      "8             Weight    13.038711\n",
      "9   Fuel_Type_Diesel  1066.464681\n",
      "10  Fuel_Type_Petrol  2310.249543\n",
      "\n",
      "Regression statistics\n",
      "\n",
      "Mean Error (ME) : -0.0000\n",
      "Root Mean Squared Error (RMSE) : 1400.5823\n",
      "Mean Absolute Error (MAE) : 1046.9072\n",
      "Mean Percentage Error (MPE) : -1.0223\n",
      "Mean Absolute Percentage Error (MAPE) : 9.2994\n"
     ]
    }
   ],
   "source": [
    "# reduce data frame to the top 1000 rows and select columns for regression analysis\n",
    "car_df = mlba.load_data('ToyotaCorolla.csv')\n",
    "car_df = car_df.iloc[0:1000]\n",
    "\n",
    "predictors = ['Age_08_04', 'KM', 'Fuel_Type', 'HP', 'Met_Color', 'Automatic', 'CC',\n",
    "              'Doors', 'Quarterly_Tax', 'Weight']\n",
    "outcome = 'Price'\n",
    "\n",
    "# partition data\n",
    "X = pd.get_dummies(car_df[predictors], drop_first=True)\n",
    "y = car_df[outcome]\n",
    "train_X, holdout_X, train_y, holdout_y = train_test_split(X, y, test_size=0.4,\n",
    "                                                    random_state=1)\n",
    "\n",
    "car_lm = LinearRegression()\n",
    "car_lm.fit(train_X, train_y)\n",
    "\n",
    "# print coefficients\n",
    "print(pd.DataFrame({'Predictor': X.columns, 'coefficient': car_lm.coef_}))\n",
    "\n",
    "# print performance measures (training data)\n",
    "mlba.regressionSummary(y_true=train_y, y_pred=car_lm.predict(train_X))"
   ]
  },
  {
   "cell_type": "code",
   "execution_count": 4,
   "id": "f169444b",
   "metadata": {
    "execution": {
     "iopub.execute_input": "2024-11-04T22:23:43.745843Z",
     "iopub.status.busy": "2024-11-04T22:23:43.745762Z",
     "iopub.status.idle": "2024-11-04T22:23:43.749046Z",
     "shell.execute_reply": "2024-11-04T22:23:43.748852Z"
    }
   },
   "outputs": [
    {
     "name": "stdout",
     "output_type": "stream",
     "text": [
      "        Predicted  Actual     Residual\n",
      "507  10607.333940   11500   892.666060\n",
      "818   9272.705792    8950  -322.705792\n",
      "452  10617.947808   11450   832.052192\n",
      "368  13600.396275   11450 -2150.396275\n",
      "242  12396.694660   11950  -446.694660\n",
      "929   9496.498212    9995   498.501788\n",
      "262  12480.063217   13500  1019.936783\n",
      "810   8834.146068    7950  -884.146068\n",
      "318  12183.361282    9900 -2283.361282\n",
      "49   19206.965683   21950  2743.034317\n",
      "446  10987.498309   11950   962.501691\n",
      "142  18501.527375   19950  1448.472625\n",
      "968   9914.690947    9950    35.309053\n",
      "345  13827.299932   14950  1122.700068\n",
      "971   7966.732543   10495  2528.267457\n",
      "133  17185.242041   15950 -1235.242041\n",
      "104  19952.658062   19450  -502.658062\n",
      "6    16570.609280   16900   329.390720\n",
      "600  13739.409113   11250 -2489.409113\n",
      "496  11267.513740   11750   482.486260\n",
      "\n",
      "Regression statistics\n",
      "\n",
      "Mean Error (ME) : 103.6803\n",
      "Root Mean Squared Error (RMSE) : 1312.8523\n",
      "Mean Absolute Error (MAE) : 1017.5972\n",
      "Mean Percentage Error (MPE) : -0.2633\n",
      "Mean Absolute Percentage Error (MAPE) : 9.0111\n"
     ]
    }
   ],
   "source": [
    "# Use predict() to make predictions on a new set\n",
    "car_lm_pred = car_lm.predict(holdout_X)\n",
    "\n",
    "result = pd.DataFrame({'Predicted': car_lm_pred, 'Actual': holdout_y,\n",
    "                       'Residual': holdout_y - car_lm_pred})\n",
    "print(result.head(20))\n",
    "\n",
    "# print performance measures (holdout data)\n",
    "mlba.regressionSummary(y_true=holdout_y, y_pred=car_lm_pred)"
   ]
  },
  {
   "cell_type": "code",
   "execution_count": 5,
   "id": "dafc032d",
   "metadata": {
    "execution": {
     "iopub.execute_input": "2024-11-04T22:23:43.750013Z",
     "iopub.status.busy": "2024-11-04T22:23:43.749937Z",
     "iopub.status.idle": "2024-11-04T22:23:43.901516Z",
     "shell.execute_reply": "2024-11-04T22:23:43.901276Z"
    }
   },
   "outputs": [
    {
     "data": {
      "image/png": "[encoded data removed]",
      "text/plain": [
       "<Figure size 640x480 with 1 Axes>"
      ]
     },
     "metadata": {},
     "output_type": "display_data"
    }
   ],
   "source": [
    "car_lm_pred = car_lm.predict(holdout_X)\n",
    "all_residuals = holdout_y - car_lm_pred\n",
    "\n",
    "pd.DataFrame({'Residuals': all_residuals}).hist(bins=25)\n",
    "plt.tight_layout()\n",
    "plt.show()"
   ]
  },
  {
   "cell_type": "code",
   "execution_count": 6,
   "id": "29498e66",
   "metadata": {
    "execution": {
     "iopub.execute_input": "2024-11-04T22:23:43.902634Z",
     "iopub.status.busy": "2024-11-04T22:23:43.902552Z",
     "iopub.status.idle": "2024-11-04T22:23:43.904602Z",
     "shell.execute_reply": "2024-11-04T22:23:43.904395Z"
    }
   },
   "outputs": [
    {
     "name": "stdout",
     "output_type": "stream",
     "text": [
      "0.7425\n"
     ]
    }
   ],
   "source": [
    "# Determine the percentage of datapoints with a residual\n",
    "# in [-1406, 1406] = approx. 75\\% of the data\n",
    "print(len(all_residuals[(all_residuals > -1406) & (all_residuals < 1406)]) /\n",
    "len(all_residuals))"
   ]
  },
  {
   "cell_type": "code",
   "execution_count": 7,
   "id": "8918b969",
   "metadata": {
    "execution": {
     "iopub.execute_input": "2024-11-04T22:23:43.905721Z",
     "iopub.status.busy": "2024-11-04T22:23:43.905639Z",
     "iopub.status.idle": "2024-11-04T22:23:43.915031Z",
     "shell.execute_reply": "2024-11-04T22:23:43.914825Z"
    }
   },
   "outputs": [
    {
     "name": "stdout",
     "output_type": "stream",
     "text": [
      "CV-RMSE = 2008.43\n",
      "CV-MAE = 1566.42\n"
     ]
    }
   ],
   "source": [
    "from sklearn.model_selection import cross_validate\n",
    "\n",
    "model = LinearRegression()\n",
    "\n",
    "scoring = {'neg_RMSE': 'neg_root_mean_squared_error',\n",
    "            'neg_MAE': 'neg_mean_absolute_error'}\n",
    "scores = cross_validate(model, X, y, cv=5, scoring=scoring)\n",
    "\n",
    "print(f\"CV-RMSE = {- scores['test_neg_RMSE'].mean():.2f}\")\n",
    "print(f\"CV-MAE = {- scores['test_neg_MAE'].mean():.2f}\")"
   ]
  },
  {
   "cell_type": "code",
   "execution_count": 8,
   "id": "9fe9c6d3",
   "metadata": {
    "execution": {
     "iopub.execute_input": "2024-11-04T22:23:43.916148Z",
     "iopub.status.busy": "2024-11-04T22:23:43.916074Z",
     "iopub.status.idle": "2024-11-04T22:23:43.917648Z",
     "shell.execute_reply": "2024-11-04T22:23:43.917429Z"
    }
   },
   "outputs": [],
   "source": [
    "cv_results = {'RMSE': - scores['test_neg_RMSE'].mean(),\n",
    "              'MAE': - scores['test_neg_MAE'].mean()}"
   ]
  },
  {
   "cell_type": "code",
   "execution_count": 9,
   "id": "9badfb86",
   "metadata": {
    "execution": {
     "iopub.execute_input": "2024-11-04T22:23:43.918610Z",
     "iopub.status.busy": "2024-11-04T22:23:43.918539Z",
     "iopub.status.idle": "2024-11-04T22:23:46.786840Z",
     "shell.execute_reply": "2024-11-04T22:23:46.786530Z"
    }
   },
   "outputs": [
    {
     "name": "stdout",
     "output_type": "stream",
     "text": [
      "Best score: 1886.69\n",
      "Best subset (indices): (0, 1, 2, 7, 8, 10)\n",
      "Best subset (corresponding names):\n",
      "('Age_08_04', 'KM', 'HP', 'Quarterly_Tax', 'Weight', 'Fuel_Type_Petrol')\n"
     ]
    }
   ],
   "source": [
    "model = LinearRegression()\n",
    "efs = ExhaustiveFeatureSelector(model,\n",
    "            min_features=1, max_features=11,\n",
    "            cv=5, scoring='neg_root_mean_squared_error',\n",
    "            print_progress=False, n_jobs=4)\n",
    "efs = efs.fit(X, y)\n",
    "\n",
    "print(f'Best score: {- efs.best_score_:.2f}')\n",
    "print(f'Best subset (indices): {efs.best_idx_}')\n",
    "print(f'Best subset (corresponding names):\\n{efs.best_feature_names_}')"
   ]
  },
  {
   "cell_type": "code",
   "execution_count": 10,
   "id": "7db95fda",
   "metadata": {
    "execution": {
     "iopub.execute_input": "2024-11-04T22:23:46.788244Z",
     "iopub.status.busy": "2024-11-04T22:23:46.788130Z",
     "iopub.status.idle": "2024-11-04T22:23:47.072168Z",
     "shell.execute_reply": "2024-11-04T22:23:47.069973Z"
    }
   },
   "outputs": [
    {
     "name": "stdout",
     "output_type": "stream",
     "text": [
      "2047\n",
      "[0, 1, 2, 3, 4, 5, 6, 7, 8, 9, 10, 11, 12, 13, 14, 15, 16, 17, 18, 19, 20, 21, 22, 23, 24, 25, 26, 27, 28, 29, 30, 31, 32, 33, 34, 35, 36, 37, 38, 39, 40, 41, 42, 43, 44, 45, 46, 47, 48, 49, 50, 51, 52, 53, 54, 55, 56, 57, 58, 59, 60, 61, 62, 63, 64, 65, 66, 67, 68, 69, 70, 71, 72, 73, 74, 75, 76, 77, 78, 79, 80, 81, 82, 83, 84, 85, 86, 87, 88, 89, 90, 91, 92, 93, 94, 95, 96, 97, 98, 99, 100, 101, 102, 103, 104, 105, 106, 107, 108, 109, 110, 111, 112, 113, 114, 115, 116, 117, 118, 119, 120, 121, 122, 123, 124, 125, 126, 127, 128, 129, 130, 131, 132, 133, 134, 135, 136, 137, 138, 139, 140, 141, 142, 143, 144, 145, 146, 147, 148, 149, 150, 151, 152, 153, 154, 155, 156, 157, 158, 159, 160, 161, 162, 163, 164, 165, 166, 167, 168, 169, 170, 171, 172, 173, 174, 175, 176, 177, 178, 179, 180, 181, 182, 183, 184, 185, 186, 187, 188, 189, 190, 191, 192, 193, 194, 195, 196, 197, 198, 199, 200, 201, 202, 203, 204, 205, 206, 207, 208, 209, 210, 211, 212, 213, 214, 215, 216, 217, 218, 219, 220, 221, 222, 223, 224, 225, 226, 227, 228, 229, 230, 231, 232, 233, 234, 235, 236, 237, 238, 239, 240, 241, 242, 243, 244, 245, 246, 247, 248, 249, 250, 251, 252, 253, 254, 255, 256, 257, 258, 259, 260, 261, 262, 263, 264, 265, 266, 267, 268, 269, 270, 271, 272, 273, 274, 275, 276, 277, 278, 279, 280, 281, 282, 283, 284, 285, 286, 287, 288, 289, 290, 291, 292, 293, 294, 295, 296, 297, 298, 299, 300, 301, 302, 303, 304, 305, 306, 307, 308, 309, 310, 311, 312, 313, 314, 315, 316, 317, 318, 319, 320, 321, 322, 323, 324, 325, 326, 327, 328, 329, 330, 331, 332, 333, 334, 335, 336, 337, 338, 339, 340, 341, 342, 343, 344, 345, 346, 347, 348, 349, 350, 351, 352, 353, 354, 355, 356, 357, 358, 359, 360, 361, 362, 363, 364, 365, 366, 367, 368, 369, 370, 371, 372, 373, 374, 375, 376, 377, 378, 379, 380, 381, 382, 383, 384, 385, 386, 387, 388, 389, 390, 391, 392, 393, 394, 395, 396, 397, 398, 399, 400, 401, 402, 403, 404, 405, 406, 407, 408, 409, 410, 411, 412, 413, 414, 415, 416, 417, 418, 419, 420, 421, 422, 423, 424, 425, 426, 427, 428, 429, 430, 431, 432, 433, 434, 435, 436, 437, 438, 439, 440, 441, 442, 443, 444, 445, 446, 447, 448, 449, 450, 451, 452, 453, 454, 455, 456, 457, 458, 459, 460, 461, 462, 463, 464, 465, 466, 467, 468, 469, 470, 471, 472, 473, 474, 475, 476, 477, 478, 479, 480, 481, 482, 483, 484, 485, 486, 487, 488, 489, 490, 491, 492, 493, 494, 495, 496, 497, 498, 499, 500, 501, 502, 503, 504, 505, 506, 507, 508, 509, 510, 511, 512, 513, 514, 515, 516, 517, 518, 519, 520, 521, 522, 523, 524, 525, 526, 527, 528, 529, 530, 531, 532, 533, 534, 535, 536, 537, 538, 539, 540, 541, 542, 543, 544, 545, 546, 547, 548, 549, 550, 551, 552, 553, 554, 555, 556, 557, 558, 559, 560, 561, 562, 563, 564, 565, 566, 567, 568, 569, 570, 571, 572, 573, 574, 575, 576, 577, 578, 579, 580, 581, 582, 583, 584, 585, 586, 587, 588, 589, 590, 591, 592, 593, 594, 595, 596, 597, 598, 599, 600, 601, 602, 603, 604, 605, 606, 607, 608, 609, 610, 611, 612, 613, 614, 615, 616, 617, 618, 619, 620, 621, 622, 623, 624, 625, 626, 627, 628, 629, 630, 631, 632, 633, 634, 635, 636, 637, 638, 639, 640, 641, 642, 643, 644, 645, 646, 647, 648, 649, 650, 651, 652, 653, 654, 655, 656, 657, 658, 659, 660, 661, 662, 663, 664, 665, 666, 667, 668, 669, 670, 671, 672, 673, 674, 675, 676, 677, 678, 679, 680, 681, 682, 683, 684, 685, 686, 687, 688, 689, 690, 691, 692, 693, 694, 695, 696, 697, 698, 699, 700, 701, 702, 703, 704, 705, 706, 707, 708, 709, 710, 711, 712, 713, 714, 715, 716, 717, 718, 719, 720, 721, 722, 723, 724, 725, 726, 727, 728, 729, 730, 731, 732, 733, 734, 735, 736, 737, 738, 739, 740, 741, 742, 743, 744, 745, 746, 747, 748, 749, 750, 751, 752, 753, 754, 755, 756, 757, 758, 759, 760, 761, 762, 763, 764, 765, 766, 767, 768, 769, 770, 771, 772, 773, 774, 775, 776, 777, 778, 779, 780, 781, 782, 783, 784, 785, 786, 787, 788, 789, 790, 791, 792, 793, 794, 795, 796, 797, 798, 799, 800, 801, 802, 803, 804, 805, 806, 807, 808, 809, 810, 811, 812, 813, 814, 815, 816, 817, 818, 819, 820, 821, 822, 823, 824, 825, 826, 827, 828, 829, 830, 831, 832, 833, 834, 835, 836, 837, 838, 839, 840, 841, 842, 843, 844, 845, 846, 847, 848, 849, 850, 851, 852, 853, 854, 855, 856, 857, 858, 859, 860, 861, 862, 863, 864, 865, 866, 867, 868, 869, 870, 871, 872, 873, 874, 875, 876, 877, 878, 879, 880, 881, 882, 883, 884, 885, 886, 887, 888, 889, 890, 891, 892, 893, 894, 895, 896, 897, 898, 899, 900, 901, 902, 903, 904, 905, 906, 907, 908, 909, 910, 911, 912, 913, 914, 915, 916, 917, 918, 919, 920, 921, 922, 923, 924, 925, 926, 927, 928, 929, 930, 931, 932, 933, 934, 935, 936, 937, 938, 939, 940, 941, 942, 943, 944, 945, 946, 947, 948, 949, 950, 951, 952, 953, 954, 955, 956, 957, 958, 959, 960, 961, 962, 963, 964, 965, 966, 967, 968, 969, 970, 971, 972, 973, 974, 975, 976, 977, 978, 979, 980, 981, 982, 983, 984, 985, 986, 987, 988, 989, 990, 991, 992, 993, 994, 995, 996, 997, 998, 999, 1000, 1001, 1002, 1003, 1004, 1005, 1006, 1007, 1008, 1009, 1010, 1011, 1012, 1013, 1014, 1015, 1016, 1017, 1018, 1019, 1020, 1021, 1022, 1023, 1024, 1025, 1026, 1027, 1028, 1029, 1030, 1031, 1032, 1033, 1034, 1035, 1036, 1037, 1038, 1039, 1040, 1041, 1042, 1043, 1044, 1045, 1046, 1047, 1048, 1049, 1050, 1051, 1052, 1053, 1054, 1055, 1056, 1057, 1058, 1059, 1060, 1061, 1062, 1063, 1064, 1065, 1066, 1067, 1068, 1069, 1070, 1071, 1072, 1073, 1074, 1075, 1076, 1077, 1078, 1079, 1080, 1081, 1082, 1083, 1084, 1085, 1086, 1087, 1088, 1089, 1090, 1091, 1092, 1093, 1094, 1095, 1096, 1097, 1098, 1099, 1100, 1101, 1102, 1103, 1104, 1105, 1106, 1107, 1108, 1109, 1110, 1111, 1112, 1113, 1114, 1115, 1116, 1117, 1118, 1119, 1120, 1121, 1122, 1123, 1124, 1125, 1126, 1127, 1128, 1129, 1130, 1131, 1132, 1133, 1134, 1135, 1136, 1137, 1138, 1139, 1140, 1141, 1142, 1143, 1144, 1145, 1146, 1147, 1148, 1149, 1150, 1151, 1152, 1153, 1154, 1155, 1156, 1157, 1158, 1159, 1160, 1161, 1162, 1163, 1164, 1165, 1166, 1167, 1168, 1169, 1170, 1171, 1172, 1173, 1174, 1175, 1176, 1177, 1178, 1179, 1180, 1181, 1182, 1183, 1184, 1185, 1186, 1187, 1188, 1189, 1190, 1191, 1192, 1193, 1194, 1195, 1196, 1197, 1198, 1199, 1200, 1201, 1202, 1203, 1204, 1205, 1206, 1207, 1208, 1209, 1210, 1211, 1212, 1213, 1214, 1215, 1216, 1217, 1218, 1219, 1220, 1221, 1222, 1223, 1224, 1225, 1226, 1227, 1228, 1229, 1230, 1231, 1232, 1233, 1234, 1235, 1236, 1237, 1238, 1239, 1240, 1241, 1242, 1243, 1244, 1245, 1246, 1247, 1248, 1249, 1250, 1251, 1252, 1253, 1254, 1255, 1256, 1257, 1258, 1259, 1260, 1261, 1262, 1263, 1264, 1265, 1266, 1267, 1268, 1269, 1270, 1271, 1272, 1273, 1274, 1275, 1276, 1277, 1278, 1279, 1280, 1281, 1282, 1283, 1284, 1285, 1286, 1287, 1288, 1289, 1290, 1291, 1292, 1293, 1294, 1295, 1296, 1297, 1298, 1299, 1300, 1301, 1302, 1303, 1304, 1305, 1306, 1307, 1308, 1309, 1310, 1311, 1312, 1313, 1314, 1315, 1316, 1317, 1318, 1319, 1320, 1321, 1322, 1323, 1324, 1325, 1326, 1327, 1328, 1329, 1330, 1331, 1332, 1333, 1334, 1335, 1336, 1337, 1338, 1339, 1340, 1341, 1342, 1343, 1344, 1345, 1346, 1347, 1348, 1349, 1350, 1351, 1352, 1353, 1354, 1355, 1356, 1357, 1358, 1359, 1360, 1361, 1362, 1363, 1364, 1365, 1366, 1367, 1368, 1369, 1370, 1371, 1372, 1373, 1374, 1375, 1376, 1377, 1378, 1379, 1380, 1381, 1382, 1383, 1384, 1385, 1386, 1387, 1388, 1389, 1390, 1391, 1392, 1393, 1394, 1395, 1396, 1397, 1398, 1399, 1400, 1401, 1402, 1403, 1404, 1405, 1406, 1407, 1408, 1409, 1410, 1411, 1412, 1413, 1414, 1415, 1416, 1417, 1418, 1419, 1420, 1421, 1422, 1423, 1424, 1425, 1426, 1427, 1428, 1429, 1430, 1431, 1432, 1433, 1434, 1435, 1436, 1437, 1438, 1439, 1440, 1441, 1442, 1443, 1444, 1445, 1446, 1447, 1448, 1449, 1450, 1451, 1452, 1453, 1454, 1455, 1456, 1457, 1458, 1459, 1460, 1461, 1462, 1463, 1464, 1465, 1466, 1467, 1468, 1469, 1470, 1471, 1472, 1473, 1474, 1475, 1476, 1477, 1478, 1479, 1480, 1481, 1482, 1483, 1484, 1485, 1486, 1487, 1488, 1489, 1490, 1491, 1492, 1493, 1494, 1495, 1496, 1497, 1498, 1499, 1500, 1501, 1502, 1503, 1504, 1505, 1506, 1507, 1508, 1509, 1510, 1511, 1512, 1513, 1514, 1515, 1516, 1517, 1518, 1519, 1520, 1521, 1522, 1523, 1524, 1525, 1526, 1527, 1528, 1529, 1530, 1531, 1532, 1533, 1534, 1535, 1536, 1537, 1538, 1539, 1540, 1541, 1542, 1543, 1544, 1545, 1546, 1547, 1548, 1549, 1550, 1551, 1552, 1553, 1554, 1555, 1556, 1557, 1558, 1559, 1560, 1561, 1562, 1563, 1564, 1565, 1566, 1567, 1568, 1569, 1570, 1571, 1572, 1573, 1574, 1575, 1576, 1577, 1578, 1579, 1580, 1581, 1582, 1583, 1584, 1585, 1586, 1587, 1588, 1589, 1590, 1591, 1592, 1593, 1594, 1595, 1596, 1597, 1598, 1599, 1600, 1601, 1602, 1603, 1604, 1605, 1606, 1607, 1608, 1609, 1610, 1611, 1612, 1613, 1614, 1615, 1616, 1617, 1618, 1619, 1620, 1621, 1622, 1623, 1624, 1625, 1626, 1627, 1628, 1629, 1630, 1631, 1632, 1633, 1634, 1635, 1636, 1637, 1638, 1639, 1640, 1641, 1642, 1643, 1644, 1645, 1646, 1647, 1648, 1649, 1650, 1651, 1652, 1653, 1654, 1655, 1656, 1657, 1658, 1659, 1660, 1661, 1662, 1663, 1664, 1665, 1666, 1667, 1668, 1669, 1670, 1671, 1672, 1673, 1674, 1675, 1676, 1677, 1678, 1679, 1680, 1681, 1682, 1683, 1684, 1685, 1686, 1687, 1688, 1689, 1690, 1691, 1692, 1693, 1694, 1695, 1696, 1697, 1698, 1699, 1700, 1701, 1702, 1703, 1704, 1705, 1706, 1707, 1708, 1709, 1710, 1711, 1712, 1713, 1714, 1715, 1716, 1717, 1718, 1719, 1720, 1721, 1722, 1723, 1724, 1725, 1726, 1727, 1728, 1729, 1730, 1731, 1732, 1733, 1734, 1735, 1736, 1737, 1738, 1739, 1740, 1741, 1742, 1743, 1744, 1745, 1746, 1747, 1748, 1749, 1750, 1751, 1752, 1753, 1754, 1755, 1756, 1757, 1758, 1759, 1760, 1761, 1762, 1763, 1764, 1765, 1766, 1767, 1768, 1769, 1770, 1771, 1772, 1773, 1774, 1775, 1776, 1777, 1778, 1779, 1780, 1781, 1782, 1783, 1784, 1785, 1786, 1787, 1788, 1789, 1790, 1791, 1792, 1793, 1794, 1795, 1796, 1797, 1798, 1799, 1800, 1801, 1802, 1803, 1804, 1805, 1806, 1807, 1808, 1809, 1810, 1811, 1812, 1813, 1814, 1815, 1816, 1817, 1818, 1819, 1820, 1821, 1822, 1823, 1824, 1825, 1826, 1827, 1828, 1829, 1830, 1831, 1832, 1833, 1834, 1835, 1836, 1837, 1838, 1839, 1840, 1841, 1842, 1843, 1844, 1845, 1846, 1847, 1848, 1849, 1850, 1851, 1852, 1853, 1854, 1855, 1856, 1857, 1858, 1859, 1860, 1861, 1862, 1863, 1864, 1865, 1866, 1867, 1868, 1869, 1870, 1871, 1872, 1873, 1874, 1875, 1876, 1877, 1878, 1879, 1880, 1881, 1882, 1883, 1884, 1885, 1886, 1887, 1888, 1889, 1890, 1891, 1892, 1893, 1894, 1895, 1896, 1897, 1898, 1899, 1900, 1901, 1902, 1903, 1904, 1905, 1906, 1907, 1908, 1909, 1910, 1911, 1912, 1913, 1914, 1915, 1916, 1917, 1918, 1919, 1920, 1921, 1922, 1923, 1924, 1925, 1926, 1927, 1928, 1929, 1930, 1931, 1932, 1933, 1934, 1935, 1936, 1937, 1938, 1939, 1940, 1941, 1942, 1943, 1944, 1945, 1946, 1947, 1948, 1949, 1950, 1951, 1952, 1953, 1954, 1955, 1956, 1957, 1958, 1959, 1960, 1961, 1962, 1963, 1964, 1965, 1966, 1967, 1968, 1969, 1970, 1971, 1972, 1973, 1974, 1975, 1976, 1977, 1978, 1979, 1980, 1981, 1982, 1983, 1984, 1985, 1986, 1987, 1988, 1989, 1990, 1991, 1992, 1993, 1994, 1995, 1996, 1997, 1998, 1999, 2000, 2001, 2002, 2003, 2004, 2005, 2006, 2007, 2008, 2009, 2010, 2011, 2012, 2013, 2014, 2015, 2016, 2017, 2018, 2019, 2020, 2021, 2022, 2023, 2024, 2025, 2026, 2027, 2028, 2029, 2030, 2031, 2032, 2033, 2034, 2035, 2036, 2037, 2038, 2039, 2040, 2041, 2042, 2043, 2044, 2045, 2046]\n"
     ]
    },
    {
     "data": {
      "image/png": "[encoded data removed]",
      "text/plain": [
       "<Figure size 640x480 with 1 Axes>"
      ]
     },
     "metadata": {},
     "output_type": "display_data"
    }
   ],
   "source": [
    "import matplotlib.pyplot as plt\n",
    "\n",
    "metric_dict = efs.get_metric_dict()\n",
    "print(len(metric_dict))\n",
    "\n",
    "fig = plt.figure()\n",
    "k_feat = sorted(metric_dict.keys())\n",
    "avg = [-metric_dict[k]['avg_score'] for k in k_feat]\n",
    "print(k_feat)\n",
    "\n",
    "upper, lower = [], []\n",
    "for k in k_feat:\n",
    "    upper.append(-metric_dict[k]['avg_score'] +\n",
    "                metric_dict[k]['std_dev'])\n",
    "    lower.append(-metric_dict[k]['avg_score'] -\n",
    "                metric_dict[k]['std_dev'])\n",
    "\n",
    "plt.fill_between(k_feat,\n",
    "                upper,\n",
    "                lower,\n",
    "                alpha=0.2,\n",
    "                color='blue',\n",
    "                lw=1)\n",
    "\n",
    "plt.plot(k_feat, avg, color='blue') #, marker='o')\n",
    "plt.ylabel('RMSE +/- Standard Deviation')\n",
    "plt.xlabel('Number of Features')\n",
    "feature_min = len(metric_dict[k_feat[0]]['feature_idx'])\n",
    "feature_max = len(metric_dict[k_feat[-1]]['feature_idx'])\n",
    "# plt.xticks(k_feat,\n",
    "#            [str(metric_dict[k]['feature_names']) for k in k_feat],\n",
    "#            rotation=90)\n",
    "plt.show()\n",
    "%matplotlib inline"
   ]
  },
  {
   "cell_type": "code",
   "execution_count": 11,
   "id": "6912c730",
   "metadata": {
    "execution": {
     "iopub.execute_input": "2024-11-04T22:23:47.074667Z",
     "iopub.status.busy": "2024-11-04T22:23:47.074497Z",
     "iopub.status.idle": "2024-11-04T22:23:47.080116Z",
     "shell.execute_reply": "2024-11-04T22:23:47.079676Z"
    }
   },
   "outputs": [
    {
     "name": "stdout",
     "output_type": "stream",
     "text": [
      "1, RMSE: 2167.32, Features: ('Age_08_04',)\n",
      "2, RMSE: 2079.03, Features: ('Age_08_04', 'HP')\n",
      "3, RMSE: 1956.46, Features: ('Age_08_04', 'Weight', 'Fuel_Type_Petrol')\n",
      "4, RMSE: 1903.40, Features: ('Age_08_04', 'Quarterly_Tax', 'Weight', 'Fuel_Type_Petrol')\n",
      "5, RMSE: 1894.54, Features: ('Age_08_04', 'HP', 'Quarterly_Tax', 'Weight', 'Fuel_Type_Petrol')\n",
      "6, RMSE: 1886.69, Features: ('Age_08_04', 'KM', 'HP', 'Quarterly_Tax', 'Weight', 'Fuel_Type_Petrol')\n",
      "7, RMSE: 1887.45, Features: ('Age_08_04', 'KM', 'HP', 'Quarterly_Tax', 'Weight', 'Fuel_Type_Diesel', 'Fuel_Type_Petrol')\n",
      "8, RMSE: 1889.41, Features: ('Age_08_04', 'KM', 'HP', 'Automatic', 'Quarterly_Tax', 'Weight', 'Fuel_Type_Diesel', 'Fuel_Type_Petrol')\n",
      "9, RMSE: 1892.27, Features: ('Age_08_04', 'KM', 'HP', 'Met_Color', 'Automatic', 'Quarterly_Tax', 'Weight', 'Fuel_Type_Diesel', 'Fuel_Type_Petrol')\n",
      "10, RMSE: 1910.09, Features: ('Age_08_04', 'KM', 'HP', 'Met_Color', 'Automatic', 'Doors', 'Quarterly_Tax', 'Weight', 'Fuel_Type_Diesel', 'Fuel_Type_Petrol')\n",
      "11, RMSE: 2008.43, Features: ('Age_08_04', 'KM', 'HP', 'Met_Color', 'Automatic', 'CC', 'Doors', 'Quarterly_Tax', 'Weight', 'Fuel_Type_Diesel', 'Fuel_Type_Petrol')\n"
     ]
    }
   ],
   "source": [
    "important_features = {}\n",
    "for v in efs.subsets_.values():\n",
    "    n = len(v['feature_names'])\n",
    "    if n not in important_features:\n",
    "        important_features[n] = v\n",
    "    elif v['avg_score'] > important_features[len(v['feature_names'])]['avg_score']:\n",
    "        important_features[n] = v\n",
    "for k, v in important_features.items():\n",
    "    print(f'{k}, RMSE: {- v[\"avg_score\"]:.2f}, Features: {v[\"feature_names\"]}')"
   ]
  },
  {
   "cell_type": "code",
   "execution_count": 12,
   "id": "7a53168e",
   "metadata": {
    "execution": {
     "iopub.execute_input": "2024-11-04T22:23:47.082747Z",
     "iopub.status.busy": "2024-11-04T22:23:47.082521Z",
     "iopub.status.idle": "2024-11-04T22:23:49.050669Z",
     "shell.execute_reply": "2024-11-04T22:23:49.050354Z"
    }
   },
   "outputs": [
    {
     "name": "stderr",
     "output_type": "stream",
     "text": [
      "/Users/petergedeck/git/Wiley-MLBA-Python-2e/.venv/lib/python3.11/site-packages/sklearn/model_selection/_validation.py:73: FutureWarning: `fit_params` is deprecated and will be removed in version 1.6. Pass parameters via `params` instead.\n",
      "  warnings.warn(\n"
     ]
    },
    {
     "name": "stdout",
     "output_type": "stream",
     "text": [
      "Best accuracy score: 1886.69\n",
      "Best subset (indices): (0, 1, 2, 7, 8, 10)\n",
      "Best subset (corresponding names):\n",
      "('Age_08_04', 'KM', 'HP', 'Quarterly_Tax', 'Weight', 'Fuel_Type_Petrol')\n"
     ]
    }
   ],
   "source": [
    "sfs_backward = SequentialFeatureSelector(model,\n",
    "            k_features=(1, 11),\n",
    "            forward=False, floating=False,\n",
    "            cv=5, scoring='neg_root_mean_squared_error',\n",
    "            n_jobs=-1)\n",
    "sfs_backward = sfs_backward.fit(X, y)\n",
    "\n",
    "best_subset = sfs_backward.subsets_[1]\n",
    "for v in sfs_backward.subsets_.values():\n",
    "    if v['avg_score'] > best_subset['avg_score']:\n",
    "        best_subset = v\n",
    "\n",
    "print(f\"Best accuracy score: {- best_subset['avg_score']:.2f}\")\n",
    "print(f\"Best subset (indices): {best_subset['feature_idx']}\")\n",
    "print(f\"Best subset (corresponding names):\\n{best_subset['feature_names']}\")"
   ]
  },
  {
   "cell_type": "code",
   "execution_count": 13,
   "id": "a6e121f5",
   "metadata": {
    "execution": {
     "iopub.execute_input": "2024-11-04T22:23:49.052129Z",
     "iopub.status.busy": "2024-11-04T22:23:49.052021Z",
     "iopub.status.idle": "2024-11-04T22:23:49.130243Z",
     "shell.execute_reply": "2024-11-04T22:23:49.129589Z"
    }
   },
   "outputs": [
    {
     "data": {
      "image/png": "[encoded data removed]",
      "text/plain": [
       "<Figure size 640x480 with 1 Axes>"
      ]
     },
     "metadata": {},
     "output_type": "display_data"
    }
   ],
   "source": [
    "metric_dict = sfs_backward.get_metric_dict()\n",
    "\n",
    "fig = plt.figure()\n",
    "k_feat = sorted(metric_dict)\n",
    "avg = [-metric_dict[k]['avg_score'] for k in k_feat]\n",
    "best_idx = np.argmin(avg)\n",
    "\n",
    "upper, lower = [], []\n",
    "for k in k_feat:\n",
    "    upper.append(-metric_dict[k]['avg_score'] + metric_dict[k]['std_dev'])\n",
    "    lower.append(-metric_dict[k]['avg_score'] - metric_dict[k]['std_dev'])\n",
    "\n",
    "plt.fill_between(k_feat, upper, lower, alpha=0.2, color='blue', lw=1)\n",
    "plt.plot(k_feat, avg, color='blue', marker='o')\n",
    "plt.plot(k_feat[best_idx], avg[best_idx], color='red', marker='o')\n",
    "plt.ylabel('RMSE +/- Standard Deviation')\n",
    "plt.xlabel('Number of Features')\n",
    "plt.show()"
   ]
  },
  {
   "cell_type": "code",
   "execution_count": 14,
   "id": "7f515474",
   "metadata": {
    "execution": {
     "iopub.execute_input": "2024-11-04T22:23:49.133274Z",
     "iopub.status.busy": "2024-11-04T22:23:49.133032Z",
     "iopub.status.idle": "2024-11-04T22:23:49.787674Z",
     "shell.execute_reply": "2024-11-04T22:23:49.787373Z"
    }
   },
   "outputs": [
    {
     "name": "stderr",
     "output_type": "stream",
     "text": [
      "/Users/petergedeck/git/Wiley-MLBA-Python-2e/.venv/lib/python3.11/site-packages/sklearn/model_selection/_validation.py:73: FutureWarning: `fit_params` is deprecated and will be removed in version 1.6. Pass parameters via `params` instead.\n",
      "  warnings.warn(\n"
     ]
    },
    {
     "name": "stdout",
     "output_type": "stream",
     "text": [
      "Best accuracy score: 1886.69\n",
      "Best subset (indices): (0, 1, 2, 7, 8, 10)\n",
      "Best subset (corresponding names):\n",
      "('Age_08_04', 'KM', 'HP', 'Quarterly_Tax', 'Weight', 'Fuel_Type_Petrol')\n"
     ]
    }
   ],
   "source": [
    "sfs_forward = SequentialFeatureSelector(model,\n",
    "            k_features=(1, 11),\n",
    "            forward=False, floating=False,\n",
    "            cv=5, scoring='neg_root_mean_squared_error',\n",
    "            n_jobs=-1)\n",
    "sfs_forward = sfs_forward.fit(X, y)\n",
    "\n",
    "best_subset = sfs_forward.subsets_[1]\n",
    "for v in sfs_forward.subsets_.values():\n",
    "    if v['avg_score'] > best_subset['avg_score']:\n",
    "        best_subset = v\n",
    "\n",
    "print(f\"Best accuracy score: {- best_subset['avg_score']:.2f}\")\n",
    "print(f\"Best subset (indices): {best_subset['feature_idx']}\")\n",
    "print(f\"Best subset (corresponding names):\\n{best_subset['feature_names']}\")"
   ]
  },
  {
   "cell_type": "code",
   "execution_count": 15,
   "id": "f7b3d950",
   "metadata": {
    "execution": {
     "iopub.execute_input": "2024-11-04T22:23:49.788935Z",
     "iopub.status.busy": "2024-11-04T22:23:49.788848Z",
     "iopub.status.idle": "2024-11-04T22:23:50.402654Z",
     "shell.execute_reply": "2024-11-04T22:23:50.402393Z"
    }
   },
   "outputs": [
    {
     "name": "stdout",
     "output_type": "stream",
     "text": [
      "Best accuracy score: 1886.69\n",
      "Best subset (indices): (0, 1, 2, 7, 8, 10)\n",
      "Best subset (corresponding names):\n",
      "('Age_08_04', 'KM', 'HP', 'Quarterly_Tax', 'Weight', 'Fuel_Type_Petrol')\n"
     ]
    }
   ],
   "source": [
    "sfs_stepwise = SequentialFeatureSelector(model,\n",
    "            k_features=(1, 11),\n",
    "            forward=True, floating=True,\n",
    "            cv=5, scoring='neg_root_mean_squared_error',\n",
    "            n_jobs=-1)\n",
    "\n",
    "sfs_stepwise = sfs_stepwise.fit(X, y)\n",
    "\n",
    "best_subset = sfs_stepwise.subsets_[1]\n",
    "for v in sfs_stepwise.subsets_.values():\n",
    "    if v['avg_score'] > best_subset['avg_score']:\n",
    "        best_subset = v\n",
    "\n",
    "print(f\"Best accuracy score: {- best_subset['avg_score']:.2f}\")\n",
    "print(f\"Best subset (indices): {best_subset['feature_idx']}\")\n",
    "print(f\"Best subset (corresponding names):\\n{best_subset['feature_names']}\")"
   ]
  },
  {
   "cell_type": "markdown",
   "id": "f0aa48fe",
   "metadata": {},
   "source": [
    " Lasso model"
   ]
  },
  {
   "cell_type": "code",
   "execution_count": 16,
   "id": "97681ad4",
   "metadata": {
    "execution": {
     "iopub.execute_input": "2024-11-04T22:23:50.404115Z",
     "iopub.status.busy": "2024-11-04T22:23:50.404027Z",
     "iopub.status.idle": "2024-11-04T22:23:50.420817Z",
     "shell.execute_reply": "2024-11-04T22:23:50.420507Z"
    }
   },
   "outputs": [
    {
     "name": "stdout",
     "output_type": "stream",
     "text": [
      "Lasso-CV chosen regularization: 49.417\n",
      "Coefficients: [-2345.28   -638.45    508.429     0.       47.189     0.       -0.\n",
      "   319.629   760.803    -0.      210.304]\n",
      "\n",
      "Regression statistics\n",
      "\n",
      "Mean Error (ME) : 131.0072\n",
      "Root Mean Squared Error (RMSE) : 1357.0463\n",
      "Mean Absolute Error (MAE) : 1032.5840\n",
      "Mean Percentage Error (MPE) : -0.2582\n",
      "Mean Absolute Percentage Error (MAPE) : 9.1161\n"
     ]
    }
   ],
   "source": [
    "lasso_cv = Pipeline([\n",
    "    ['normalize', StandardScaler()],\n",
    "    ['model', LassoCV(cv=5, alphas=10**(np.linspace(-1, 5, 50)))],\n",
    "])\n",
    "lasso_cv.fit(train_X, train_y)\n",
    "print(f\"Lasso-CV chosen regularization: {lasso_cv['model'].alpha_:.3f}\")\n",
    "print(f\"Coefficients: {lasso_cv['model'].coef_.round(3)}\")\n",
    "mlba.regressionSummary(y_true=holdout_y, y_pred=lasso_cv.predict(holdout_X))"
   ]
  },
  {
   "cell_type": "markdown",
   "id": "8809a6d5",
   "metadata": {},
   "source": [
    " Partial output"
   ]
  },
  {
   "cell_type": "markdown",
   "id": "b6e128a1",
   "metadata": {},
   "source": [
    " Ridge regression"
   ]
  },
  {
   "cell_type": "code",
   "execution_count": 17,
   "id": "5d8f57fe",
   "metadata": {
    "execution": {
     "iopub.execute_input": "2024-11-04T22:23:50.422383Z",
     "iopub.status.busy": "2024-11-04T22:23:50.422264Z",
     "iopub.status.idle": "2024-11-04T22:23:50.429023Z",
     "shell.execute_reply": "2024-11-04T22:23:50.428781Z"
    }
   },
   "outputs": [
    {
     "name": "stdout",
     "output_type": "stream",
     "text": [
      "Ridge-CV chosen regularization: 49.417\n",
      "Coefficients: [-2104.535  -760.425   518.263    50.137    77.749    28.734    -9.311\n",
      "   451.961   803.166    92.901   378.559]\n",
      "\n",
      "Regression statistics\n",
      "\n",
      "Mean Error (ME) : 120.4566\n",
      "Root Mean Squared Error (RMSE) : 1333.1797\n",
      "Mean Absolute Error (MAE) : 1026.3997\n",
      "Mean Percentage Error (MPE) : -0.4725\n",
      "Mean Absolute Percentage Error (MAPE) : 8.9891\n"
     ]
    }
   ],
   "source": [
    "ridge_cv = Pipeline([\n",
    "    ['normalize', StandardScaler()],\n",
    "    ['model', RidgeCV(alphas=10**(np.linspace(-1, 5, 50)), store_cv_results=True)],\n",
    "])\n",
    "ridge_cv.fit(train_X, train_y)\n",
    "print(f\"Ridge-CV chosen regularization: {ridge_cv['model'].alpha_:.3f}\")\n",
    "print(f\"Coefficients: {ridge_cv['model'].coef_.round(3)}\")\n",
    "mlba.regressionSummary(y_true=holdout_y, y_pred=ridge_cv.predict(holdout_X))"
   ]
  },
  {
   "cell_type": "markdown",
   "id": "1e7acf6c",
   "metadata": {},
   "source": [
    " Partial output"
   ]
  },
  {
   "cell_type": "markdown",
   "id": "307daa49",
   "metadata": {},
   "source": [
    " \n",
    "Note that we don't specify the cross-validation folds for ridge regression. This is due \n",
    "to the fact that `RidgeCV` has an efficient and fast implementation that uses leave-one-out\n",
    "cross-validation by default. "
   ]
  },
  {
   "cell_type": "markdown",
   "id": "0d939cb4",
   "metadata": {},
   "source": [
    " Ridge regression"
   ]
  },
  {
   "cell_type": "code",
   "execution_count": 18,
   "id": "dfed5796",
   "metadata": {
    "execution": {
     "iopub.execute_input": "2024-11-04T22:23:50.430200Z",
     "iopub.status.busy": "2024-11-04T22:23:50.430108Z",
     "iopub.status.idle": "2024-11-04T22:23:50.434379Z",
     "shell.execute_reply": "2024-11-04T22:23:50.434176Z"
    }
   },
   "outputs": [
    {
     "name": "stdout",
     "output_type": "stream",
     "text": [
      "Coefficients: [-2104.535  -760.425   518.263    50.137    77.749    28.734    -9.311\n",
      "   451.961   803.166    92.901   378.559]\n",
      "\n",
      "Regression statistics\n",
      "\n",
      "Mean Error (ME) : 120.4566\n",
      "Root Mean Squared Error (RMSE) : 1333.1797\n",
      "Mean Absolute Error (MAE) : 1026.3997\n",
      "Mean Percentage Error (MPE) : -0.4725\n",
      "Mean Absolute Percentage Error (MAPE) : 8.9891\n"
     ]
    }
   ],
   "source": [
    "bayesianRidge = Pipeline([\n",
    "    ['normalize', StandardScaler()],\n",
    "    ['model', BayesianRidge()],\n",
    "])\n",
    "bayesianRidge.fit(train_X, train_y)\n",
    "print(f\"Coefficients: {ridge_cv['model'].coef_.round(3)}\")\n",
    "mlba.regressionSummary(y_true=holdout_y, y_pred=ridge_cv.predict(holdout_X))"
   ]
  },
  {
   "cell_type": "markdown",
   "id": "6ca93a84",
   "metadata": {},
   "source": [
    " Partial output"
   ]
  },
  {
   "cell_type": "code",
   "execution_count": 19,
   "id": "1cd6c401",
   "metadata": {
    "execution": {
     "iopub.execute_input": "2024-11-04T22:23:50.435472Z",
     "iopub.status.busy": "2024-11-04T22:23:50.435399Z",
     "iopub.status.idle": "2024-11-04T22:23:50.892019Z",
     "shell.execute_reply": "2024-11-04T22:23:50.891767Z"
    }
   },
   "outputs": [
    {
     "data": {
      "image/png": "[encoded data removed]",
      "text/plain": [
       "<Figure size 1000x400 with 2 Axes>"
      ]
     },
     "metadata": {},
     "output_type": "display_data"
    }
   ],
   "source": [
    "def plotRegularizationPath(ax, pipeline):\n",
    "    model = pipeline['model']\n",
    "    best_alpha = model.alpha_\n",
    "    if isinstance(model, RidgeCV):\n",
    "        df = pd.DataFrame({\n",
    "            'alpha': model.alphas,\n",
    "            'mean': np.sqrt(model.cv_results_).mean(axis=0),\n",
    "            'std': np.sqrt(model.cv_results_).std(axis=0),\n",
    "        })\n",
    "    else:\n",
    "        df = pd.DataFrame({\n",
    "            'alpha': model.alphas,\n",
    "            'mean': np.sqrt(model.mse_path_).mean(axis=1),\n",
    "            'std': np.sqrt(model.mse_path_).std(axis=1),\n",
    "        })\n",
    "    best_score = df['mean'][df['alpha'] == best_alpha]\n",
    "    df.plot(x='alpha', y='mean', yerr='std', logx=True, ax=ax)\n",
    "    ax.plot(model.alpha_, best_score, 'ro')\n",
    "\n",
    "fig, axes = plt.subplots(ncols=2, figsize=(10, 4))\n",
    "plotRegularizationPath(axes[0], ridge_cv)\n",
    "plotRegularizationPath(axes[1], lasso_cv)\n",
    "plt.tight_layout()\n",
    "plt.show()"
   ]
  },
  {
   "cell_type": "code",
   "execution_count": 20,
   "id": "98d28d28",
   "metadata": {
    "execution": {
     "iopub.execute_input": "2024-11-04T22:23:50.893176Z",
     "iopub.status.busy": "2024-11-04T22:23:50.893094Z",
     "iopub.status.idle": "2024-11-04T22:24:10.642412Z",
     "shell.execute_reply": "2024-11-04T22:24:10.637608Z"
    }
   },
   "outputs": [
    {
     "data": {
      "text/html": [
       "<div>\n",
       "<style scoped>\n",
       "    .dataframe tbody tr th:only-of-type {\n",
       "        vertical-align: middle;\n",
       "    }\n",
       "\n",
       "    .dataframe tbody tr th {\n",
       "        vertical-align: top;\n",
       "    }\n",
       "\n",
       "    .dataframe thead th {\n",
       "        text-align: right;\n",
       "    }\n",
       "</style>\n",
       "<table border=\"1\" class=\"dataframe\">\n",
       "  <thead>\n",
       "    <tr style=\"text-align: right;\">\n",
       "      <th></th>\n",
       "      <th>CV_RMSE</th>\n",
       "      <th>CV_MAE</th>\n",
       "      <th>train_RMSE</th>\n",
       "      <th>train_MAE</th>\n",
       "      <th>holdout_RMSE</th>\n",
       "      <th>holdout_MAE</th>\n",
       "    </tr>\n",
       "  </thead>\n",
       "  <tbody>\n",
       "    <tr>\n",
       "      <th>Full</th>\n",
       "      <td>1813.0</td>\n",
       "      <td>1080.0</td>\n",
       "      <td>1401.0</td>\n",
       "      <td>1047.0</td>\n",
       "      <td>1313.0</td>\n",
       "      <td>1018.0</td>\n",
       "    </tr>\n",
       "    <tr>\n",
       "      <th>Exhaustive</th>\n",
       "      <td>1830.0</td>\n",
       "      <td>1086.0</td>\n",
       "      <td>1427.0</td>\n",
       "      <td>1071.0</td>\n",
       "      <td>1356.0</td>\n",
       "      <td>1041.0</td>\n",
       "    </tr>\n",
       "    <tr>\n",
       "      <th>Stepwise</th>\n",
       "      <td>1830.0</td>\n",
       "      <td>1086.0</td>\n",
       "      <td>1427.0</td>\n",
       "      <td>1071.0</td>\n",
       "      <td>1356.0</td>\n",
       "      <td>1041.0</td>\n",
       "    </tr>\n",
       "    <tr>\n",
       "      <th>Ridge</th>\n",
       "      <td>1711.0</td>\n",
       "      <td>1081.0</td>\n",
       "      <td>1420.0</td>\n",
       "      <td>1046.0</td>\n",
       "      <td>1333.0</td>\n",
       "      <td>1026.0</td>\n",
       "    </tr>\n",
       "    <tr>\n",
       "      <th>Lasso</th>\n",
       "      <td>1828.0</td>\n",
       "      <td>1089.0</td>\n",
       "      <td>1419.0</td>\n",
       "      <td>1055.0</td>\n",
       "      <td>1357.0</td>\n",
       "      <td>1033.0</td>\n",
       "    </tr>\n",
       "  </tbody>\n",
       "</table>\n",
       "</div>"
      ],
      "text/plain": [
       "            CV_RMSE  CV_MAE  train_RMSE  train_MAE  holdout_RMSE  holdout_MAE\n",
       "Full         1813.0  1080.0      1401.0     1047.0        1313.0       1018.0\n",
       "Exhaustive   1830.0  1086.0      1427.0     1071.0        1356.0       1041.0\n",
       "Stepwise     1830.0  1086.0      1427.0     1071.0        1356.0       1041.0\n",
       "Ridge        1711.0  1081.0      1420.0     1046.0        1333.0       1026.0\n",
       "Lasso        1828.0  1089.0      1419.0     1055.0        1357.0       1033.0"
      ]
     },
     "execution_count": 20,
     "metadata": {},
     "output_type": "execute_result"
    }
   ],
   "source": [
    "from sklearn.pipeline import make_pipeline\n",
    "\n",
    "efs_model = make_pipeline(efs, LinearRegression())\n",
    "efs_model.fit(train_X, train_y)\n",
    "\n",
    "sfs_stepwise_model = make_pipeline(sfs_stepwise, LinearRegression())\n",
    "sfs_stepwise_model.fit(train_X, train_y)\n",
    "\n",
    "def metrics(model, train_X, train_y, holdout_X, holdout_y):\n",
    "    scoring = {'neg_RMSE': 'neg_root_mean_squared_error',\n",
    "            'neg_MAE': 'neg_mean_absolute_error'}\n",
    "    np.random.seed(123)\n",
    "    scores = cross_validate(model,\n",
    "         pd.concat([train_X, holdout_X]),\n",
    "         pd.concat([train_y, holdout_y]), cv=5, scoring=scoring)\n",
    "\n",
    "    train_pred = model.predict(train_X)\n",
    "    holdout_pred = model.predict(holdout_X)\n",
    "    return {\n",
    "        'CV_RMSE': - scores['test_neg_RMSE'].mean(),\n",
    "        'CV_MAE': - scores['test_neg_MAE'].mean(),\n",
    "        'train_RMSE': np.sqrt(np.mean((train_y - train_pred)**2)),\n",
    "        'train_MAE': np.mean(np.abs(train_y - train_pred)),\n",
    "        'holdout_RMSE': np.sqrt(np.mean((holdout_y - holdout_pred)**2)),\n",
    "        'holdout_MAE': np.mean(np.abs(holdout_y - holdout_pred)),\n",
    "    }\n",
    "pd.DataFrame({\n",
    "    'Full': metrics(car_lm, train_X, train_y, holdout_X, holdout_y),\n",
    "    'Exhaustive': metrics(efs_model, train_X, train_y, holdout_X, holdout_y),\n",
    "    'Stepwise': metrics(sfs_stepwise_model, train_X, train_y, holdout_X, holdout_y),\n",
    "    'Ridge': metrics(ridge_cv, train_X, train_y, holdout_X, holdout_y),\n",
    "    'Lasso': metrics(lasso_cv, train_X, train_y, holdout_X, holdout_y),\n",
    "}).transpose().round(0)"
   ]
  },
  {
   "cell_type": "code",
   "execution_count": 21,
   "id": "8ec3ba60",
   "metadata": {
    "execution": {
     "iopub.execute_input": "2024-11-04T22:24:10.649389Z",
     "iopub.status.busy": "2024-11-04T22:24:10.649094Z",
     "iopub.status.idle": "2024-11-04T22:24:10.708105Z",
     "shell.execute_reply": "2024-11-04T22:24:10.706502Z"
    }
   },
   "outputs": [
    {
     "data": {
      "text/html": [
       "<table class=\"simpletable\">\n",
       "<caption>OLS Regression Results</caption>\n",
       "<tr>\n",
       "  <th>Dep. Variable:</th>          <td>Price</td>      <th>  R-squared:         </th> <td>   0.856</td> \n",
       "</tr>\n",
       "<tr>\n",
       "  <th>Model:</th>                   <td>OLS</td>       <th>  Adj. R-squared:    </th> <td>   0.854</td> \n",
       "</tr>\n",
       "<tr>\n",
       "  <th>Method:</th>             <td>Least Squares</td>  <th>  F-statistic:       </th> <td>   319.0</td> \n",
       "</tr>\n",
       "<tr>\n",
       "  <th>Date:</th>             <td>Mon, 04 Nov 2024</td> <th>  Prob (F-statistic):</th> <td>1.73e-239</td>\n",
       "</tr>\n",
       "<tr>\n",
       "  <th>Time:</th>                 <td>17:24:10</td>     <th>  Log-Likelihood:    </th> <td> -5198.1</td> \n",
       "</tr>\n",
       "<tr>\n",
       "  <th>No. Observations:</th>      <td>   600</td>      <th>  AIC:               </th> <td>1.042e+04</td>\n",
       "</tr>\n",
       "<tr>\n",
       "  <th>Df Residuals:</th>          <td>   588</td>      <th>  BIC:               </th> <td>1.047e+04</td>\n",
       "</tr>\n",
       "<tr>\n",
       "  <th>Df Model:</th>              <td>    11</td>      <th>                     </th>     <td> </td>    \n",
       "</tr>\n",
       "<tr>\n",
       "  <th>Covariance Type:</th>      <td>nonrobust</td>    <th>                     </th>     <td> </td>    \n",
       "</tr>\n",
       "</table>\n",
       "<table class=\"simpletable\">\n",
       "<tr>\n",
       "              <td></td>                <th>coef</th>     <th>std err</th>      <th>t</th>      <th>P>|t|</th>  <th>[0.025</th>    <th>0.975]</th>  \n",
       "</tr>\n",
       "<tr>\n",
       "  <th>Intercept</th>                <td>-1319.3544</td> <td> 1728.427</td> <td>   -0.763</td> <td> 0.446</td> <td>-4713.997</td> <td> 2075.288</td>\n",
       "</tr>\n",
       "<tr>\n",
       "  <th>Fuel_Type_Diesel[T.True]</th> <td> 1066.4647</td> <td>  527.285</td> <td>    2.023</td> <td> 0.044</td> <td>   30.872</td> <td> 2102.057</td>\n",
       "</tr>\n",
       "<tr>\n",
       "  <th>Fuel_Type_Petrol[T.True]</th> <td> 2310.2495</td> <td>  521.045</td> <td>    4.434</td> <td> 0.000</td> <td> 1286.914</td> <td> 3333.585</td>\n",
       "</tr>\n",
       "<tr>\n",
       "  <th>Age_08_04</th>                <td> -140.7488</td> <td>    5.142</td> <td>  -27.374</td> <td> 0.000</td> <td> -150.847</td> <td> -130.650</td>\n",
       "</tr>\n",
       "<tr>\n",
       "  <th>KM</th>                       <td>   -0.0178</td> <td>    0.002</td> <td>   -7.286</td> <td> 0.000</td> <td>   -0.023</td> <td>   -0.013</td>\n",
       "</tr>\n",
       "<tr>\n",
       "  <th>HP</th>                       <td>   36.1034</td> <td>    5.321</td> <td>    6.785</td> <td> 0.000</td> <td>   25.653</td> <td>   46.554</td>\n",
       "</tr>\n",
       "<tr>\n",
       "  <th>Met_Color</th>                <td>   84.2818</td> <td>  127.005</td> <td>    0.664</td> <td> 0.507</td> <td> -165.158</td> <td>  333.721</td>\n",
       "</tr>\n",
       "<tr>\n",
       "  <th>Automatic</th>                <td>  416.7820</td> <td>  259.794</td> <td>    1.604</td> <td> 0.109</td> <td>  -93.454</td> <td>  927.018</td>\n",
       "</tr>\n",
       "<tr>\n",
       "  <th>CC</th>                       <td>    0.0177</td> <td>    0.099</td> <td>    0.179</td> <td> 0.858</td> <td>   -0.177</td> <td>    0.213</td>\n",
       "</tr>\n",
       "<tr>\n",
       "  <th>Doors</th>                    <td>  -50.6579</td> <td>   65.187</td> <td>   -0.777</td> <td> 0.437</td> <td> -178.686</td> <td>   77.371</td>\n",
       "</tr>\n",
       "<tr>\n",
       "  <th>Quarterly_Tax</th>            <td>   13.6253</td> <td>    2.518</td> <td>    5.411</td> <td> 0.000</td> <td>    8.680</td> <td>   18.571</td>\n",
       "</tr>\n",
       "<tr>\n",
       "  <th>Weight</th>                   <td>   13.0387</td> <td>    1.602</td> <td>    8.140</td> <td> 0.000</td> <td>    9.893</td> <td>   16.185</td>\n",
       "</tr>\n",
       "</table>\n",
       "<table class=\"simpletable\">\n",
       "<tr>\n",
       "  <th>Omnibus:</th>       <td>62.422</td> <th>  Durbin-Watson:     </th> <td>   1.899</td>\n",
       "</tr>\n",
       "<tr>\n",
       "  <th>Prob(Omnibus):</th> <td> 0.000</td> <th>  Jarque-Bera (JB):  </th> <td> 366.046</td>\n",
       "</tr>\n",
       "<tr>\n",
       "  <th>Skew:</th>          <td> 0.186</td> <th>  Prob(JB):          </th> <td>3.27e-80</td>\n",
       "</tr>\n",
       "<tr>\n",
       "  <th>Kurtosis:</th>      <td> 6.808</td> <th>  Cond. No.          </th> <td>2.20e+06</td>\n",
       "</tr>\n",
       "</table><br/><br/>Notes:<br/>[1] Standard Errors assume that the covariance matrix of the errors is correctly specified.<br/>[2] The condition number is large, 2.2e+06. This might indicate that there are<br/>strong multicollinearity or other numerical problems."
      ],
      "text/latex": [
       "\\begin{center}\n",
       "\\begin{tabular}{lclc}\n",
       "\\toprule\n",
       "\\textbf{Dep. Variable:}             &      Price       & \\textbf{  R-squared:         } &     0.856   \\\\\n",
       "\\textbf{Model:}                     &       OLS        & \\textbf{  Adj. R-squared:    } &     0.854   \\\\\n",
       "\\textbf{Method:}                    &  Least Squares   & \\textbf{  F-statistic:       } &     319.0   \\\\\n",
       "\\textbf{Date:}                      & Mon, 04 Nov 2024 & \\textbf{  Prob (F-statistic):} & 1.73e-239   \\\\\n",
       "\\textbf{Time:}                      &     17:24:10     & \\textbf{  Log-Likelihood:    } &   -5198.1   \\\\\n",
       "\\textbf{No. Observations:}          &         600      & \\textbf{  AIC:               } & 1.042e+04   \\\\\n",
       "\\textbf{Df Residuals:}              &         588      & \\textbf{  BIC:               } & 1.047e+04   \\\\\n",
       "\\textbf{Df Model:}                  &          11      & \\textbf{                     } &             \\\\\n",
       "\\textbf{Covariance Type:}           &    nonrobust     & \\textbf{                     } &             \\\\\n",
       "\\bottomrule\n",
       "\\end{tabular}\n",
       "\\begin{tabular}{lcccccc}\n",
       "                                    & \\textbf{coef} & \\textbf{std err} & \\textbf{t} & \\textbf{P$> |$t$|$} & \\textbf{[0.025} & \\textbf{0.975]}  \\\\\n",
       "\\midrule\n",
       "\\textbf{Intercept}                  &   -1319.3544  &     1728.427     &    -0.763  &         0.446        &    -4713.997    &     2075.288     \\\\\n",
       "\\textbf{Fuel\\_Type\\_Diesel[T.True]} &    1066.4647  &      527.285     &     2.023  &         0.044        &       30.872    &     2102.057     \\\\\n",
       "\\textbf{Fuel\\_Type\\_Petrol[T.True]} &    2310.2495  &      521.045     &     4.434  &         0.000        &     1286.914    &     3333.585     \\\\\n",
       "\\textbf{Age\\_08\\_04}                &    -140.7488  &        5.142     &   -27.374  &         0.000        &     -150.847    &     -130.650     \\\\\n",
       "\\textbf{KM}                         &      -0.0178  &        0.002     &    -7.286  &         0.000        &       -0.023    &       -0.013     \\\\\n",
       "\\textbf{HP}                         &      36.1034  &        5.321     &     6.785  &         0.000        &       25.653    &       46.554     \\\\\n",
       "\\textbf{Met\\_Color}                 &      84.2818  &      127.005     &     0.664  &         0.507        &     -165.158    &      333.721     \\\\\n",
       "\\textbf{Automatic}                  &     416.7820  &      259.794     &     1.604  &         0.109        &      -93.454    &      927.018     \\\\\n",
       "\\textbf{CC}                         &       0.0177  &        0.099     &     0.179  &         0.858        &       -0.177    &        0.213     \\\\\n",
       "\\textbf{Doors}                      &     -50.6579  &       65.187     &    -0.777  &         0.437        &     -178.686    &       77.371     \\\\\n",
       "\\textbf{Quarterly\\_Tax}             &      13.6253  &        2.518     &     5.411  &         0.000        &        8.680    &       18.571     \\\\\n",
       "\\textbf{Weight}                     &      13.0387  &        1.602     &     8.140  &         0.000        &        9.893    &       16.185     \\\\\n",
       "\\bottomrule\n",
       "\\end{tabular}\n",
       "\\begin{tabular}{lclc}\n",
       "\\textbf{Omnibus:}       & 62.422 & \\textbf{  Durbin-Watson:     } &    1.899  \\\\\n",
       "\\textbf{Prob(Omnibus):} &  0.000 & \\textbf{  Jarque-Bera (JB):  } &  366.046  \\\\\n",
       "\\textbf{Skew:}          &  0.186 & \\textbf{  Prob(JB):          } & 3.27e-80  \\\\\n",
       "\\textbf{Kurtosis:}      &  6.808 & \\textbf{  Cond. No.          } & 2.20e+06  \\\\\n",
       "\\bottomrule\n",
       "\\end{tabular}\n",
       "%\\caption{OLS Regression Results}\n",
       "\\end{center}\n",
       "\n",
       "Notes: \\newline\n",
       " [1] Standard Errors assume that the covariance matrix of the errors is correctly specified. \\newline\n",
       " [2] The condition number is large, 2.2e+06. This might indicate that there are \\newline\n",
       " strong multicollinearity or other numerical problems."
      ],
      "text/plain": [
       "<class 'statsmodels.iolib.summary.Summary'>\n",
       "\"\"\"\n",
       "                            OLS Regression Results                            \n",
       "==============================================================================\n",
       "Dep. Variable:                  Price   R-squared:                       0.856\n",
       "Model:                            OLS   Adj. R-squared:                  0.854\n",
       "Method:                 Least Squares   F-statistic:                     319.0\n",
       "Date:                Mon, 04 Nov 2024   Prob (F-statistic):          1.73e-239\n",
       "Time:                        17:24:10   Log-Likelihood:                -5198.1\n",
       "No. Observations:                 600   AIC:                         1.042e+04\n",
       "Df Residuals:                     588   BIC:                         1.047e+04\n",
       "Df Model:                          11                                         \n",
       "Covariance Type:            nonrobust                                         \n",
       "============================================================================================\n",
       "                               coef    std err          t      P>|t|      [0.025      0.975]\n",
       "--------------------------------------------------------------------------------------------\n",
       "Intercept                -1319.3544   1728.427     -0.763      0.446   -4713.997    2075.288\n",
       "Fuel_Type_Diesel[T.True]  1066.4647    527.285      2.023      0.044      30.872    2102.057\n",
       "Fuel_Type_Petrol[T.True]  2310.2495    521.045      4.434      0.000    1286.914    3333.585\n",
       "Age_08_04                 -140.7488      5.142    -27.374      0.000    -150.847    -130.650\n",
       "KM                          -0.0178      0.002     -7.286      0.000      -0.023      -0.013\n",
       "HP                          36.1034      5.321      6.785      0.000      25.653      46.554\n",
       "Met_Color                   84.2818    127.005      0.664      0.507    -165.158     333.721\n",
       "Automatic                  416.7820    259.794      1.604      0.109     -93.454     927.018\n",
       "CC                           0.0177      0.099      0.179      0.858      -0.177       0.213\n",
       "Doors                      -50.6579     65.187     -0.777      0.437    -178.686      77.371\n",
       "Quarterly_Tax               13.6253      2.518      5.411      0.000       8.680      18.571\n",
       "Weight                      13.0387      1.602      8.140      0.000       9.893      16.185\n",
       "==============================================================================\n",
       "Omnibus:                       62.422   Durbin-Watson:                   1.899\n",
       "Prob(Omnibus):                  0.000   Jarque-Bera (JB):              366.046\n",
       "Skew:                           0.186   Prob(JB):                     3.27e-80\n",
       "Kurtosis:                       6.808   Cond. No.                     2.20e+06\n",
       "==============================================================================\n",
       "\n",
       "Notes:\n",
       "[1] Standard Errors assume that the covariance matrix of the errors is correctly specified.\n",
       "[2] The condition number is large, 2.2e+06. This might indicate that there are\n",
       "strong multicollinearity or other numerical problems.\n",
       "\"\"\""
      ]
     },
     "execution_count": 21,
     "metadata": {},
     "output_type": "execute_result"
    }
   ],
   "source": [
    "# run a linear regression of Price on the remaining 11 predictors in the training set\n",
    "train_df = train_X.join(train_y)\n",
    "\n",
    "predictors = train_X.columns\n",
    "formula = 'Price ~ ' + ' + '.join(predictors)\n",
    "\n",
    "car_lm = sm.ols(formula=formula, data=train_df).fit()\n",
    "car_lm.summary()"
   ]
  }
 ],
 "metadata": {
  "language_info": {
   "codemirror_mode": {
    "name": "ipython",
    "version": 3
   },
   "file_extension": ".py",
   "mimetype": "text/x-python",
   "name": "python",
   "nbconvert_exporter": "python",
   "pygments_lexer": "ipython3",
   "version": "3.11.8"
  }
 },
 "nbformat": 4,
 "nbformat_minor": 5
}
