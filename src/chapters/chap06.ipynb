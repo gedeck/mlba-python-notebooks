{
 "cells": [
  {
   "cell_type": "markdown",
   "id": "8f757cd0",
   "metadata": {},
   "source": [
    "# Chapter 06 \n",
    " Machine Learning for Business Analytics<br>\n",
    "Concepts, Techniques, and Applications in Python<br>\n",
    "by Galit Shmueli, Peter C. Bruce, Peter Gedeck, Nitin R. Patel\n",
    "\n",
    "Publisher: Wiley; 2nd edition (2024) <br>\n",
    "<!-- ISBN-13: 978-3031075650 -->\n",
    "\n",
    "(c) 2024 Galit Shmueli, Peter C. Bruce, Peter Gedeck, Nitin R. Patel\n",
    "\n",
    "The code needs to be executed in sequence.\n",
    "\n",
    "Python packages and Python itself change over time. This can cause warnings or errors.\n",
    "\"Warnings\" are for information only and can usually be ignored.\n",
    "\"Errors\" will stop execution and need to be fixed in order to get results.\n",
    "\n",
    "If you come across an issue with the code, please follow these steps\n",
    "\n",
    "- Check the repository (https://gedeck.github.io/sdsa-code-solutions/) to see if the code has been upgraded. This might solve the problem.\n",
    "- Report the problem using the issue tracker at https://github.com/gedeck/sdsa-code-solutions/issues\n",
    "- Paste the error message into Google and see if someone else already found a solution"
   ]
  },
  {
   "cell_type": "code",
   "execution_count": 23,
   "id": "1d678ab9",
   "metadata": {
    "execution": {
     "iopub.execute_input": "2024-11-23T14:13:43.104429Z",
     "iopub.status.busy": "2024-11-23T14:13:43.104302Z",
     "iopub.status.idle": "2024-11-23T14:13:43.825821Z",
     "shell.execute_reply": "2024-11-23T14:13:43.825474Z"
    }
   },
   "outputs": [],
   "source": [
    "import matplotlib.pyplot as plt\n",
    "import mlba\n",
    "import numpy as np\n",
    "import pandas as pd\n",
    "import statsmodels.formula.api as sm\n",
    "from mlxtend.feature_selection import ExhaustiveFeatureSelector, SequentialFeatureSelector\n",
    "from sklearn.linear_model import BayesianRidge, Lasso, LassoCV, LinearRegression, Ridge, RidgeCV\n",
    "from sklearn.model_selection import cross_validate, train_test_split\n",
    "from sklearn.pipeline import Pipeline\n",
    "from sklearn.preprocessing import StandardScaler\n",
    "%matplotlib inline"
   ]
  },
  {
   "cell_type": "code",
   "execution_count": 24,
   "id": "dfbab2eb",
   "metadata": {
    "execution": {
     "iopub.execute_input": "2024-11-23T14:13:43.827175Z",
     "iopub.status.busy": "2024-11-23T14:13:43.827050Z",
     "iopub.status.idle": "2024-11-23T14:13:43.836828Z",
     "shell.execute_reply": "2024-11-23T14:13:43.836599Z"
    }
   },
   "outputs": [
    {
     "name": "stdout",
     "output_type": "stream",
     "text": [
      "           Predictor  coefficient\n",
      "0          Age_08_04  -130.792830\n",
      "1                 KM    -0.018302\n",
      "2                 HP    64.834495\n",
      "3          Met_Color    54.282338\n",
      "4          Automatic   298.009711\n",
      "5                 CC    -4.251357\n",
      "6              Doors   -25.888900\n",
      "7      Quarterly_Tax    18.013228\n",
      "8             Weight    15.547273\n",
      "9   Fuel_Type_Diesel  3875.777969\n",
      "10  Fuel_Type_Petrol  2897.532504\n",
      "\n",
      "Regression statistics\n",
      "\n",
      "Mean Error (ME) : 0.0000\n",
      "Root Mean Squared Error (RMSE) : 1340.1580\n",
      "Mean Absolute Error (MAE) : 987.7296\n",
      "Mean Percentage Error (MPE) : -0.9911\n",
      "Mean Absolute Percentage Error (MAPE) : 8.8094\n"
     ]
    }
   ],
   "source": [
    "# reduce data frame to the top 1000 rows and select columns for regression analysis\n",
    "car_df = mlba.load_data('ToyotaCorolla.csv')\n",
    "car_df = car_df.iloc[0:1000]\n",
    "\n",
    "predictors = ['Age_08_04', 'KM', 'Fuel_Type', 'HP', 'Met_Color', 'Automatic', 'CC',\n",
    "              'Doors', 'Quarterly_Tax', 'Weight']\n",
    "outcome = 'Price'\n",
    "\n",
    "# partition data\n",
    "X = pd.get_dummies(car_df[predictors], drop_first=True)\n",
    "y = car_df[outcome]\n",
    "train_X, holdout_X, train_y, holdout_y = train_test_split(X, y, test_size=0.4,\n",
    "                                                    random_state=314)\n",
    "\n",
    "car_lm = LinearRegression()\n",
    "car_lm.fit(train_X, train_y)\n",
    "\n",
    "# print coefficients\n",
    "print(pd.DataFrame({'Predictor': X.columns, 'coefficient': car_lm.coef_}))\n",
    "\n",
    "# print performance measures (training data)\n",
    "mlba.regressionSummary(y_true=train_y, y_pred=car_lm.predict(train_X))"
   ]
  },
  {
   "cell_type": "code",
   "execution_count": 25,
   "id": "9658d425",
   "metadata": {
    "execution": {
     "iopub.execute_input": "2024-11-23T14:13:43.837933Z",
     "iopub.status.busy": "2024-11-23T14:13:43.837834Z",
     "iopub.status.idle": "2024-11-23T14:13:43.841257Z",
     "shell.execute_reply": "2024-11-23T14:13:43.841036Z"
    }
   },
   "outputs": [
    {
     "name": "stdout",
     "output_type": "stream",
     "text": [
      "        Predicted  Actual     Residual\n",
      "764  10073.017338   10950   876.982662\n",
      "277  12649.704215   11495 -1154.704215\n",
      "515  10317.854192   10750   432.145808\n",
      "305  13075.699963   11895 -1180.699963\n",
      "108  17210.881336   17950   739.118664\n",
      "392  10627.038857    9950  -677.038857\n",
      "905   9179.342231    9950   770.657769\n",
      "507  11015.919573   11500   484.080427\n",
      "789   9880.554635    8950  -930.554635\n",
      "260  12124.410668   11950  -174.410668\n",
      "69   16177.924091   15950  -227.924091\n",
      "60   16429.726963   14950 -1479.726963\n",
      "744   7987.909413    7450  -537.909413\n",
      "584  10731.467539   10500  -231.467539\n",
      "223  11392.715402   14950  3557.284598\n",
      "104  19597.277288   19450  -147.277288\n",
      "335  13441.801213   12500  -941.801213\n",
      "463  11886.513474    8750 -3136.513474\n",
      "224  13559.243997   12450 -1109.243997\n",
      "269  12608.507012   10950 -1658.507012\n",
      "\n",
      "Regression statistics\n",
      "\n",
      "Mean Error (ME) : -1.3621\n",
      "Root Mean Squared Error (RMSE) : 1355.0409\n",
      "Mean Absolute Error (MAE) : 1028.0884\n",
      "Mean Percentage Error (MPE) : -1.2047\n",
      "Mean Absolute Percentage Error (MAPE) : 9.0629\n"
     ]
    }
   ],
   "source": [
    "# Use predict() to make predictions on a new set\n",
    "car_lm_pred = car_lm.predict(holdout_X)\n",
    "\n",
    "result = pd.DataFrame({'Predicted': car_lm_pred, 'Actual': holdout_y,\n",
    "                       'Residual': holdout_y - car_lm_pred})\n",
    "print(result.head(20))\n",
    "\n",
    "# print performance measures (holdout data)\n",
    "mlba.regressionSummary(y_true=holdout_y, y_pred=car_lm_pred)"
   ]
  },
  {
   "cell_type": "code",
   "execution_count": 26,
   "id": "00d60f2e",
   "metadata": {
    "execution": {
     "iopub.execute_input": "2024-11-23T14:13:43.842275Z",
     "iopub.status.busy": "2024-11-23T14:13:43.842202Z",
     "iopub.status.idle": "2024-11-23T14:13:43.990069Z",
     "shell.execute_reply": "2024-11-23T14:13:43.989842Z"
    }
   },
   "outputs": [
    {
     "data": {
      "image/png": "[encoded data removed]",
      "text/plain": [
       "<Figure size 640x480 with 1 Axes>"
      ]
     },
     "metadata": {},
     "output_type": "display_data"
    }
   ],
   "source": [
    "car_lm_pred = car_lm.predict(holdout_X)\n",
    "all_residuals = holdout_y - car_lm_pred\n",
    "\n",
    "pd.DataFrame({'Residuals': all_residuals}).hist(bins=25)\n",
    "plt.tight_layout()\n",
    "plt.show()"
   ]
  },
  {
   "cell_type": "code",
   "execution_count": 27,
   "id": "93991556",
   "metadata": {
    "execution": {
     "iopub.execute_input": "2024-11-23T14:13:43.991254Z",
     "iopub.status.busy": "2024-11-23T14:13:43.991167Z",
     "iopub.status.idle": "2024-11-23T14:13:43.993322Z",
     "shell.execute_reply": "2024-11-23T14:13:43.993080Z"
    }
   },
   "outputs": [
    {
     "name": "stdout",
     "output_type": "stream",
     "text": [
      "0.7425\n"
     ]
    }
   ],
   "source": [
    "# Determine the percentage of datapoints with a residual\n",
    "# in [-1406, 1406] = approx. 75\\% of the data\n",
    "print(len(all_residuals[(all_residuals > -1406) & (all_residuals < 1406)]) /\n",
    "len(all_residuals))"
   ]
  },
  {
   "cell_type": "code",
   "execution_count": 28,
   "id": "d1c1a942",
   "metadata": {
    "execution": {
     "iopub.execute_input": "2024-11-23T14:13:43.994452Z",
     "iopub.status.busy": "2024-11-23T14:13:43.994376Z",
     "iopub.status.idle": "2024-11-23T14:13:44.004198Z",
     "shell.execute_reply": "2024-11-23T14:13:44.003962Z"
    }
   },
   "outputs": [
    {
     "name": "stdout",
     "output_type": "stream",
     "text": [
      "CV-RMSE = 1514.51\n",
      "CV-MAE = 1052.89\n"
     ]
    }
   ],
   "source": [
    "from sklearn.model_selection import cross_validate\n",
    "\n",
    "model = LinearRegression()\n",
    "\n",
    "scoring = {'neg_RMSE': 'neg_root_mean_squared_error',\n",
    "           'neg_MAE': 'neg_mean_absolute_error'}\n",
    "scores = cross_validate(model, train_X, train_y, cv=5, scoring=scoring)\n",
    "\n",
    "print(f\"CV-RMSE = {- scores['test_neg_RMSE'].mean():.2f}\")\n",
    "print(f\"CV-MAE = {- scores['test_neg_MAE'].mean():.2f}\")"
   ]
  },
  {
   "cell_type": "code",
   "execution_count": 29,
   "id": "bdbf8b9e",
   "metadata": {
    "execution": {
     "iopub.execute_input": "2024-11-23T14:13:44.007331Z",
     "iopub.status.busy": "2024-11-23T14:13:44.007200Z",
     "iopub.status.idle": "2024-11-23T14:13:44.009474Z",
     "shell.execute_reply": "2024-11-23T14:13:44.008882Z"
    }
   },
   "outputs": [],
   "source": [
    "cv_results = {'RMSE': - scores['test_neg_RMSE'].mean(),\n",
    "              'MAE': - scores['test_neg_MAE'].mean()}"
   ]
  },
  {
   "cell_type": "code",
   "execution_count": 30,
   "id": "27647da4",
   "metadata": {
    "execution": {
     "iopub.execute_input": "2024-11-23T14:13:44.011319Z",
     "iopub.status.busy": "2024-11-23T14:13:44.011196Z",
     "iopub.status.idle": "2024-11-23T14:13:46.745868Z",
     "shell.execute_reply": "2024-11-23T14:13:46.745525Z"
    }
   },
   "outputs": [
    {
     "name": "stdout",
     "output_type": "stream",
     "text": [
      "Best score: 1479.38\n",
      "Best subset (indices): (0, 1, 2, 6, 8)\n",
      "Best subset (corresponding names):\n",
      "('Age_08_04', 'KM', 'HP', 'Doors', 'Weight')\n"
     ]
    }
   ],
   "source": [
    "model = LinearRegression()\n",
    "efs = ExhaustiveFeatureSelector(model,\n",
    "            min_features=1, max_features=11,\n",
    "            cv=5, scoring='neg_root_mean_squared_error',\n",
    "            print_progress=False, n_jobs=4)\n",
    "efs = efs.fit(train_X, train_y)\n",
    "\n",
    "print(f'Best score: {- efs.best_score_:.2f}')\n",
    "print(f'Best subset (indices): {efs.best_idx_}')\n",
    "print(f'Best subset (corresponding names):\\n{efs.best_feature_names_}')"
   ]
  },
  {
   "cell_type": "code",
   "execution_count": 31,
   "id": "b97a0f8c",
   "metadata": {
    "execution": {
     "iopub.execute_input": "2024-11-23T14:13:46.747035Z",
     "iopub.status.busy": "2024-11-23T14:13:46.746958Z",
     "iopub.status.idle": "2024-11-23T14:13:46.748874Z",
     "shell.execute_reply": "2024-11-23T14:13:46.748623Z"
    }
   },
   "outputs": [],
   "source": [
    "cv_exhaustive = {'RMSE': - scores['test_neg_RMSE'].mean(),\n",
    "                 'MAE': - scores['test_neg_MAE'].mean()}\n",
    "efs_subset = list(efs.best_feature_names_)"
   ]
  },
  {
   "cell_type": "code",
   "execution_count": 32,
   "id": "8d83155a",
   "metadata": {
    "execution": {
     "iopub.execute_input": "2024-11-23T14:13:46.749907Z",
     "iopub.status.busy": "2024-11-23T14:13:46.749827Z",
     "iopub.status.idle": "2024-11-23T14:13:47.051273Z",
     "shell.execute_reply": "2024-11-23T14:13:47.050235Z"
    }
   },
   "outputs": [
    {
     "name": "stdout",
     "output_type": "stream",
     "text": [
      "2047\n",
      "[0, 1, 2, 3, 4, 5, 6, 7, 8, 9, 10, 11, 12, 13, 14, 15, 16, 17, 18, 19, 20, 21, 22, 23, 24, 25, 26, 27, 28, 29, 30, 31, 32, 33, 34, 35, 36, 37, 38, 39, 40, 41, 42, 43, 44, 45, 46, 47, 48, 49, 50, 51, 52, 53, 54, 55, 56, 57, 58, 59, 60, 61, 62, 63, 64, 65, 66, 67, 68, 69, 70, 71, 72, 73, 74, 75, 76, 77, 78, 79, 80, 81, 82, 83, 84, 85, 86, 87, 88, 89, 90, 91, 92, 93, 94, 95, 96, 97, 98, 99, 100, 101, 102, 103, 104, 105, 106, 107, 108, 109, 110, 111, 112, 113, 114, 115, 116, 117, 118, 119, 120, 121, 122, 123, 124, 125, 126, 127, 128, 129, 130, 131, 132, 133, 134, 135, 136, 137, 138, 139, 140, 141, 142, 143, 144, 145, 146, 147, 148, 149, 150, 151, 152, 153, 154, 155, 156, 157, 158, 159, 160, 161, 162, 163, 164, 165, 166, 167, 168, 169, 170, 171, 172, 173, 174, 175, 176, 177, 178, 179, 180, 181, 182, 183, 184, 185, 186, 187, 188, 189, 190, 191, 192, 193, 194, 195, 196, 197, 198, 199, 200, 201, 202, 203, 204, 205, 206, 207, 208, 209, 210, 211, 212, 213, 214, 215, 216, 217, 218, 219, 220, 221, 222, 223, 224, 225, 226, 227, 228, 229, 230, 231, 232, 233, 234, 235, 236, 237, 238, 239, 240, 241, 242, 243, 244, 245, 246, 247, 248, 249, 250, 251, 252, 253, 254, 255, 256, 257, 258, 259, 260, 261, 262, 263, 264, 265, 266, 267, 268, 269, 270, 271, 272, 273, 274, 275, 276, 277, 278, 279, 280, 281, 282, 283, 284, 285, 286, 287, 288, 289, 290, 291, 292, 293, 294, 295, 296, 297, 298, 299, 300, 301, 302, 303, 304, 305, 306, 307, 308, 309, 310, 311, 312, 313, 314, 315, 316, 317, 318, 319, 320, 321, 322, 323, 324, 325, 326, 327, 328, 329, 330, 331, 332, 333, 334, 335, 336, 337, 338, 339, 340, 341, 342, 343, 344, 345, 346, 347, 348, 349, 350, 351, 352, 353, 354, 355, 356, 357, 358, 359, 360, 361, 362, 363, 364, 365, 366, 367, 368, 369, 370, 371, 372, 373, 374, 375, 376, 377, 378, 379, 380, 381, 382, 383, 384, 385, 386, 387, 388, 389, 390, 391, 392, 393, 394, 395, 396, 397, 398, 399, 400, 401, 402, 403, 404, 405, 406, 407, 408, 409, 410, 411, 412, 413, 414, 415, 416, 417, 418, 419, 420, 421, 422, 423, 424, 425, 426, 427, 428, 429, 430, 431, 432, 433, 434, 435, 436, 437, 438, 439, 440, 441, 442, 443, 444, 445, 446, 447, 448, 449, 450, 451, 452, 453, 454, 455, 456, 457, 458, 459, 460, 461, 462, 463, 464, 465, 466, 467, 468, 469, 470, 471, 472, 473, 474, 475, 476, 477, 478, 479, 480, 481, 482, 483, 484, 485, 486, 487, 488, 489, 490, 491, 492, 493, 494, 495, 496, 497, 498, 499, 500, 501, 502, 503, 504, 505, 506, 507, 508, 509, 510, 511, 512, 513, 514, 515, 516, 517, 518, 519, 520, 521, 522, 523, 524, 525, 526, 527, 528, 529, 530, 531, 532, 533, 534, 535, 536, 537, 538, 539, 540, 541, 542, 543, 544, 545, 546, 547, 548, 549, 550, 551, 552, 553, 554, 555, 556, 557, 558, 559, 560, 561, 562, 563, 564, 565, 566, 567, 568, 569, 570, 571, 572, 573, 574, 575, 576, 577, 578, 579, 580, 581, 582, 583, 584, 585, 586, 587, 588, 589, 590, 591, 592, 593, 594, 595, 596, 597, 598, 599, 600, 601, 602, 603, 604, 605, 606, 607, 608, 609, 610, 611, 612, 613, 614, 615, 616, 617, 618, 619, 620, 621, 622, 623, 624, 625, 626, 627, 628, 629, 630, 631, 632, 633, 634, 635, 636, 637, 638, 639, 640, 641, 642, 643, 644, 645, 646, 647, 648, 649, 650, 651, 652, 653, 654, 655, 656, 657, 658, 659, 660, 661, 662, 663, 664, 665, 666, 667, 668, 669, 670, 671, 672, 673, 674, 675, 676, 677, 678, 679, 680, 681, 682, 683, 684, 685, 686, 687, 688, 689, 690, 691, 692, 693, 694, 695, 696, 697, 698, 699, 700, 701, 702, 703, 704, 705, 706, 707, 708, 709, 710, 711, 712, 713, 714, 715, 716, 717, 718, 719, 720, 721, 722, 723, 724, 725, 726, 727, 728, 729, 730, 731, 732, 733, 734, 735, 736, 737, 738, 739, 740, 741, 742, 743, 744, 745, 746, 747, 748, 749, 750, 751, 752, 753, 754, 755, 756, 757, 758, 759, 760, 761, 762, 763, 764, 765, 766, 767, 768, 769, 770, 771, 772, 773, 774, 775, 776, 777, 778, 779, 780, 781, 782, 783, 784, 785, 786, 787, 788, 789, 790, 791, 792, 793, 794, 795, 796, 797, 798, 799, 800, 801, 802, 803, 804, 805, 806, 807, 808, 809, 810, 811, 812, 813, 814, 815, 816, 817, 818, 819, 820, 821, 822, 823, 824, 825, 826, 827, 828, 829, 830, 831, 832, 833, 834, 835, 836, 837, 838, 839, 840, 841, 842, 843, 844, 845, 846, 847, 848, 849, 850, 851, 852, 853, 854, 855, 856, 857, 858, 859, 860, 861, 862, 863, 864, 865, 866, 867, 868, 869, 870, 871, 872, 873, 874, 875, 876, 877, 878, 879, 880, 881, 882, 883, 884, 885, 886, 887, 888, 889, 890, 891, 892, 893, 894, 895, 896, 897, 898, 899, 900, 901, 902, 903, 904, 905, 906, 907, 908, 909, 910, 911, 912, 913, 914, 915, 916, 917, 918, 919, 920, 921, 922, 923, 924, 925, 926, 927, 928, 929, 930, 931, 932, 933, 934, 935, 936, 937, 938, 939, 940, 941, 942, 943, 944, 945, 946, 947, 948, 949, 950, 951, 952, 953, 954, 955, 956, 957, 958, 959, 960, 961, 962, 963, 964, 965, 966, 967, 968, 969, 970, 971, 972, 973, 974, 975, 976, 977, 978, 979, 980, 981, 982, 983, 984, 985, 986, 987, 988, 989, 990, 991, 992, 993, 994, 995, 996, 997, 998, 999, 1000, 1001, 1002, 1003, 1004, 1005, 1006, 1007, 1008, 1009, 1010, 1011, 1012, 1013, 1014, 1015, 1016, 1017, 1018, 1019, 1020, 1021, 1022, 1023, 1024, 1025, 1026, 1027, 1028, 1029, 1030, 1031, 1032, 1033, 1034, 1035, 1036, 1037, 1038, 1039, 1040, 1041, 1042, 1043, 1044, 1045, 1046, 1047, 1048, 1049, 1050, 1051, 1052, 1053, 1054, 1055, 1056, 1057, 1058, 1059, 1060, 1061, 1062, 1063, 1064, 1065, 1066, 1067, 1068, 1069, 1070, 1071, 1072, 1073, 1074, 1075, 1076, 1077, 1078, 1079, 1080, 1081, 1082, 1083, 1084, 1085, 1086, 1087, 1088, 1089, 1090, 1091, 1092, 1093, 1094, 1095, 1096, 1097, 1098, 1099, 1100, 1101, 1102, 1103, 1104, 1105, 1106, 1107, 1108, 1109, 1110, 1111, 1112, 1113, 1114, 1115, 1116, 1117, 1118, 1119, 1120, 1121, 1122, 1123, 1124, 1125, 1126, 1127, 1128, 1129, 1130, 1131, 1132, 1133, 1134, 1135, 1136, 1137, 1138, 1139, 1140, 1141, 1142, 1143, 1144, 1145, 1146, 1147, 1148, 1149, 1150, 1151, 1152, 1153, 1154, 1155, 1156, 1157, 1158, 1159, 1160, 1161, 1162, 1163, 1164, 1165, 1166, 1167, 1168, 1169, 1170, 1171, 1172, 1173, 1174, 1175, 1176, 1177, 1178, 1179, 1180, 1181, 1182, 1183, 1184, 1185, 1186, 1187, 1188, 1189, 1190, 1191, 1192, 1193, 1194, 1195, 1196, 1197, 1198, 1199, 1200, 1201, 1202, 1203, 1204, 1205, 1206, 1207, 1208, 1209, 1210, 1211, 1212, 1213, 1214, 1215, 1216, 1217, 1218, 1219, 1220, 1221, 1222, 1223, 1224, 1225, 1226, 1227, 1228, 1229, 1230, 1231, 1232, 1233, 1234, 1235, 1236, 1237, 1238, 1239, 1240, 1241, 1242, 1243, 1244, 1245, 1246, 1247, 1248, 1249, 1250, 1251, 1252, 1253, 1254, 1255, 1256, 1257, 1258, 1259, 1260, 1261, 1262, 1263, 1264, 1265, 1266, 1267, 1268, 1269, 1270, 1271, 1272, 1273, 1274, 1275, 1276, 1277, 1278, 1279, 1280, 1281, 1282, 1283, 1284, 1285, 1286, 1287, 1288, 1289, 1290, 1291, 1292, 1293, 1294, 1295, 1296, 1297, 1298, 1299, 1300, 1301, 1302, 1303, 1304, 1305, 1306, 1307, 1308, 1309, 1310, 1311, 1312, 1313, 1314, 1315, 1316, 1317, 1318, 1319, 1320, 1321, 1322, 1323, 1324, 1325, 1326, 1327, 1328, 1329, 1330, 1331, 1332, 1333, 1334, 1335, 1336, 1337, 1338, 1339, 1340, 1341, 1342, 1343, 1344, 1345, 1346, 1347, 1348, 1349, 1350, 1351, 1352, 1353, 1354, 1355, 1356, 1357, 1358, 1359, 1360, 1361, 1362, 1363, 1364, 1365, 1366, 1367, 1368, 1369, 1370, 1371, 1372, 1373, 1374, 1375, 1376, 1377, 1378, 1379, 1380, 1381, 1382, 1383, 1384, 1385, 1386, 1387, 1388, 1389, 1390, 1391, 1392, 1393, 1394, 1395, 1396, 1397, 1398, 1399, 1400, 1401, 1402, 1403, 1404, 1405, 1406, 1407, 1408, 1409, 1410, 1411, 1412, 1413, 1414, 1415, 1416, 1417, 1418, 1419, 1420, 1421, 1422, 1423, 1424, 1425, 1426, 1427, 1428, 1429, 1430, 1431, 1432, 1433, 1434, 1435, 1436, 1437, 1438, 1439, 1440, 1441, 1442, 1443, 1444, 1445, 1446, 1447, 1448, 1449, 1450, 1451, 1452, 1453, 1454, 1455, 1456, 1457, 1458, 1459, 1460, 1461, 1462, 1463, 1464, 1465, 1466, 1467, 1468, 1469, 1470, 1471, 1472, 1473, 1474, 1475, 1476, 1477, 1478, 1479, 1480, 1481, 1482, 1483, 1484, 1485, 1486, 1487, 1488, 1489, 1490, 1491, 1492, 1493, 1494, 1495, 1496, 1497, 1498, 1499, 1500, 1501, 1502, 1503, 1504, 1505, 1506, 1507, 1508, 1509, 1510, 1511, 1512, 1513, 1514, 1515, 1516, 1517, 1518, 1519, 1520, 1521, 1522, 1523, 1524, 1525, 1526, 1527, 1528, 1529, 1530, 1531, 1532, 1533, 1534, 1535, 1536, 1537, 1538, 1539, 1540, 1541, 1542, 1543, 1544, 1545, 1546, 1547, 1548, 1549, 1550, 1551, 1552, 1553, 1554, 1555, 1556, 1557, 1558, 1559, 1560, 1561, 1562, 1563, 1564, 1565, 1566, 1567, 1568, 1569, 1570, 1571, 1572, 1573, 1574, 1575, 1576, 1577, 1578, 1579, 1580, 1581, 1582, 1583, 1584, 1585, 1586, 1587, 1588, 1589, 1590, 1591, 1592, 1593, 1594, 1595, 1596, 1597, 1598, 1599, 1600, 1601, 1602, 1603, 1604, 1605, 1606, 1607, 1608, 1609, 1610, 1611, 1612, 1613, 1614, 1615, 1616, 1617, 1618, 1619, 1620, 1621, 1622, 1623, 1624, 1625, 1626, 1627, 1628, 1629, 1630, 1631, 1632, 1633, 1634, 1635, 1636, 1637, 1638, 1639, 1640, 1641, 1642, 1643, 1644, 1645, 1646, 1647, 1648, 1649, 1650, 1651, 1652, 1653, 1654, 1655, 1656, 1657, 1658, 1659, 1660, 1661, 1662, 1663, 1664, 1665, 1666, 1667, 1668, 1669, 1670, 1671, 1672, 1673, 1674, 1675, 1676, 1677, 1678, 1679, 1680, 1681, 1682, 1683, 1684, 1685, 1686, 1687, 1688, 1689, 1690, 1691, 1692, 1693, 1694, 1695, 1696, 1697, 1698, 1699, 1700, 1701, 1702, 1703, 1704, 1705, 1706, 1707, 1708, 1709, 1710, 1711, 1712, 1713, 1714, 1715, 1716, 1717, 1718, 1719, 1720, 1721, 1722, 1723, 1724, 1725, 1726, 1727, 1728, 1729, 1730, 1731, 1732, 1733, 1734, 1735, 1736, 1737, 1738, 1739, 1740, 1741, 1742, 1743, 1744, 1745, 1746, 1747, 1748, 1749, 1750, 1751, 1752, 1753, 1754, 1755, 1756, 1757, 1758, 1759, 1760, 1761, 1762, 1763, 1764, 1765, 1766, 1767, 1768, 1769, 1770, 1771, 1772, 1773, 1774, 1775, 1776, 1777, 1778, 1779, 1780, 1781, 1782, 1783, 1784, 1785, 1786, 1787, 1788, 1789, 1790, 1791, 1792, 1793, 1794, 1795, 1796, 1797, 1798, 1799, 1800, 1801, 1802, 1803, 1804, 1805, 1806, 1807, 1808, 1809, 1810, 1811, 1812, 1813, 1814, 1815, 1816, 1817, 1818, 1819, 1820, 1821, 1822, 1823, 1824, 1825, 1826, 1827, 1828, 1829, 1830, 1831, 1832, 1833, 1834, 1835, 1836, 1837, 1838, 1839, 1840, 1841, 1842, 1843, 1844, 1845, 1846, 1847, 1848, 1849, 1850, 1851, 1852, 1853, 1854, 1855, 1856, 1857, 1858, 1859, 1860, 1861, 1862, 1863, 1864, 1865, 1866, 1867, 1868, 1869, 1870, 1871, 1872, 1873, 1874, 1875, 1876, 1877, 1878, 1879, 1880, 1881, 1882, 1883, 1884, 1885, 1886, 1887, 1888, 1889, 1890, 1891, 1892, 1893, 1894, 1895, 1896, 1897, 1898, 1899, 1900, 1901, 1902, 1903, 1904, 1905, 1906, 1907, 1908, 1909, 1910, 1911, 1912, 1913, 1914, 1915, 1916, 1917, 1918, 1919, 1920, 1921, 1922, 1923, 1924, 1925, 1926, 1927, 1928, 1929, 1930, 1931, 1932, 1933, 1934, 1935, 1936, 1937, 1938, 1939, 1940, 1941, 1942, 1943, 1944, 1945, 1946, 1947, 1948, 1949, 1950, 1951, 1952, 1953, 1954, 1955, 1956, 1957, 1958, 1959, 1960, 1961, 1962, 1963, 1964, 1965, 1966, 1967, 1968, 1969, 1970, 1971, 1972, 1973, 1974, 1975, 1976, 1977, 1978, 1979, 1980, 1981, 1982, 1983, 1984, 1985, 1986, 1987, 1988, 1989, 1990, 1991, 1992, 1993, 1994, 1995, 1996, 1997, 1998, 1999, 2000, 2001, 2002, 2003, 2004, 2005, 2006, 2007, 2008, 2009, 2010, 2011, 2012, 2013, 2014, 2015, 2016, 2017, 2018, 2019, 2020, 2021, 2022, 2023, 2024, 2025, 2026, 2027, 2028, 2029, 2030, 2031, 2032, 2033, 2034, 2035, 2036, 2037, 2038, 2039, 2040, 2041, 2042, 2043, 2044, 2045, 2046]\n"
     ]
    },
    {
     "data": {
      "image/png": "[encoded data removed]",
      "text/plain": [
       "<Figure size 640x480 with 1 Axes>"
      ]
     },
     "metadata": {},
     "output_type": "display_data"
    }
   ],
   "source": [
    "import matplotlib.pyplot as plt\n",
    "\n",
    "metric_dict = efs.get_metric_dict()\n",
    "print(len(metric_dict))\n",
    "\n",
    "k_feat = sorted(metric_dict.keys())\n",
    "avg = [-metric_dict[k]['avg_score'] for k in k_feat]\n",
    "print(k_feat)\n",
    "\n",
    "upper, lower = [], []\n",
    "for k in k_feat:\n",
    "    upper.append(-metric_dict[k]['avg_score'] +\n",
    "                metric_dict[k]['std_dev'])\n",
    "    lower.append(-metric_dict[k]['avg_score'] -\n",
    "                metric_dict[k]['std_dev'])\n",
    "\n",
    "fig, ax = plt.subplots()\n",
    "ax.fill_between(k_feat, upper, lower, alpha=0.2, color='blue', lw=1)\n",
    "ax.plot(k_feat, avg, color='blue') #, marker='o')\n",
    "ax.set_ylabel('RMSE +/- standard deviation')\n",
    "ax.set_xlabel('Number of features')\n",
    "feature_min = len(metric_dict[k_feat[0]]['feature_idx'])\n",
    "feature_max = len(metric_dict[k_feat[-1]]['feature_idx'])\n",
    "plt.show()\n",
    "%matplotlib inline"
   ]
  },
  {
   "cell_type": "code",
   "execution_count": 33,
   "id": "36c0e79f",
   "metadata": {
    "execution": {
     "iopub.execute_input": "2024-11-23T14:13:47.053607Z",
     "iopub.status.busy": "2024-11-23T14:13:47.053425Z",
     "iopub.status.idle": "2024-11-23T14:13:47.066249Z",
     "shell.execute_reply": "2024-11-23T14:13:47.060901Z"
    }
   },
   "outputs": [
    {
     "name": "stdout",
     "output_type": "stream",
     "text": [
      "1, RMSE: 1895.03, Features: ('Age_08_04',)\n",
      "2, RMSE: 1697.97, Features: ('Age_08_04', 'Weight')\n",
      "3, RMSE: 1551.82, Features: ('Age_08_04', 'KM', 'Weight')\n",
      "4, RMSE: 1479.57, Features: ('Age_08_04', 'KM', 'HP', 'Weight')\n",
      "5, RMSE: 1479.38, Features: ('Age_08_04', 'KM', 'HP', 'Doors', 'Weight')\n",
      "6, RMSE: 1482.08, Features: ('Age_08_04', 'KM', 'HP', 'Doors', 'Quarterly_Tax', 'Weight')\n",
      "7, RMSE: 1486.71, Features: ('Age_08_04', 'KM', 'HP', 'Met_Color', 'Automatic', 'Doors', 'Weight')\n",
      "8, RMSE: 1485.12, Features: ('Age_08_04', 'KM', 'HP', 'Automatic', 'CC', 'Quarterly_Tax', 'Fuel_Type_Diesel', 'Fuel_Type_Petrol')\n",
      "9, RMSE: 1482.00, Features: ('Age_08_04', 'KM', 'HP', 'Automatic', 'CC', 'Doors', 'Quarterly_Tax', 'Fuel_Type_Diesel', 'Fuel_Type_Petrol')\n",
      "10, RMSE: 1487.74, Features: ('Age_08_04', 'KM', 'HP', 'Met_Color', 'Automatic', 'CC', 'Doors', 'Quarterly_Tax', 'Fuel_Type_Diesel', 'Fuel_Type_Petrol')\n",
      "11, RMSE: 1514.51, Features: ('Age_08_04', 'KM', 'HP', 'Met_Color', 'Automatic', 'CC', 'Doors', 'Quarterly_Tax', 'Weight', 'Fuel_Type_Diesel', 'Fuel_Type_Petrol')\n"
     ]
    }
   ],
   "source": [
    "important_features = {}\n",
    "for v in efs.subsets_.values():\n",
    "    n = len(v['feature_names'])\n",
    "    if n not in important_features:  # noqa: SIM114\n",
    "        important_features[n] = v\n",
    "    elif v['avg_score'] > important_features[len(v['feature_names'])]['avg_score']:\n",
    "        important_features[n] = v\n",
    "for k, v in important_features.items():\n",
    "    print(f'{k}, RMSE: {- v[\"avg_score\"]:.2f}, Features: {v[\"feature_names\"]}')"
   ]
  },
  {
   "cell_type": "code",
   "execution_count": 34,
   "id": "ff7d8499",
   "metadata": {
    "execution": {
     "iopub.execute_input": "2024-11-23T14:13:47.069360Z",
     "iopub.status.busy": "2024-11-23T14:13:47.069160Z",
     "iopub.status.idle": "2024-11-23T14:13:49.411280Z",
     "shell.execute_reply": "2024-11-23T14:13:49.410953Z"
    }
   },
   "outputs": [
    {
     "name": "stdout",
     "output_type": "stream",
     "text": [
      "Best accuracy score: 1479.38\n",
      "Best subset (indices): (0, 1, 2, 6, 8)\n",
      "Best subset (corresponding names):\n",
      "('Age_08_04', 'KM', 'HP', 'Doors', 'Weight')\n"
     ]
    }
   ],
   "source": [
    "sfs_forward = SequentialFeatureSelector(model,\n",
    "            k_features=(1, 11),\n",
    "            forward=True, floating=False,\n",
    "            cv=5, scoring='neg_root_mean_squared_error',\n",
    "            n_jobs=-1)\n",
    "sfs_forward = sfs_forward.fit(train_X, train_y)\n",
    "\n",
    "best_subset = sfs_forward.subsets_[1]\n",
    "for v in sfs_forward.subsets_.values():\n",
    "    if v['avg_score'] > best_subset['avg_score']:\n",
    "        best_subset = v\n",
    "\n",
    "print(f\"Best accuracy score: {- best_subset['avg_score']:.2f}\")\n",
    "print(f\"Best subset (indices): {best_subset['feature_idx']}\")\n",
    "print(f\"Best subset (corresponding names):\\n{best_subset['feature_names']}\")"
   ]
  },
  {
   "cell_type": "code",
   "execution_count": 35,
   "id": "d7baedb8",
   "metadata": {
    "execution": {
     "iopub.execute_input": "2024-11-23T14:13:49.412522Z",
     "iopub.status.busy": "2024-11-23T14:13:49.412440Z",
     "iopub.status.idle": "2024-11-23T14:13:49.414193Z",
     "shell.execute_reply": "2024-11-23T14:13:49.413959Z"
    }
   },
   "outputs": [],
   "source": [
    "forward_subset = list(best_subset['feature_names'])"
   ]
  },
  {
   "cell_type": "code",
   "execution_count": 36,
   "id": "bd9becc5",
   "metadata": {
    "execution": {
     "iopub.execute_input": "2024-11-23T14:13:49.415182Z",
     "iopub.status.busy": "2024-11-23T14:13:49.415114Z",
     "iopub.status.idle": "2024-11-23T14:13:49.578623Z",
     "shell.execute_reply": "2024-11-23T14:13:49.578350Z"
    }
   },
   "outputs": [
    {
     "name": "stdout",
     "output_type": "stream",
     "text": [
      "Best accuracy score: 1482.00\n",
      "Best subset (indices): (0, 1, 2, 4, 5, 6, 7, 9, 10)\n",
      "Best subset (corresponding names):\n",
      "('Age_08_04', 'KM', 'HP', 'Automatic', 'CC', 'Doors', 'Quarterly_Tax', 'Fuel_Type_Diesel', 'Fuel_Type_Petrol')\n"
     ]
    }
   ],
   "source": [
    "sfs_backward = SequentialFeatureSelector(model,\n",
    "            k_features=(1, 11),\n",
    "            forward=False, floating=False,\n",
    "            cv=5, scoring='neg_root_mean_squared_error',\n",
    "            n_jobs=-1)\n",
    "sfs_backward = sfs_backward.fit(train_X, train_y)\n",
    "\n",
    "best_subset = sfs_backward.subsets_[1]\n",
    "for v in sfs_backward.subsets_.values():\n",
    "    if v['avg_score'] > best_subset['avg_score']:\n",
    "        best_subset = v\n",
    "\n",
    "print(f\"Best accuracy score: {- best_subset['avg_score']:.2f}\")\n",
    "print(f\"Best subset (indices): {best_subset['feature_idx']}\")\n",
    "print(f\"Best subset (corresponding names):\\n{best_subset['feature_names']}\")"
   ]
  },
  {
   "cell_type": "code",
   "execution_count": 37,
   "id": "6606939a",
   "metadata": {
    "execution": {
     "iopub.execute_input": "2024-11-23T14:13:49.579927Z",
     "iopub.status.busy": "2024-11-23T14:13:49.579836Z",
     "iopub.status.idle": "2024-11-23T14:13:49.652829Z",
     "shell.execute_reply": "2024-11-23T14:13:49.652233Z"
    }
   },
   "outputs": [
    {
     "data": {
      "image/png": "[encoded data removed]",
      "text/plain": [
       "<Figure size 640x480 with 1 Axes>"
      ]
     },
     "metadata": {},
     "output_type": "display_data"
    }
   ],
   "source": [
    "backward_subset = list(best_subset['feature_names'])\n",
    "\n",
    "metric_dict = sfs_backward.get_metric_dict()\n",
    "\n",
    "fig = plt.figure()\n",
    "k_feat = sorted(metric_dict)\n",
    "avg = [-metric_dict[k]['avg_score'] for k in k_feat]\n",
    "best_idx = np.argmin(avg)\n",
    "\n",
    "upper, lower = [], []\n",
    "for k in k_feat:\n",
    "    upper.append(-metric_dict[k]['avg_score'] + metric_dict[k]['std_dev'])\n",
    "    lower.append(-metric_dict[k]['avg_score'] - metric_dict[k]['std_dev'])\n",
    "\n",
    "plt.fill_between(k_feat, upper, lower, alpha=0.2, color='blue', lw=1)\n",
    "plt.plot(k_feat, avg, color='blue', marker='o')\n",
    "plt.plot(k_feat[best_idx], avg[best_idx], color='red', marker='o')\n",
    "plt.ylabel('RMSE +/- Standard Deviation')\n",
    "plt.xlabel('Number of Features')\n",
    "plt.show()"
   ]
  },
  {
   "cell_type": "code",
   "execution_count": 38,
   "id": "e81756b0",
   "metadata": {
    "execution": {
     "iopub.execute_input": "2024-11-23T14:13:49.657235Z",
     "iopub.status.busy": "2024-11-23T14:13:49.656867Z",
     "iopub.status.idle": "2024-11-23T14:13:50.472057Z",
     "shell.execute_reply": "2024-11-23T14:13:50.471822Z"
    }
   },
   "outputs": [
    {
     "name": "stdout",
     "output_type": "stream",
     "text": [
      "Best accuracy score: 1479.38\n",
      "Best subset (indices): (0, 1, 2, 6, 8)\n",
      "Best subset (corresponding names):\n",
      "('Age_08_04', 'KM', 'HP', 'Doors', 'Weight')\n"
     ]
    }
   ],
   "source": [
    "sfs_stepwise = SequentialFeatureSelector(model,\n",
    "            k_features=(1, 11),\n",
    "            forward=True, floating=True,\n",
    "            cv=5, scoring='neg_root_mean_squared_error',\n",
    "            n_jobs=-1)\n",
    "\n",
    "sfs_stepwise = sfs_stepwise.fit(train_X, train_y)\n",
    "\n",
    "best_subset = sfs_stepwise.subsets_[1]\n",
    "for v in sfs_stepwise.subsets_.values():\n",
    "    if v['avg_score'] > best_subset['avg_score']:\n",
    "        best_subset = v\n",
    "\n",
    "print(f\"Best accuracy score: {- best_subset['avg_score']:.2f}\")\n",
    "print(f\"Best subset (indices): {best_subset['feature_idx']}\")\n",
    "print(f\"Best subset (corresponding names):\\n{best_subset['feature_names']}\")"
   ]
  },
  {
   "cell_type": "code",
   "execution_count": 39,
   "id": "ed88238b",
   "metadata": {
    "execution": {
     "iopub.execute_input": "2024-11-23T14:13:50.473394Z",
     "iopub.status.busy": "2024-11-23T14:13:50.473310Z",
     "iopub.status.idle": "2024-11-23T14:13:50.475462Z",
     "shell.execute_reply": "2024-11-23T14:13:50.475191Z"
    }
   },
   "outputs": [
    {
     "name": "stdout",
     "output_type": "stream",
     "text": [
      "-1895.0266910419311 ('Age_08_04',)\n",
      "-1697.9737764074848 ('Age_08_04', 'Weight')\n",
      "-1551.8175978152847 ('Age_08_04', 'KM', 'Weight')\n",
      "-1479.570193322642 ('Age_08_04', 'KM', 'HP', 'Weight')\n",
      "-1479.383548239972 ('Age_08_04', 'KM', 'HP', 'Doors', 'Weight')\n",
      "-1482.0817197199563 ('Age_08_04', 'KM', 'HP', 'Doors', 'Quarterly_Tax', 'Weight')\n",
      "-1486.7075301998163 ('Age_08_04', 'KM', 'HP', 'Met_Color', 'Automatic', 'Doors', 'Weight')\n",
      "-1492.1928294429476 ('Age_08_04', 'KM', 'HP', 'Met_Color', 'Automatic', 'Doors', 'Quarterly_Tax', 'Weight')\n",
      "-1481.9970846709703 ('Age_08_04', 'KM', 'HP', 'Automatic', 'CC', 'Doors', 'Quarterly_Tax', 'Fuel_Type_Diesel', 'Fuel_Type_Petrol')\n",
      "-1487.7362826016163 ('Age_08_04', 'KM', 'HP', 'Met_Color', 'Automatic', 'CC', 'Doors', 'Quarterly_Tax', 'Fuel_Type_Diesel', 'Fuel_Type_Petrol')\n",
      "-1514.5058235816769 ('Age_08_04', 'KM', 'HP', 'Met_Color', 'Automatic', 'CC', 'Doors', 'Quarterly_Tax', 'Weight', 'Fuel_Type_Diesel', 'Fuel_Type_Petrol')\n"
     ]
    }
   ],
   "source": [
    "stepwise_subset = list(best_subset['feature_names'])\n",
    "for _, results in sfs_stepwise.subsets_.items():\n",
    "    print(results['avg_score'], results['feature_names'])"
   ]
  },
  {
   "cell_type": "markdown",
   "id": "1b3878ff",
   "metadata": {},
   "source": [
    " Lasso model"
   ]
  },
  {
   "cell_type": "code",
   "execution_count": 40,
   "id": "574d4716",
   "metadata": {
    "execution": {
     "iopub.execute_input": "2024-11-23T14:13:50.476595Z",
     "iopub.status.busy": "2024-11-23T14:13:50.476519Z",
     "iopub.status.idle": "2024-11-23T14:13:50.492140Z",
     "shell.execute_reply": "2024-11-23T14:13:50.491912Z"
    }
   },
   "outputs": [
    {
     "name": "stdout",
     "output_type": "stream",
     "text": [
      "Lasso-CV chosen regularization: 152.642\n",
      "Coefficients: [-2173.882  -630.588   418.233     0.        0.       -0.       -0.\n",
      "    84.888   986.212    -0.        0.   ]\n",
      "\n",
      "Regression statistics\n",
      "\n",
      "Mean Error (ME) : 7.3500\n",
      "Root Mean Squared Error (RMSE) : 1394.7003\n",
      "Mean Absolute Error (MAE) : 1051.7327\n",
      "Mean Percentage Error (MPE) : -1.6771\n",
      "Mean Absolute Percentage Error (MAPE) : 9.4525\n"
     ]
    }
   ],
   "source": [
    "lasso_cv = Pipeline([\n",
    "    ['normalize', StandardScaler()],\n",
    "    ['model', LassoCV(cv=5, alphas=10**(np.linspace(-1, 5, 50)))],\n",
    "])\n",
    "lasso_cv.fit(train_X, train_y)\n",
    "print(f\"Lasso-CV chosen regularization: {lasso_cv['model'].alpha_:.3f}\")\n",
    "print(f\"Coefficients: {lasso_cv['model'].coef_.round(3)}\")\n",
    "mlba.regressionSummary(y_true=holdout_y, y_pred=lasso_cv.predict(holdout_X))"
   ]
  },
  {
   "cell_type": "markdown",
   "id": "ef0daa1e",
   "metadata": {},
   "source": [
    " Partial output"
   ]
  },
  {
   "cell_type": "markdown",
   "id": "28db724a",
   "metadata": {},
   "source": [
    " Ridge regression"
   ]
  },
  {
   "cell_type": "code",
   "execution_count": 41,
   "id": "68f87eee",
   "metadata": {
    "execution": {
     "iopub.execute_input": "2024-11-23T14:13:50.493308Z",
     "iopub.status.busy": "2024-11-23T14:13:50.493226Z",
     "iopub.status.idle": "2024-11-23T14:13:50.499666Z",
     "shell.execute_reply": "2024-11-23T14:13:50.499445Z"
    }
   },
   "outputs": [
    {
     "name": "stdout",
     "output_type": "stream",
     "text": [
      "Ridge-CV chosen regularization: 49.417\n",
      "Coefficients: [-1982.464  -752.963   626.569    26.732    19.29   -294.475   -20.054\n",
      "   598.448  1019.766   271.592   386.263]\n",
      "\n",
      "Regression statistics\n",
      "\n",
      "Mean Error (ME) : 17.5822\n",
      "Root Mean Squared Error (RMSE) : 1347.9356\n",
      "Mean Absolute Error (MAE) : 1024.4671\n",
      "Mean Percentage Error (MPE) : -1.3483\n",
      "Mean Absolute Percentage Error (MAPE) : 9.0263\n"
     ]
    }
   ],
   "source": [
    "ridge_cv = Pipeline([\n",
    "    ['normalize', StandardScaler()],\n",
    "    ['model', RidgeCV(alphas=10**(np.linspace(-1, 5, 50)), store_cv_results=True)],\n",
    "])\n",
    "ridge_cv.fit(train_X, train_y)\n",
    "print(f\"Ridge-CV chosen regularization: {ridge_cv['model'].alpha_:.3f}\")\n",
    "print(f\"Coefficients: {ridge_cv['model'].coef_.round(3)}\")\n",
    "mlba.regressionSummary(y_true=holdout_y, y_pred=ridge_cv.predict(holdout_X))"
   ]
  },
  {
   "cell_type": "markdown",
   "id": "baefd417",
   "metadata": {},
   "source": [
    " Partial output"
   ]
  },
  {
   "cell_type": "markdown",
   "id": "9f447b40",
   "metadata": {},
   "source": [
    " \n",
    "Note that we don't specify the cross-validation folds for ridge regression. This is due \n",
    "to the fact that `RidgeCV` has an efficient and fast implementation that uses leave-one-out\n",
    "cross-validation by default. "
   ]
  },
  {
   "cell_type": "markdown",
   "id": "9779a190",
   "metadata": {},
   "source": [
    " Ridge regression"
   ]
  },
  {
   "cell_type": "code",
   "execution_count": 42,
   "id": "eb74e148",
   "metadata": {
    "execution": {
     "iopub.execute_input": "2024-11-23T14:13:50.500965Z",
     "iopub.status.busy": "2024-11-23T14:13:50.500880Z",
     "iopub.status.idle": "2024-11-23T14:13:50.505861Z",
     "shell.execute_reply": "2024-11-23T14:13:50.505597Z"
    }
   },
   "outputs": [
    {
     "name": "stdout",
     "output_type": "stream",
     "text": [
      "Coefficients: [-2169.536  -638.497   926.399    24.802    56.422  -715.318   -27.83\n",
      "   756.072   958.937  1072.789   878.556]\n",
      "\n",
      "Regression statistics\n",
      "\n",
      "Mean Error (ME) : 0.3894\n",
      "Root Mean Squared Error (RMSE) : 1350.0098\n",
      "Mean Absolute Error (MAE) : 1025.4543\n",
      "Mean Percentage Error (MPE) : -1.2010\n",
      "Mean Absolute Percentage Error (MAPE) : 9.0411\n"
     ]
    }
   ],
   "source": [
    "bayesianRidge = Pipeline([\n",
    "    ['normalize', StandardScaler()],\n",
    "    ['model', BayesianRidge()],\n",
    "])\n",
    "bayesianRidge.fit(train_X, train_y)\n",
    "print(f\"Coefficients: {bayesianRidge['model'].coef_.round(3)}\")\n",
    "mlba.regressionSummary(y_true=holdout_y, y_pred=bayesianRidge.predict(holdout_X))"
   ]
  },
  {
   "cell_type": "markdown",
   "id": "d20fa254",
   "metadata": {},
   "source": [
    " Partial output"
   ]
  },
  {
   "cell_type": "code",
   "execution_count": 43,
   "id": "745675b7",
   "metadata": {
    "execution": {
     "iopub.execute_input": "2024-11-23T14:13:50.507022Z",
     "iopub.status.busy": "2024-11-23T14:13:50.506952Z",
     "iopub.status.idle": "2024-11-23T14:13:50.964641Z",
     "shell.execute_reply": "2024-11-23T14:13:50.964347Z"
    }
   },
   "outputs": [
    {
     "data": {
      "image/png": "[encoded data removed]",
      "text/plain": [
       "<Figure size 1000x400 with 2 Axes>"
      ]
     },
     "metadata": {},
     "output_type": "display_data"
    }
   ],
   "source": [
    "def plotRegularizationPath(ax, pipeline):\n",
    "    model = pipeline['model']\n",
    "    best_alpha = model.alpha_\n",
    "    if isinstance(model, RidgeCV):\n",
    "        df = pd.DataFrame({\n",
    "            'alpha': model.alphas,\n",
    "            'mean': np.sqrt(model.cv_results_).mean(axis=0),\n",
    "            'std': np.sqrt(model.cv_results_).std(axis=0),\n",
    "        })\n",
    "    else:\n",
    "        df = pd.DataFrame({\n",
    "            'alpha': model.alphas_,\n",
    "            'mean': np.sqrt(model.mse_path_).mean(axis=1),\n",
    "            'std': np.sqrt(model.mse_path_).std(axis=1),\n",
    "        })\n",
    "    best_score = df['mean'][df['alpha'] == best_alpha]\n",
    "    df.plot(x='alpha', y='mean', yerr='std', logx=True, ax=ax)\n",
    "    ax.plot(model.alpha_, best_score, 'ro')\n",
    "\n",
    "fig, axes = plt.subplots(ncols=2, figsize=(10, 4))\n",
    "plotRegularizationPath(axes[0], ridge_cv)\n",
    "plotRegularizationPath(axes[1], lasso_cv)\n",
    "plt.tight_layout()\n",
    "plt.show()"
   ]
  },
  {
   "cell_type": "code",
   "execution_count": 44,
   "id": "f52ea47a",
   "metadata": {
    "execution": {
     "iopub.execute_input": "2024-11-23T14:13:50.965779Z",
     "iopub.status.busy": "2024-11-23T14:13:50.965695Z",
     "iopub.status.idle": "2024-11-23T14:13:51.037187Z",
     "shell.execute_reply": "2024-11-23T14:13:51.036929Z"
    }
   },
   "outputs": [
    {
     "data": {
      "text/html": [
       "<div>\n",
       "<style scoped>\n",
       "    .dataframe tbody tr th:only-of-type {\n",
       "        vertical-align: middle;\n",
       "    }\n",
       "\n",
       "    .dataframe tbody tr th {\n",
       "        vertical-align: top;\n",
       "    }\n",
       "\n",
       "    .dataframe thead th {\n",
       "        text-align: right;\n",
       "    }\n",
       "</style>\n",
       "<table border=\"1\" class=\"dataframe\">\n",
       "  <thead>\n",
       "    <tr style=\"text-align: right;\">\n",
       "      <th></th>\n",
       "      <th>CV_RMSE</th>\n",
       "      <th>CV_MAE</th>\n",
       "      <th>train_RMSE</th>\n",
       "      <th>train_MAE</th>\n",
       "      <th>holdout_RMSE</th>\n",
       "      <th>holdout_MAE</th>\n",
       "      <th>n_features</th>\n",
       "    </tr>\n",
       "  </thead>\n",
       "  <tbody>\n",
       "    <tr>\n",
       "      <th>Full</th>\n",
       "      <td>1515.0</td>\n",
       "      <td>1053.0</td>\n",
       "      <td>1340.0</td>\n",
       "      <td>988.0</td>\n",
       "      <td>1355.0</td>\n",
       "      <td>1028.0</td>\n",
       "      <td>11.0</td>\n",
       "    </tr>\n",
       "    <tr>\n",
       "      <th>Exhaustive</th>\n",
       "      <td>1479.0</td>\n",
       "      <td>1068.0</td>\n",
       "      <td>1432.0</td>\n",
       "      <td>1035.0</td>\n",
       "      <td>1366.0</td>\n",
       "      <td>1027.0</td>\n",
       "      <td>5.0</td>\n",
       "    </tr>\n",
       "    <tr>\n",
       "      <th>Forward</th>\n",
       "      <td>1479.0</td>\n",
       "      <td>1068.0</td>\n",
       "      <td>1432.0</td>\n",
       "      <td>1035.0</td>\n",
       "      <td>1366.0</td>\n",
       "      <td>1027.0</td>\n",
       "      <td>5.0</td>\n",
       "    </tr>\n",
       "    <tr>\n",
       "      <th>Backward</th>\n",
       "      <td>1482.0</td>\n",
       "      <td>1124.0</td>\n",
       "      <td>1426.0</td>\n",
       "      <td>1081.0</td>\n",
       "      <td>1493.0</td>\n",
       "      <td>1133.0</td>\n",
       "      <td>9.0</td>\n",
       "    </tr>\n",
       "    <tr>\n",
       "      <th>Stepwise</th>\n",
       "      <td>1479.0</td>\n",
       "      <td>1068.0</td>\n",
       "      <td>1432.0</td>\n",
       "      <td>1035.0</td>\n",
       "      <td>1366.0</td>\n",
       "      <td>1027.0</td>\n",
       "      <td>5.0</td>\n",
       "    </tr>\n",
       "    <tr>\n",
       "      <th>Ridge</th>\n",
       "      <td>1487.0</td>\n",
       "      <td>1056.0</td>\n",
       "      <td>1375.0</td>\n",
       "      <td>1007.0</td>\n",
       "      <td>1348.0</td>\n",
       "      <td>1024.0</td>\n",
       "      <td>11.0</td>\n",
       "    </tr>\n",
       "    <tr>\n",
       "      <th>Lasso</th>\n",
       "      <td>1514.0</td>\n",
       "      <td>1080.0</td>\n",
       "      <td>1443.0</td>\n",
       "      <td>1039.0</td>\n",
       "      <td>1395.0</td>\n",
       "      <td>1052.0</td>\n",
       "      <td>5.0</td>\n",
       "    </tr>\n",
       "  </tbody>\n",
       "</table>\n",
       "</div>"
      ],
      "text/plain": [
       "            CV_RMSE  CV_MAE  train_RMSE  train_MAE  holdout_RMSE  holdout_MAE  \\\n",
       "Full         1515.0  1053.0      1340.0      988.0        1355.0       1028.0   \n",
       "Exhaustive   1479.0  1068.0      1432.0     1035.0        1366.0       1027.0   \n",
       "Forward      1479.0  1068.0      1432.0     1035.0        1366.0       1027.0   \n",
       "Backward     1482.0  1124.0      1426.0     1081.0        1493.0       1133.0   \n",
       "Stepwise     1479.0  1068.0      1432.0     1035.0        1366.0       1027.0   \n",
       "Ridge        1487.0  1056.0      1375.0     1007.0        1348.0       1024.0   \n",
       "Lasso        1514.0  1080.0      1443.0     1039.0        1395.0       1052.0   \n",
       "\n",
       "            n_features  \n",
       "Full              11.0  \n",
       "Exhaustive         5.0  \n",
       "Forward            5.0  \n",
       "Backward           9.0  \n",
       "Stepwise           5.0  \n",
       "Ridge             11.0  \n",
       "Lasso              5.0  "
      ]
     },
     "execution_count": 44,
     "metadata": {},
     "output_type": "execute_result"
    }
   ],
   "source": [
    "efs_model = LinearRegression()\n",
    "efs_model.fit(train_X[efs_subset], train_y)\n",
    "\n",
    "sfs_stepwise_model = LinearRegression()\n",
    "sfs_stepwise_model.fit(train_X[stepwise_subset], train_y)\n",
    "\n",
    "sfs_forward_model = LinearRegression()\n",
    "sfs_forward_model.fit(train_X[forward_subset], train_y)\n",
    "\n",
    "sfs_backward_model = LinearRegression()\n",
    "sfs_backward_model.fit(train_X[backward_subset], train_y)\n",
    "\n",
    "# Create tuned models for lasso and ridge\n",
    "lasso_opt = Pipeline([\n",
    "    ['normalize', StandardScaler()],\n",
    "    ['model', Lasso(alpha=lasso_cv['model'].alpha_)],\n",
    "])\n",
    "\n",
    "ridge_opt = Pipeline([\n",
    "    ['normalize', StandardScaler()],\n",
    "    ['model', Ridge(alpha=ridge_cv['model'].alpha_)],\n",
    "])\n",
    "\n",
    "\n",
    "def metrics(model, train_X, train_y, holdout_X, holdout_y, *, subset=None):\n",
    "    if subset is not None:\n",
    "        train_X = train_X[subset]\n",
    "        holdout_X = holdout_X[subset]\n",
    "        n_features = len(train_X.columns)\n",
    "        model.fit(train_X, train_y)\n",
    "    else:\n",
    "        model.fit(train_X, train_y)\n",
    "        if isinstance(model, Pipeline):\n",
    "            n_features = sum(model['model'].coef_ != 0)\n",
    "        else:\n",
    "            n_features = sum(model.coef_ != 0)\n",
    "    scoring = {'neg_RMSE': 'neg_root_mean_squared_error',\n",
    "               'neg_MAE': 'neg_mean_absolute_error'}\n",
    "    np.random.seed(123)\n",
    "    scores = cross_validate(model, train_X, train_y, cv=5, scoring=scoring)\n",
    "\n",
    "    train_pred = model.predict(train_X)\n",
    "    holdout_pred = model.predict(holdout_X)\n",
    "    return {\n",
    "        'CV_RMSE': - scores['test_neg_RMSE'].mean(),\n",
    "        'CV_MAE': - scores['test_neg_MAE'].mean(),\n",
    "        'train_RMSE': np.sqrt(np.mean((train_y - train_pred)**2)),\n",
    "        'train_MAE': np.mean(np.abs(train_y - train_pred)),\n",
    "        'holdout_RMSE': np.sqrt(np.mean((holdout_y - holdout_pred)**2)),\n",
    "        'holdout_MAE': np.mean(np.abs(holdout_y - holdout_pred)),\n",
    "        'n_features': n_features,\n",
    "    }\n",
    "pd.DataFrame({\n",
    "    'Full': metrics(car_lm, train_X, train_y, holdout_X, holdout_y),\n",
    "    'Exhaustive': metrics(efs_model, train_X, train_y, holdout_X, holdout_y, subset=efs_subset),\n",
    "    'Forward': metrics(sfs_forward_model, train_X, train_y, holdout_X, holdout_y, subset=forward_subset),\n",
    "    'Backward': metrics(sfs_backward_model, train_X, train_y, holdout_X, holdout_y, subset=backward_subset),\n",
    "    'Stepwise': metrics(sfs_stepwise_model, train_X, train_y, holdout_X, holdout_y, subset=stepwise_subset),\n",
    "    'Ridge': metrics(ridge_opt, train_X, train_y, holdout_X, holdout_y),\n",
    "    'Lasso': metrics(lasso_opt, train_X, train_y, holdout_X, holdout_y),\n",
    "}).transpose().round(0)"
   ]
  },
  {
   "cell_type": "code",
   "execution_count": 45,
   "id": "c827eab5",
   "metadata": {
    "execution": {
     "iopub.execute_input": "2024-11-23T14:13:51.038507Z",
     "iopub.status.busy": "2024-11-23T14:13:51.038424Z",
     "iopub.status.idle": "2024-11-23T14:13:51.057864Z",
     "shell.execute_reply": "2024-11-23T14:13:51.057636Z"
    }
   },
   "outputs": [
    {
     "data": {
      "text/html": [
       "<table class=\"simpletable\">\n",
       "<caption>OLS Regression Results</caption>\n",
       "<tr>\n",
       "  <th>Dep. Variable:</th>          <td>Price</td>      <th>  R-squared:         </th> <td>   0.874</td> \n",
       "</tr>\n",
       "<tr>\n",
       "  <th>Model:</th>                   <td>OLS</td>       <th>  Adj. R-squared:    </th> <td>   0.872</td> \n",
       "</tr>\n",
       "<tr>\n",
       "  <th>Method:</th>             <td>Least Squares</td>  <th>  F-statistic:       </th> <td>   371.6</td> \n",
       "</tr>\n",
       "<tr>\n",
       "  <th>Date:</th>             <td>Sat, 23 Nov 2024</td> <th>  Prob (F-statistic):</th> <td>2.58e-256</td>\n",
       "</tr>\n",
       "<tr>\n",
       "  <th>Time:</th>                 <td>11:13:13</td>     <th>  Log-Likelihood:    </th> <td> -5171.7</td> \n",
       "</tr>\n",
       "<tr>\n",
       "  <th>No. Observations:</th>      <td>   600</td>      <th>  AIC:               </th> <td>1.037e+04</td>\n",
       "</tr>\n",
       "<tr>\n",
       "  <th>Df Residuals:</th>          <td>   588</td>      <th>  BIC:               </th> <td>1.042e+04</td>\n",
       "</tr>\n",
       "<tr>\n",
       "  <th>Df Model:</th>              <td>    11</td>      <th>                     </th>     <td> </td>    \n",
       "</tr>\n",
       "<tr>\n",
       "  <th>Covariance Type:</th>      <td>nonrobust</td>    <th>                     </th>     <td> </td>    \n",
       "</tr>\n",
       "</table>\n",
       "<table class=\"simpletable\">\n",
       "<tr>\n",
       "              <td></td>                <th>coef</th>     <th>std err</th>      <th>t</th>      <th>P>|t|</th>  <th>[0.025</th>    <th>0.975]</th>  \n",
       "</tr>\n",
       "<tr>\n",
       "  <th>Intercept</th>                <td>-1956.3598</td> <td> 1939.385</td> <td>   -1.009</td> <td> 0.314</td> <td>-5765.325</td> <td> 1852.606</td>\n",
       "</tr>\n",
       "<tr>\n",
       "  <th>Fuel_Type_Diesel[T.True]</th> <td> 3875.7780</td> <td>  770.158</td> <td>    5.032</td> <td> 0.000</td> <td> 2363.182</td> <td> 5388.374</td>\n",
       "</tr>\n",
       "<tr>\n",
       "  <th>Fuel_Type_Petrol[T.True]</th> <td> 2897.5325</td> <td>  547.021</td> <td>    5.297</td> <td> 0.000</td> <td> 1823.180</td> <td> 3971.885</td>\n",
       "</tr>\n",
       "<tr>\n",
       "  <th>Age_08_04</th>                <td> -130.7928</td> <td>    4.813</td> <td>  -27.173</td> <td> 0.000</td> <td> -140.246</td> <td> -121.339</td>\n",
       "</tr>\n",
       "<tr>\n",
       "  <th>KM</th>                       <td>   -0.0183</td> <td>    0.002</td> <td>   -8.052</td> <td> 0.000</td> <td>   -0.023</td> <td>   -0.014</td>\n",
       "</tr>\n",
       "<tr>\n",
       "  <th>HP</th>                       <td>   64.8345</td> <td>    8.247</td> <td>    7.862</td> <td> 0.000</td> <td>   48.637</td> <td>   81.032</td>\n",
       "</tr>\n",
       "<tr>\n",
       "  <th>Met_Color</th>                <td>   54.2823</td> <td>  120.096</td> <td>    0.452</td> <td> 0.651</td> <td> -181.587</td> <td>  290.152</td>\n",
       "</tr>\n",
       "<tr>\n",
       "  <th>Automatic</th>                <td>  298.0097</td> <td>  276.402</td> <td>    1.078</td> <td> 0.281</td> <td> -244.847</td> <td>  840.866</td>\n",
       "</tr>\n",
       "<tr>\n",
       "  <th>CC</th>                       <td>   -4.2514</td> <td>    0.842</td> <td>   -5.048</td> <td> 0.000</td> <td>   -5.905</td> <td>   -2.597</td>\n",
       "</tr>\n",
       "<tr>\n",
       "  <th>Doors</th>                    <td>  -25.8889</td> <td>   63.634</td> <td>   -0.407</td> <td> 0.684</td> <td> -150.867</td> <td>   99.089</td>\n",
       "</tr>\n",
       "<tr>\n",
       "  <th>Quarterly_Tax</th>            <td>   18.0132</td> <td>    2.670</td> <td>    6.748</td> <td> 0.000</td> <td>   12.770</td> <td>   23.256</td>\n",
       "</tr>\n",
       "<tr>\n",
       "  <th>Weight</th>                   <td>   15.5473</td> <td>    1.766</td> <td>    8.803</td> <td> 0.000</td> <td>   12.078</td> <td>   19.016</td>\n",
       "</tr>\n",
       "</table>\n",
       "<table class=\"simpletable\">\n",
       "<tr>\n",
       "  <th>Omnibus:</th>       <td>97.514</td> <th>  Durbin-Watson:     </th> <td>   1.924</td> \n",
       "</tr>\n",
       "<tr>\n",
       "  <th>Prob(Omnibus):</th> <td> 0.000</td> <th>  Jarque-Bera (JB):  </th> <td> 778.538</td> \n",
       "</tr>\n",
       "<tr>\n",
       "  <th>Skew:</th>          <td>-0.440</td> <th>  Prob(JB):          </th> <td>8.76e-170</td>\n",
       "</tr>\n",
       "<tr>\n",
       "  <th>Kurtosis:</th>      <td> 8.511</td> <th>  Cond. No.          </th> <td>2.53e+06</td> \n",
       "</tr>\n",
       "</table><br/><br/>Notes:<br/>[1] Standard Errors assume that the covariance matrix of the errors is correctly specified.<br/>[2] The condition number is large, 2.53e+06. This might indicate that there are<br/>strong multicollinearity or other numerical problems."
      ],
      "text/latex": [
       "\\begin{center}\n",
       "\\begin{tabular}{lclc}\n",
       "\\toprule\n",
       "\\textbf{Dep. Variable:}             &      Price       & \\textbf{  R-squared:         } &     0.874   \\\\\n",
       "\\textbf{Model:}                     &       OLS        & \\textbf{  Adj. R-squared:    } &     0.872   \\\\\n",
       "\\textbf{Method:}                    &  Least Squares   & \\textbf{  F-statistic:       } &     371.6   \\\\\n",
       "\\textbf{Date:}                      & Sat, 23 Nov 2024 & \\textbf{  Prob (F-statistic):} & 2.58e-256   \\\\\n",
       "\\textbf{Time:}                      &     11:13:13     & \\textbf{  Log-Likelihood:    } &   -5171.7   \\\\\n",
       "\\textbf{No. Observations:}          &         600      & \\textbf{  AIC:               } & 1.037e+04   \\\\\n",
       "\\textbf{Df Residuals:}              &         588      & \\textbf{  BIC:               } & 1.042e+04   \\\\\n",
       "\\textbf{Df Model:}                  &          11      & \\textbf{                     } &             \\\\\n",
       "\\textbf{Covariance Type:}           &    nonrobust     & \\textbf{                     } &             \\\\\n",
       "\\bottomrule\n",
       "\\end{tabular}\n",
       "\\begin{tabular}{lcccccc}\n",
       "                                    & \\textbf{coef} & \\textbf{std err} & \\textbf{t} & \\textbf{P$> |$t$|$} & \\textbf{[0.025} & \\textbf{0.975]}  \\\\\n",
       "\\midrule\n",
       "\\textbf{Intercept}                  &   -1956.3598  &     1939.385     &    -1.009  &         0.314        &    -5765.325    &     1852.606     \\\\\n",
       "\\textbf{Fuel\\_Type\\_Diesel[T.True]} &    3875.7780  &      770.158     &     5.032  &         0.000        &     2363.182    &     5388.374     \\\\\n",
       "\\textbf{Fuel\\_Type\\_Petrol[T.True]} &    2897.5325  &      547.021     &     5.297  &         0.000        &     1823.180    &     3971.885     \\\\\n",
       "\\textbf{Age\\_08\\_04}                &    -130.7928  &        4.813     &   -27.173  &         0.000        &     -140.246    &     -121.339     \\\\\n",
       "\\textbf{KM}                         &      -0.0183  &        0.002     &    -8.052  &         0.000        &       -0.023    &       -0.014     \\\\\n",
       "\\textbf{HP}                         &      64.8345  &        8.247     &     7.862  &         0.000        &       48.637    &       81.032     \\\\\n",
       "\\textbf{Met\\_Color}                 &      54.2823  &      120.096     &     0.452  &         0.651        &     -181.587    &      290.152     \\\\\n",
       "\\textbf{Automatic}                  &     298.0097  &      276.402     &     1.078  &         0.281        &     -244.847    &      840.866     \\\\\n",
       "\\textbf{CC}                         &      -4.2514  &        0.842     &    -5.048  &         0.000        &       -5.905    &       -2.597     \\\\\n",
       "\\textbf{Doors}                      &     -25.8889  &       63.634     &    -0.407  &         0.684        &     -150.867    &       99.089     \\\\\n",
       "\\textbf{Quarterly\\_Tax}             &      18.0132  &        2.670     &     6.748  &         0.000        &       12.770    &       23.256     \\\\\n",
       "\\textbf{Weight}                     &      15.5473  &        1.766     &     8.803  &         0.000        &       12.078    &       19.016     \\\\\n",
       "\\bottomrule\n",
       "\\end{tabular}\n",
       "\\begin{tabular}{lclc}\n",
       "\\textbf{Omnibus:}       & 97.514 & \\textbf{  Durbin-Watson:     } &     1.924  \\\\\n",
       "\\textbf{Prob(Omnibus):} &  0.000 & \\textbf{  Jarque-Bera (JB):  } &   778.538  \\\\\n",
       "\\textbf{Skew:}          & -0.440 & \\textbf{  Prob(JB):          } & 8.76e-170  \\\\\n",
       "\\textbf{Kurtosis:}      &  8.511 & \\textbf{  Cond. No.          } &  2.53e+06  \\\\\n",
       "\\bottomrule\n",
       "\\end{tabular}\n",
       "%\\caption{OLS Regression Results}\n",
       "\\end{center}\n",
       "\n",
       "Notes: \\newline\n",
       " [1] Standard Errors assume that the covariance matrix of the errors is correctly specified. \\newline\n",
       " [2] The condition number is large, 2.53e+06. This might indicate that there are \\newline\n",
       " strong multicollinearity or other numerical problems."
      ],
      "text/plain": [
       "<class 'statsmodels.iolib.summary.Summary'>\n",
       "\"\"\"\n",
       "                            OLS Regression Results                            \n",
       "==============================================================================\n",
       "Dep. Variable:                  Price   R-squared:                       0.874\n",
       "Model:                            OLS   Adj. R-squared:                  0.872\n",
       "Method:                 Least Squares   F-statistic:                     371.6\n",
       "Date:                Sat, 23 Nov 2024   Prob (F-statistic):          2.58e-256\n",
       "Time:                        11:13:13   Log-Likelihood:                -5171.7\n",
       "No. Observations:                 600   AIC:                         1.037e+04\n",
       "Df Residuals:                     588   BIC:                         1.042e+04\n",
       "Df Model:                          11                                         \n",
       "Covariance Type:            nonrobust                                         \n",
       "============================================================================================\n",
       "                               coef    std err          t      P>|t|      [0.025      0.975]\n",
       "--------------------------------------------------------------------------------------------\n",
       "Intercept                -1956.3598   1939.385     -1.009      0.314   -5765.325    1852.606\n",
       "Fuel_Type_Diesel[T.True]  3875.7780    770.158      5.032      0.000    2363.182    5388.374\n",
       "Fuel_Type_Petrol[T.True]  2897.5325    547.021      5.297      0.000    1823.180    3971.885\n",
       "Age_08_04                 -130.7928      4.813    -27.173      0.000    -140.246    -121.339\n",
       "KM                          -0.0183      0.002     -8.052      0.000      -0.023      -0.014\n",
       "HP                          64.8345      8.247      7.862      0.000      48.637      81.032\n",
       "Met_Color                   54.2823    120.096      0.452      0.651    -181.587     290.152\n",
       "Automatic                  298.0097    276.402      1.078      0.281    -244.847     840.866\n",
       "CC                          -4.2514      0.842     -5.048      0.000      -5.905      -2.597\n",
       "Doors                      -25.8889     63.634     -0.407      0.684    -150.867      99.089\n",
       "Quarterly_Tax               18.0132      2.670      6.748      0.000      12.770      23.256\n",
       "Weight                      15.5473      1.766      8.803      0.000      12.078      19.016\n",
       "==============================================================================\n",
       "Omnibus:                       97.514   Durbin-Watson:                   1.924\n",
       "Prob(Omnibus):                  0.000   Jarque-Bera (JB):              778.538\n",
       "Skew:                          -0.440   Prob(JB):                    8.76e-170\n",
       "Kurtosis:                       8.511   Cond. No.                     2.53e+06\n",
       "==============================================================================\n",
       "\n",
       "Notes:\n",
       "[1] Standard Errors assume that the covariance matrix of the errors is correctly specified.\n",
       "[2] The condition number is large, 2.53e+06. This might indicate that there are\n",
       "strong multicollinearity or other numerical problems.\n",
       "\"\"\""
      ]
     },
     "execution_count": 45,
     "metadata": {},
     "output_type": "execute_result"
    }
   ],
   "source": [
    "# run a linear regression of Price on the remaining 11 predictors in the training set\n",
    "train_df = train_X.join(train_y)\n",
    "\n",
    "predictors = train_X.columns\n",
    "formula = 'Price ~ ' + ' + '.join(predictors)\n",
    "\n",
    "car_lm = sm.ols(formula=formula, data=train_df).fit()\n",
    "car_lm.summary()"
   ]
  }
 ],
 "metadata": {
  "language_info": {
   "codemirror_mode": {
    "name": "ipython",
    "version": 3
   },
   "file_extension": ".py",
   "mimetype": "text/x-python",
   "name": "python",
   "nbconvert_exporter": "python",
   "pygments_lexer": "ipython3",
   "version": "3.11.8"
  }
 },
 "nbformat": 4,
 "nbformat_minor": 5
}
